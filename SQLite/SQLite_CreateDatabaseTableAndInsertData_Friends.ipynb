{
 "cells": [
  {
   "cell_type": "markdown",
   "id": "17449a2b",
   "metadata": {},
   "source": [
    "# SQLite3\n",
    "\n",
    "> \"La libreria sqlite3 implementa una interfaz compatible de Python a SQLite, una base de datos relacional en proceso. SQLite está diseñada para integrarse en aplicaciones, a diferencia de MySQL, PostgreSQL u Oracle es rápida, rigurosamente probada y flexible, lo que la hace adecuada para crear prototipos y despliegue de producción para algunas aplicaciones.\""
   ]
  },
  {
   "cell_type": "code",
   "execution_count": 1,
   "id": "61680676",
   "metadata": {},
   "outputs": [],
   "source": [
    "import sqlite3\n",
    "import os"
   ]
  },
  {
   "cell_type": "markdown",
   "id": "87e0f032",
   "metadata": {},
   "source": [
    "## SQlite en acción\n",
    "\n",
    "Para extraer información se usar SQLite, esto para estar inmersos en el mundo de la información, limpieza y transformaciones que podrian hacerse usando lenguajes de programación como en este caso Python\n",
    "\n",
    "\n",
    "A continuacion se vera como crear una base de datos y una tabla.\n",
    "\n",
    "Antes de comenzar habra que considerar estos puntos importantes:\n",
    "\n",
    "1. Para correr este script se necesita tener instalado SQLite no necesariamente el DB Browser pero ayudara de guia rapida\n",
    "2. El proposito de este notebook es mostrar como  hacer la conexion a una base de datos, crear una tabla e insertar registros por linea de comando y por diferentes archivos\n",
    "3. Se puede usar diferentes metodos para leer, insertar y cargar datos a la base de datos, por facilidad se sigue uno propio"
   ]
  },
  {
   "cell_type": "code",
   "execution_count": 2,
   "id": "59c76c02",
   "metadata": {},
   "outputs": [
    {
     "name": "stdout",
     "output_type": "stream",
     "text": [
      "Conexión satisfactoria\n"
     ]
    }
   ],
   "source": [
    "name_db = 'DataBase_Friends.db'\n",
    "try:\n",
    "    con = sqlite3.connect(os.getcwd() + '\\\\Database\\\\' + name_db )\n",
    "    print('Conexión satisfactoria') # Crea la base de datos si no existe\n",
    "except:\n",
    "    print('Ocurrio un error')"
   ]
  },
  {
   "cell_type": "code",
   "execution_count": 3,
   "id": "1cdeb8a3",
   "metadata": {},
   "outputs": [
    {
     "data": {
      "text/plain": [
       "<sqlite3.Connection at 0x210b1738340>"
      ]
     },
     "execution_count": 3,
     "metadata": {},
     "output_type": "execute_result"
    }
   ],
   "source": [
    "con"
   ]
  },
  {
   "cell_type": "code",
   "execution_count": 4,
   "id": "c3a37551",
   "metadata": {},
   "outputs": [],
   "source": [
    "con.close() #No olvidemos cerrar la conexion a la base de datos"
   ]
  },
  {
   "cell_type": "markdown",
   "id": "3cd45665",
   "metadata": {},
   "source": [
    "## Creando una tabla dentro de nuestra base de datos\n",
    "\n",
    "Crearemos una tabla en nuestra base de datos por comodidad crearemos una funcion que inicie la conexión"
   ]
  },
  {
   "cell_type": "code",
   "execution_count": 5,
   "id": "642bade0",
   "metadata": {},
   "outputs": [],
   "source": [
    "def SQL_conexion(path):\n",
    "    try:\n",
    "        con = sqlite3.connect(path)\n",
    "        cur = con.cursor()\n",
    "        print('Conexión satisfactoria')\n",
    "    except:\n",
    "        con,cur = 0,1\n",
    "        print('Ocurrio un error, volver a intentar o verificar ruta')\n",
    "    return con,cur"
   ]
  },
  {
   "cell_type": "code",
   "execution_count": 6,
   "id": "52d5b6a6",
   "metadata": {},
   "outputs": [
    {
     "name": "stdout",
     "output_type": "stream",
     "text": [
      "Conexión satisfactoria\n"
     ]
    }
   ],
   "source": [
    "path_db = os.getcwd() + '\\\\Database\\\\' + name_db\n",
    "con,cur = SQL_conexion(path = path_db)"
   ]
  },
  {
   "cell_type": "code",
   "execution_count": 7,
   "id": "60fb4da0",
   "metadata": {},
   "outputs": [
    {
     "name": "stdout",
     "output_type": "stream",
     "text": [
      "Se creo correctamente la tabla\n"
     ]
    }
   ],
   "source": [
    "try:\n",
    "    con.execute(\"\"\"CREATE TABLE \"Friends\"\n",
    "        (\n",
    "        \"ID\" INTEGER NOT NULL,\n",
    "        \"Nombres\" TEXT NOT NULL,\n",
    "        \"Apellidos\" TEXT,\n",
    "        \"Edad\" INTEGER,\n",
    "        PRIMARY KEY(\"ID\"));\n",
    "                \"\"\")\n",
    "    print('Se creo correctamente la tabla')\n",
    "except:\n",
    "    \n",
    "    print('Error al crear la tabla')"
   ]
  },
  {
   "cell_type": "markdown",
   "id": "45547ed1",
   "metadata": {},
   "source": [
    "Accedamos a los registros de la tabla. Aunque sabemos que debera estar vacia"
   ]
  },
  {
   "cell_type": "code",
   "execution_count": 8,
   "id": "d3bb6209",
   "metadata": {},
   "outputs": [],
   "source": [
    "for renglon in cur.execute('SELECT * FROM Friends'):\n",
    "    print(renglon)"
   ]
  },
  {
   "cell_type": "markdown",
   "id": "77099998",
   "metadata": {},
   "source": [
    "### Insertando un nuevo registro\n",
    "\n",
    "Insertando nuevos registros a nuestra base de datos"
   ]
  },
  {
   "cell_type": "code",
   "execution_count": 9,
   "id": "f5bae794",
   "metadata": {},
   "outputs": [
    {
     "name": "stdout",
     "output_type": "stream",
     "text": [
      "Registro insertado correctamente\n"
     ]
    }
   ],
   "source": [
    "try:\n",
    "    con.execute(\"\"\"INSERT INTO Friends(\"ID\",\"Nombres\",\"Apellidos\",\"Edad\")\n",
    "                VALUES (?,?,?,?)\"\"\",(1,\"Daniel\",\"Juarez\",23))\n",
    "    #comentando\n",
    "    con.commit()\n",
    "    print('Registro insertado correctamente')\n",
    "except:\n",
    "    print('No se pudo insertar registro')"
   ]
  },
  {
   "cell_type": "markdown",
   "id": "4613c1cc",
   "metadata": {},
   "source": [
    "Leyendo de nuevo la base de datos"
   ]
  },
  {
   "cell_type": "code",
   "execution_count": 10,
   "id": "29191886",
   "metadata": {},
   "outputs": [
    {
     "name": "stdout",
     "output_type": "stream",
     "text": [
      "(1, 'Daniel', 'Juarez', 23)\n"
     ]
    }
   ],
   "source": [
    "for renglon in cur.execute('SELECT * FROM Friends'):\n",
    "    print(renglon)"
   ]
  },
  {
   "cell_type": "markdown",
   "id": "d20dbdb4",
   "metadata": {},
   "source": [
    "### Insertando nuevos registros\n",
    "\n",
    "Anexando varios registros a la vez"
   ]
  },
  {
   "cell_type": "code",
   "execution_count": 11,
   "id": "64709293",
   "metadata": {},
   "outputs": [
    {
     "name": "stdout",
     "output_type": "stream",
     "text": [
      "Registros insertados correctamente\n"
     ]
    }
   ],
   "source": [
    "try:\n",
    "    data_to_add = [(2, \"Daniel\",\"Guerrero\",23),\n",
    "                   (3, \"Alfredo\",\"Avendaño\",33),\n",
    "                   (4, \"Gerardo\",\"Brito\",26),\n",
    "                   (5, \"Polo\",\"\",25)]\n",
    "\n",
    "    con.executemany(\"\"\"INSERT INTO Friends(\"ID\",\"Nombres\",\"Apellidos\",\"Edad\")\n",
    "                VALUES (?,?,?,?)\"\"\",data_to_add)\n",
    "    #comentando\n",
    "    con.commit()\n",
    "    print('Registros insertados correctamente')\n",
    "except:\n",
    "    print('No se pudo insertar registro')\n"
   ]
  },
  {
   "cell_type": "markdown",
   "id": "3d41188d",
   "metadata": {},
   "source": [
    "Leyendo de nuevo la base de datos"
   ]
  },
  {
   "cell_type": "code",
   "execution_count": 12,
   "id": "5b80359f",
   "metadata": {},
   "outputs": [
    {
     "name": "stdout",
     "output_type": "stream",
     "text": [
      "(1, 'Daniel', 'Juarez', 23)\n",
      "(2, 'Daniel', 'Guerrero', 23)\n",
      "(3, 'Alfredo', 'Avendaño', 33)\n",
      "(4, 'Gerardo', 'Brito', 26)\n",
      "(5, 'Polo', '', 25)\n"
     ]
    }
   ],
   "source": [
    "for renglon in cur.execute('SELECT * FROM Friends'):\n",
    "    print(renglon)"
   ]
  },
  {
   "cell_type": "markdown",
   "id": "8ccc1a79",
   "metadata": {},
   "source": [
    "## Agregando registros de un archivo csv\n",
    "\n",
    "Veamos los registros que se tienen en el archivo **Friends_toAdd.csv**"
   ]
  },
  {
   "cell_type": "code",
   "execution_count": 13,
   "id": "b9de1ccd",
   "metadata": {},
   "outputs": [
    {
     "name": "stdout",
     "output_type": "stream",
     "text": [
      "['id_amigo', 'nombres', 'apellidos', 'edad']\n",
      "['6', 'Antonio', 'Serrano Vaaldez', '25']\n",
      "['7', 'Luis', 'Rodriguez', '26']\n",
      "['8', 'Luis Armando', ' Ballesteros', '36']\n",
      "['9', 'Gustavo', '', '46']\n",
      "['10', 'Jared', 'Garcia', '250']\n",
      "['11', 'Carlos', 'Balbuena', '26']\n",
      "['12', 'Pablo', 'Sanchez', '27']\n",
      "['13', 'Luis', 'Rodriguez', '26']\n",
      "['14', 'Leon', 'Scott', '27']\n",
      "['15', 'Chris', 'Redfield', '35']\n",
      "['16', 'Claire', 'Redfield', '29']\n",
      "['17', 'Scott', 'Adkins', '35']\n"
     ]
    }
   ],
   "source": [
    "import csv\n",
    "f = open(os.getcwd()+'\\Database\\Friends_toAdd.csv')\n",
    "reader_csv = csv.reader(f)\n",
    "\n",
    "for row_csv in reader_csv:\n",
    "    print(row_csv)"
   ]
  },
  {
   "cell_type": "code",
   "execution_count": 14,
   "id": "32135653",
   "metadata": {},
   "outputs": [
    {
     "name": "stdout",
     "output_type": "stream",
     "text": [
      "Lectura de header\n",
      "6 Antonio Serrano Vaaldez 25\n",
      "Registro insertado correctamente\n",
      "7 Luis Rodriguez 26\n",
      "Registro insertado correctamente\n",
      "8 Luis Armando  Ballesteros 36\n",
      "Registro insertado correctamente\n",
      "9 Gustavo  46\n",
      "Registro insertado correctamente\n",
      "10 Jared Garcia 250\n",
      "Registro insertado correctamente\n",
      "11 Carlos Balbuena 26\n",
      "Registro insertado correctamente\n",
      "12 Pablo Sanchez 27\n",
      "Registro insertado correctamente\n",
      "13 Luis Rodriguez 26\n",
      "Registro insertado correctamente\n",
      "14 Leon Scott 27\n",
      "Registro insertado correctamente\n",
      "15 Chris Redfield 35\n",
      "Registro insertado correctamente\n",
      "16 Claire Redfield 29\n",
      "Registro insertado correctamente\n",
      "17 Scott Adkins 35\n",
      "Registro insertado correctamente\n"
     ]
    }
   ],
   "source": [
    "f = open(os.getcwd()+'\\Database\\Friends_toAdd.csv')\n",
    "reader_csv = csv.reader(f)\n",
    "header = 0\n",
    "for row_csv in reader_csv:\n",
    "    if header == 0:\n",
    "        print(\"Lectura de header\")\n",
    "        header = 1\n",
    "    else:\n",
    "        try:\n",
    "            print(row_csv[0],row_csv[1],row_csv[2],row_csv[3])\n",
    "            con.execute(\"\"\"INSERT INTO Friends(\"ID\",\"Nombres\",\"Apellidos\",\"Edad\")\n",
    "                        VALUES (?,?,?,?)\"\"\",(row_csv[0],row_csv[1],row_csv[2],row_csv[3]))\n",
    "            con.commit()\n",
    "            print('Registro insertado correctamente')\n",
    "        except Exception as e:\n",
    "            print(e)"
   ]
  },
  {
   "cell_type": "markdown",
   "id": "87193c17",
   "metadata": {},
   "source": [
    "Verifiquemos los registros agregados"
   ]
  },
  {
   "cell_type": "code",
   "execution_count": 15,
   "id": "d29a58b8",
   "metadata": {},
   "outputs": [
    {
     "name": "stdout",
     "output_type": "stream",
     "text": [
      "(1, 'Daniel', 'Juarez', 23)\n",
      "(2, 'Daniel', 'Guerrero', 23)\n",
      "(3, 'Alfredo', 'Avendaño', 33)\n",
      "(4, 'Gerardo', 'Brito', 26)\n",
      "(5, 'Polo', '', 25)\n",
      "(6, 'Antonio', 'Serrano Vaaldez', 25)\n",
      "(7, 'Luis', 'Rodriguez', 26)\n",
      "(8, 'Luis Armando', ' Ballesteros', 36)\n",
      "(9, 'Gustavo', '', 46)\n",
      "(10, 'Jared', 'Garcia', 250)\n",
      "(11, 'Carlos', 'Balbuena', 26)\n",
      "(12, 'Pablo', 'Sanchez', 27)\n",
      "(13, 'Luis', 'Rodriguez', 26)\n",
      "(14, 'Leon', 'Scott', 27)\n",
      "(15, 'Chris', 'Redfield', 35)\n",
      "(16, 'Claire', 'Redfield', 29)\n",
      "(17, 'Scott', 'Adkins', 35)\n"
     ]
    }
   ],
   "source": [
    "for renglon in cur.execute('SELECT * FROM Friends'):\n",
    "    print(renglon)"
   ]
  },
  {
   "cell_type": "markdown",
   "id": "1772d9ec",
   "metadata": {},
   "source": [
    "### Múltiples consultas "
   ]
  },
  {
   "cell_type": "code",
   "execution_count": 16,
   "id": "40030b7d",
   "metadata": {},
   "outputs": [
    {
     "name": "stdout",
     "output_type": "stream",
     "text": [
      "(7, 'Luis', 'Rodriguez', 26)\n",
      "(8, 'Luis Armando', ' Ballesteros', 36)\n",
      "(13, 'Luis', 'Rodriguez', 26)\n",
      "(14, 'Leon', 'Scott', 27)\n"
     ]
    }
   ],
   "source": [
    "# Consultando registros cuyos nombres empiecen con A\n",
    "\n",
    "for renglon in cur.execute('''SELECT * FROM Friends WHERE \"Nombres\" LIKE 'l%' '''):\n",
    "    print(renglon)"
   ]
  },
  {
   "cell_type": "code",
   "execution_count": 17,
   "id": "2cd01c62",
   "metadata": {},
   "outputs": [
    {
     "name": "stdout",
     "output_type": "stream",
     "text": [
      "(1, 'Daniel', 'Juarez', 23)\n",
      "(2, 'Daniel', 'Guerrero', 23)\n",
      "(5, 'Polo', '', 25)\n",
      "(6, 'Antonio', 'Serrano Vaaldez', 25)\n"
     ]
    }
   ],
   "source": [
    "# Consultando registros cuya edad sea menor o igual a 25 años\n",
    "\n",
    "for renglon in cur.execute('''SELECT * FROM Friends WHERE \"Edad\" <= 25 '''):\n",
    "    print(renglon) "
   ]
  },
  {
   "cell_type": "code",
   "execution_count": 18,
   "id": "1eb0b57b",
   "metadata": {},
   "outputs": [
    {
     "name": "stdout",
     "output_type": "stream",
     "text": [
      "(1, 'Daniel', 'Juarez', 23)\n",
      "(2, 'Daniel', 'Guerrero', 23)\n",
      "(5, 'Polo', '', 25)\n",
      "(6, 'Antonio', 'Serrano Vaaldez', 25)\n"
     ]
    }
   ],
   "source": [
    "# Consultando registros cuya edad sea menor o igual a 25 años, y ORDENANDO por edad\n",
    "\n",
    "for renglon in cur.execute('''SELECT * FROM Friends WHERE \"Edad\" <= 25 ORDER BY \"Edad\" '''):\n",
    "    print(renglon)"
   ]
  },
  {
   "cell_type": "code",
   "execution_count": 19,
   "id": "687067d7",
   "metadata": {},
   "outputs": [
    {
     "name": "stdout",
     "output_type": "stream",
     "text": [
      "(3, 'Alfredo', 'Avendaño', 33)\n",
      "(15, 'Chris', 'Redfield', 35)\n",
      "(17, 'Scott', 'Adkins', 35)\n",
      "(8, 'Luis Armando', ' Ballesteros', 36)\n",
      "(9, 'Gustavo', '', 46)\n",
      "(10, 'Jared', 'Garcia', 250)\n"
     ]
    }
   ],
   "source": [
    "# Consultando registros cuya edad sea mayor a 29 años, y ORDENANDO por edad y depsues por apellido\n",
    "\n",
    "for renglon in cur.execute('''SELECT * FROM Friends WHERE \"Edad\" > 29 ORDER BY \"Edad\" ASC, \"Apellidos\" DESC '''):\n",
    "    print(renglon)"
   ]
  },
  {
   "cell_type": "code",
   "execution_count": 20,
   "id": "0ee37ed5",
   "metadata": {},
   "outputs": [
    {
     "name": "stdout",
     "output_type": "stream",
     "text": [
      "(1, 'Daniel', 'Juarez', 'Daniel Juarez')\n",
      "(2, 'Daniel', 'Guerrero', 'Daniel Guerrero')\n",
      "(3, 'Alfredo', 'Avendaño', 'Alfredo Avendaño')\n",
      "(4, 'Gerardo', 'Brito', 'Gerardo Brito')\n",
      "(5, 'Polo', '', 'Polo ')\n",
      "(6, 'Antonio', 'Serrano Vaaldez', 'Antonio Serrano Vaaldez')\n",
      "(7, 'Luis', 'Rodriguez', 'Luis Rodriguez')\n",
      "(8, 'Luis Armando', ' Ballesteros', 'Luis Armando  Ballesteros')\n",
      "(9, 'Gustavo', '', 'Gustavo ')\n",
      "(10, 'Jared', 'Garcia', 'Jared Garcia')\n",
      "(11, 'Carlos', 'Balbuena', 'Carlos Balbuena')\n",
      "(12, 'Pablo', 'Sanchez', 'Pablo Sanchez')\n",
      "(13, 'Luis', 'Rodriguez', 'Luis Rodriguez')\n",
      "(14, 'Leon', 'Scott', 'Leon Scott')\n",
      "(15, 'Chris', 'Redfield', 'Chris Redfield')\n",
      "(16, 'Claire', 'Redfield', 'Claire Redfield')\n",
      "(17, 'Scott', 'Adkins', 'Scott Adkins')\n"
     ]
    }
   ],
   "source": [
    "# Mostrando el id, nombre, apellidos y el nombre completo de todos los registros en la tabla\n",
    "\n",
    "for renglon in cur.execute('''SELECT \"ID\",\"Nombres\",\"Apellidos\",\"Nombres\" || \" \" || \"Apellidos\" AS \"Nombre completo\"\n",
    "                              FROM Friends '''):\n",
    "    print(renglon)"
   ]
  },
  {
   "cell_type": "markdown",
   "id": "9386be5c",
   "metadata": {},
   "source": [
    "### Actualizando registros\n",
    "\n",
    "Notemos que en nuestra tabla Friends tenemos el apellido de Antonio mal escrito es decir se tiene \"Vaaldez\" en vez de \"Valdez\" y cuya edad es de 24 años, para corregir esto se ocupa la sentencia \"update\""
   ]
  },
  {
   "cell_type": "code",
   "execution_count": 21,
   "id": "e7826c1f",
   "metadata": {},
   "outputs": [],
   "source": [
    "con.execute(\"\"\"UPDATE Friends\n",
    "               SET \"Apellidos\" = \"Serrano Valdez\", \"Edad\" = 24\n",
    "               WHERE \"ID\" = 6 \"\"\")\n",
    "#comentando\n",
    "con.commit()"
   ]
  },
  {
   "cell_type": "code",
   "execution_count": 22,
   "id": "2a7b3247",
   "metadata": {},
   "outputs": [
    {
     "name": "stdout",
     "output_type": "stream",
     "text": [
      "(1, 'Daniel', 'Juarez', 23)\n",
      "(2, 'Daniel', 'Guerrero', 23)\n",
      "(3, 'Alfredo', 'Avendaño', 33)\n",
      "(4, 'Gerardo', 'Brito', 26)\n",
      "(5, 'Polo', '', 25)\n",
      "(6, 'Antonio', 'Serrano Valdez', 24)\n",
      "(7, 'Luis', 'Rodriguez', 26)\n",
      "(8, 'Luis Armando', ' Ballesteros', 36)\n",
      "(9, 'Gustavo', '', 46)\n",
      "(10, 'Jared', 'Garcia', 250)\n",
      "(11, 'Carlos', 'Balbuena', 26)\n",
      "(12, 'Pablo', 'Sanchez', 27)\n",
      "(13, 'Luis', 'Rodriguez', 26)\n",
      "(14, 'Leon', 'Scott', 27)\n",
      "(15, 'Chris', 'Redfield', 35)\n",
      "(16, 'Claire', 'Redfield', 29)\n",
      "(17, 'Scott', 'Adkins', 35)\n"
     ]
    }
   ],
   "source": [
    "# Viendo el cambio\n",
    "\n",
    "for renglon in cur.execute('SELECT * FROM Friends'):\n",
    "    print(renglon)"
   ]
  },
  {
   "cell_type": "markdown",
   "id": "e33c4af8",
   "metadata": {},
   "source": [
    "### Eliminando registros\n",
    "\n",
    "El registro numero 5 es erroneo se procedera a eliminar"
   ]
  },
  {
   "cell_type": "code",
   "execution_count": 23,
   "id": "5adf58c9",
   "metadata": {},
   "outputs": [],
   "source": [
    "con.execute(\"\"\"DELETE\n",
    "               FROM Friends \n",
    "               WHERE \"ID\" = 5\"\"\")\n",
    "#comentando\n",
    "con.commit()"
   ]
  },
  {
   "cell_type": "code",
   "execution_count": 24,
   "id": "832c44df",
   "metadata": {},
   "outputs": [
    {
     "name": "stdout",
     "output_type": "stream",
     "text": [
      "(1, 'Daniel', 'Juarez', 23)\n",
      "(2, 'Daniel', 'Guerrero', 23)\n",
      "(3, 'Alfredo', 'Avendaño', 33)\n",
      "(4, 'Gerardo', 'Brito', 26)\n",
      "(6, 'Antonio', 'Serrano Valdez', 24)\n",
      "(7, 'Luis', 'Rodriguez', 26)\n",
      "(8, 'Luis Armando', ' Ballesteros', 36)\n",
      "(9, 'Gustavo', '', 46)\n",
      "(10, 'Jared', 'Garcia', 250)\n",
      "(11, 'Carlos', 'Balbuena', 26)\n",
      "(12, 'Pablo', 'Sanchez', 27)\n",
      "(13, 'Luis', 'Rodriguez', 26)\n",
      "(14, 'Leon', 'Scott', 27)\n",
      "(15, 'Chris', 'Redfield', 35)\n",
      "(16, 'Claire', 'Redfield', 29)\n",
      "(17, 'Scott', 'Adkins', 35)\n"
     ]
    }
   ],
   "source": [
    "# Veamos el cambio\n",
    "\n",
    "for renglon in cur.execute('SELECT * FROM Friends'):\n",
    "    print(renglon)"
   ]
  },
  {
   "cell_type": "markdown",
   "id": "b8eae11e",
   "metadata": {},
   "source": [
    "Veamos registros donde el Apellido este vacio"
   ]
  },
  {
   "cell_type": "code",
   "execution_count": 25,
   "id": "1583de22",
   "metadata": {},
   "outputs": [
    {
     "name": "stdout",
     "output_type": "stream",
     "text": [
      "(9, 'Gustavo', '', 46)\n"
     ]
    }
   ],
   "source": [
    "for renglon in cur.execute('''SELECT * \n",
    "                              FROM Friends\n",
    "                              WHERE \"Apellidos\" == '' '''):\n",
    "    print(renglon)"
   ]
  },
  {
   "cell_type": "code",
   "execution_count": 26,
   "id": "11c0f96d",
   "metadata": {},
   "outputs": [],
   "source": [
    "con.close() # No olvidemos cerrar la conexion"
   ]
  },
  {
   "cell_type": "markdown",
   "id": "22e2aa38",
   "metadata": {},
   "source": [
    "## Leyendo con Pandas (Una forma más sencilla)"
   ]
  },
  {
   "cell_type": "code",
   "execution_count": 27,
   "id": "b64e7a68",
   "metadata": {},
   "outputs": [
    {
     "data": {
      "text/html": [
       "<div>\n",
       "<style scoped>\n",
       "    .dataframe tbody tr th:only-of-type {\n",
       "        vertical-align: middle;\n",
       "    }\n",
       "\n",
       "    .dataframe tbody tr th {\n",
       "        vertical-align: top;\n",
       "    }\n",
       "\n",
       "    .dataframe thead th {\n",
       "        text-align: right;\n",
       "    }\n",
       "</style>\n",
       "<table border=\"1\" class=\"dataframe\">\n",
       "  <thead>\n",
       "    <tr style=\"text-align: right;\">\n",
       "      <th></th>\n",
       "      <th>ID</th>\n",
       "      <th>Nombres</th>\n",
       "      <th>Apellidos</th>\n",
       "      <th>Edad</th>\n",
       "      <th>Nombre completo</th>\n",
       "    </tr>\n",
       "  </thead>\n",
       "  <tbody>\n",
       "    <tr>\n",
       "      <th>0</th>\n",
       "      <td>1</td>\n",
       "      <td>Daniel</td>\n",
       "      <td>Juarez</td>\n",
       "      <td>23</td>\n",
       "      <td>Daniel Juarez</td>\n",
       "    </tr>\n",
       "    <tr>\n",
       "      <th>1</th>\n",
       "      <td>2</td>\n",
       "      <td>Daniel</td>\n",
       "      <td>Guerrero</td>\n",
       "      <td>23</td>\n",
       "      <td>Daniel Guerrero</td>\n",
       "    </tr>\n",
       "    <tr>\n",
       "      <th>2</th>\n",
       "      <td>3</td>\n",
       "      <td>Alfredo</td>\n",
       "      <td>Avendaño</td>\n",
       "      <td>33</td>\n",
       "      <td>Alfredo Avendaño</td>\n",
       "    </tr>\n",
       "    <tr>\n",
       "      <th>3</th>\n",
       "      <td>4</td>\n",
       "      <td>Gerardo</td>\n",
       "      <td>Brito</td>\n",
       "      <td>26</td>\n",
       "      <td>Gerardo Brito</td>\n",
       "    </tr>\n",
       "    <tr>\n",
       "      <th>4</th>\n",
       "      <td>6</td>\n",
       "      <td>Antonio</td>\n",
       "      <td>Serrano Valdez</td>\n",
       "      <td>24</td>\n",
       "      <td>Antonio Serrano Valdez</td>\n",
       "    </tr>\n",
       "    <tr>\n",
       "      <th>5</th>\n",
       "      <td>7</td>\n",
       "      <td>Luis</td>\n",
       "      <td>Rodriguez</td>\n",
       "      <td>26</td>\n",
       "      <td>Luis Rodriguez</td>\n",
       "    </tr>\n",
       "    <tr>\n",
       "      <th>6</th>\n",
       "      <td>8</td>\n",
       "      <td>Luis Armando</td>\n",
       "      <td>Ballesteros</td>\n",
       "      <td>36</td>\n",
       "      <td>Luis Armando  Ballesteros</td>\n",
       "    </tr>\n",
       "    <tr>\n",
       "      <th>7</th>\n",
       "      <td>9</td>\n",
       "      <td>Gustavo</td>\n",
       "      <td></td>\n",
       "      <td>46</td>\n",
       "      <td>Gustavo</td>\n",
       "    </tr>\n",
       "    <tr>\n",
       "      <th>8</th>\n",
       "      <td>10</td>\n",
       "      <td>Jared</td>\n",
       "      <td>Garcia</td>\n",
       "      <td>250</td>\n",
       "      <td>Jared Garcia</td>\n",
       "    </tr>\n",
       "    <tr>\n",
       "      <th>9</th>\n",
       "      <td>11</td>\n",
       "      <td>Carlos</td>\n",
       "      <td>Balbuena</td>\n",
       "      <td>26</td>\n",
       "      <td>Carlos Balbuena</td>\n",
       "    </tr>\n",
       "    <tr>\n",
       "      <th>10</th>\n",
       "      <td>12</td>\n",
       "      <td>Pablo</td>\n",
       "      <td>Sanchez</td>\n",
       "      <td>27</td>\n",
       "      <td>Pablo Sanchez</td>\n",
       "    </tr>\n",
       "    <tr>\n",
       "      <th>11</th>\n",
       "      <td>13</td>\n",
       "      <td>Luis</td>\n",
       "      <td>Rodriguez</td>\n",
       "      <td>26</td>\n",
       "      <td>Luis Rodriguez</td>\n",
       "    </tr>\n",
       "    <tr>\n",
       "      <th>12</th>\n",
       "      <td>14</td>\n",
       "      <td>Leon</td>\n",
       "      <td>Scott</td>\n",
       "      <td>27</td>\n",
       "      <td>Leon Scott</td>\n",
       "    </tr>\n",
       "    <tr>\n",
       "      <th>13</th>\n",
       "      <td>15</td>\n",
       "      <td>Chris</td>\n",
       "      <td>Redfield</td>\n",
       "      <td>35</td>\n",
       "      <td>Chris Redfield</td>\n",
       "    </tr>\n",
       "    <tr>\n",
       "      <th>14</th>\n",
       "      <td>16</td>\n",
       "      <td>Claire</td>\n",
       "      <td>Redfield</td>\n",
       "      <td>29</td>\n",
       "      <td>Claire Redfield</td>\n",
       "    </tr>\n",
       "    <tr>\n",
       "      <th>15</th>\n",
       "      <td>17</td>\n",
       "      <td>Scott</td>\n",
       "      <td>Adkins</td>\n",
       "      <td>35</td>\n",
       "      <td>Scott Adkins</td>\n",
       "    </tr>\n",
       "  </tbody>\n",
       "</table>\n",
       "</div>"
      ],
      "text/plain": [
       "    ID       Nombres       Apellidos  Edad            Nombre completo\n",
       "0    1        Daniel          Juarez    23              Daniel Juarez\n",
       "1    2        Daniel        Guerrero    23            Daniel Guerrero\n",
       "2    3       Alfredo        Avendaño    33           Alfredo Avendaño\n",
       "3    4       Gerardo           Brito    26              Gerardo Brito\n",
       "4    6       Antonio  Serrano Valdez    24     Antonio Serrano Valdez\n",
       "5    7          Luis       Rodriguez    26             Luis Rodriguez\n",
       "6    8  Luis Armando     Ballesteros    36  Luis Armando  Ballesteros\n",
       "7    9       Gustavo                    46                   Gustavo \n",
       "8   10         Jared          Garcia   250               Jared Garcia\n",
       "9   11        Carlos        Balbuena    26            Carlos Balbuena\n",
       "10  12         Pablo         Sanchez    27              Pablo Sanchez\n",
       "11  13          Luis       Rodriguez    26             Luis Rodriguez\n",
       "12  14          Leon           Scott    27                 Leon Scott\n",
       "13  15         Chris        Redfield    35             Chris Redfield\n",
       "14  16        Claire        Redfield    29            Claire Redfield\n",
       "15  17         Scott          Adkins    35               Scott Adkins"
      ]
     },
     "metadata": {},
     "output_type": "display_data"
    }
   ],
   "source": [
    "import pandas as pd\n",
    "\n",
    "con = sqlite3.connect(os.getcwd() + '\\\\Database\\\\' + name_db)\n",
    "\n",
    "df_friends = pd.read_sql_query(\"\"\"SELECT *, \"Nombres\" || \" \" || \"Apellidos\" AS \"Nombre completo\"\n",
    "                                  FROM Friends\"\"\", con)\n",
    "\n",
    "display(df_friends)\n",
    "\n",
    "con.close() #Cerramos la conexion"
   ]
  }
 ],
 "metadata": {
  "kernelspec": {
   "display_name": "Python 3 (ipykernel)",
   "language": "python",
   "name": "python3"
  },
  "language_info": {
   "codemirror_mode": {
    "name": "ipython",
    "version": 3
   },
   "file_extension": ".py",
   "mimetype": "text/x-python",
   "name": "python",
   "nbconvert_exporter": "python",
   "pygments_lexer": "ipython3",
   "version": "3.10.1"
  }
 },
 "nbformat": 4,
 "nbformat_minor": 5
}
