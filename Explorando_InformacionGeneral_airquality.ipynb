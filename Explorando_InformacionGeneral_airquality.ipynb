{
 "cells": [
  {
   "cell_type": "markdown",
   "id": "8b15fc99",
   "metadata": {},
   "source": [
    "# Explorando información de la base de datos de \"airquality\"\n",
    "\n",
    "En esta exploracion se usara la base de datos de películas del dataframe \"airquality\". \n",
    "\n",
    "Cuya descripción traducida del sitio https://www.rdocumentation.org/packages/datasets/versions/3.6.2/topics/airquality\n",
    "\n",
    "\n",
    "Lecturas diarias de los siguientes valores de calidad del aire del 1 de mayo de 1973 (un martes) al 30 de septiembre de 1973.\n",
    "\n",
    "Ozono: Media de ozono en partes por mil millones de 1300 a 1500 horas en Roosevelt Island\n",
    "\n",
    "Solar.R: Radiación solar en Langleys en la banda de frecuencia 4000--7700 Angstroms de 0800 a 1200 horas en Central Park\n",
    "\n",
    "Viento: Velocidad media del viento en millas por hora a las 07:00 y a las 1000 horas en el aeropuerto LaGuardia\n",
    "\n",
    "Temp: temperatura máxima diaria en grados Fahrenheit en el aeropuerto de La Guardia. "
   ]
  },
  {
   "cell_type": "markdown",
   "id": "1e4f8918",
   "metadata": {},
   "source": [
    "## Algunas configuraciones antes de comenzar"
   ]
  },
  {
   "cell_type": "code",
   "execution_count": 56,
   "id": "b2c81ea7",
   "metadata": {},
   "outputs": [],
   "source": [
    "import pandas as pd\n",
    "import matplotlib.pyplot as plt\n",
    "import os"
   ]
  },
  {
   "cell_type": "code",
   "execution_count": 24,
   "id": "d75e2fd6",
   "metadata": {},
   "outputs": [
    {
     "name": "stdout",
     "output_type": "stream",
     "text": [
      "El directorio actual es: C:\\Users\\Alejandro Zavala\\Zavala_Programas\\Repositorios_Git\\Analisis_de_datos\n"
     ]
    }
   ],
   "source": [
    "print('El directorio actual es: {}'.format(os.getcwd()))"
   ]
  },
  {
   "cell_type": "code",
   "execution_count": 25,
   "id": "76ab6cc3",
   "metadata": {},
   "outputs": [
    {
     "name": "stdout",
     "output_type": "stream",
     "text": [
      "Los archivos en la ruta: C:\\Users\\Alejandro Zavala\\Zavala_Programas son \n",
      "['Bases', 'Programas_Python', 'Repositorios_Git']\n"
     ]
    }
   ],
   "source": [
    "path_to_read = r'C:\\Users\\Alejandro Zavala\\Zavala_Programas'\n",
    "print('Los archivos en la ruta: {} son \\n{}'.format(path_to_read,os.listdir(path_to_read)))"
   ]
  },
  {
   "cell_type": "code",
   "execution_count": 27,
   "id": "8bab47dc",
   "metadata": {},
   "outputs": [
    {
     "name": "stdout",
     "output_type": "stream",
     "text": [
      "Los archivos en la carpeta \\Bases son \n",
      "['airquality.csv']\n"
     ]
    }
   ],
   "source": [
    "folder_path = r'\\Bases'\n",
    "print('Los archivos en la carpeta {} son \\n{}'.format(folder_path,os.listdir(path_to_read+folder_path)))"
   ]
  },
  {
   "cell_type": "markdown",
   "id": "b7c7bc60",
   "metadata": {},
   "source": [
    "## Leyendo el dataframe"
   ]
  },
  {
   "cell_type": "code",
   "execution_count": 29,
   "id": "0a12168a",
   "metadata": {},
   "outputs": [],
   "source": [
    "path_airquality = path_to_read+folder_path+r'/airquality.csv'\n",
    "data = pd.read_csv(path_airquality,header=0) #Transformar en un dataframe"
   ]
  },
  {
   "cell_type": "code",
   "execution_count": 33,
   "id": "6308203b",
   "metadata": {},
   "outputs": [
    {
     "name": "stdout",
     "output_type": "stream",
     "text": [
      "El tipo de la variable data es : <class 'pandas.core.frame.DataFrame'>\n"
     ]
    }
   ],
   "source": [
    "print('El tipo de la variable data es : {}'.format(type(data)))"
   ]
  },
  {
   "cell_type": "markdown",
   "id": "9a9ce377",
   "metadata": {},
   "source": [
    "## Mostrando primeros elementos"
   ]
  },
  {
   "cell_type": "code",
   "execution_count": 30,
   "id": "c0b0b70b",
   "metadata": {},
   "outputs": [
    {
     "data": {
      "text/html": [
       "<div>\n",
       "<style scoped>\n",
       "    .dataframe tbody tr th:only-of-type {\n",
       "        vertical-align: middle;\n",
       "    }\n",
       "\n",
       "    .dataframe tbody tr th {\n",
       "        vertical-align: top;\n",
       "    }\n",
       "\n",
       "    .dataframe thead th {\n",
       "        text-align: right;\n",
       "    }\n",
       "</style>\n",
       "<table border=\"1\" class=\"dataframe\">\n",
       "  <thead>\n",
       "    <tr style=\"text-align: right;\">\n",
       "      <th></th>\n",
       "      <th>Ozone</th>\n",
       "      <th>Solar.R</th>\n",
       "      <th>Wind</th>\n",
       "      <th>Temp</th>\n",
       "      <th>Month</th>\n",
       "      <th>Day</th>\n",
       "    </tr>\n",
       "  </thead>\n",
       "  <tbody>\n",
       "    <tr>\n",
       "      <th>0</th>\n",
       "      <td>41.0</td>\n",
       "      <td>190.0</td>\n",
       "      <td>7.4</td>\n",
       "      <td>67</td>\n",
       "      <td>5</td>\n",
       "      <td>1</td>\n",
       "    </tr>\n",
       "    <tr>\n",
       "      <th>1</th>\n",
       "      <td>36.0</td>\n",
       "      <td>118.0</td>\n",
       "      <td>8.0</td>\n",
       "      <td>72</td>\n",
       "      <td>5</td>\n",
       "      <td>2</td>\n",
       "    </tr>\n",
       "    <tr>\n",
       "      <th>2</th>\n",
       "      <td>12.0</td>\n",
       "      <td>149.0</td>\n",
       "      <td>12.6</td>\n",
       "      <td>74</td>\n",
       "      <td>5</td>\n",
       "      <td>3</td>\n",
       "    </tr>\n",
       "    <tr>\n",
       "      <th>3</th>\n",
       "      <td>18.0</td>\n",
       "      <td>313.0</td>\n",
       "      <td>11.5</td>\n",
       "      <td>62</td>\n",
       "      <td>5</td>\n",
       "      <td>4</td>\n",
       "    </tr>\n",
       "    <tr>\n",
       "      <th>4</th>\n",
       "      <td>NaN</td>\n",
       "      <td>NaN</td>\n",
       "      <td>14.3</td>\n",
       "      <td>56</td>\n",
       "      <td>5</td>\n",
       "      <td>5</td>\n",
       "    </tr>\n",
       "  </tbody>\n",
       "</table>\n",
       "</div>"
      ],
      "text/plain": [
       "   Ozone  Solar.R  Wind  Temp  Month  Day\n",
       "0   41.0    190.0   7.4    67      5    1\n",
       "1   36.0    118.0   8.0    72      5    2\n",
       "2   12.0    149.0  12.6    74      5    3\n",
       "3   18.0    313.0  11.5    62      5    4\n",
       "4    NaN      NaN  14.3    56      5    5"
      ]
     },
     "execution_count": 30,
     "metadata": {},
     "output_type": "execute_result"
    }
   ],
   "source": [
    "data.head()"
   ]
  },
  {
   "cell_type": "markdown",
   "id": "1932ee07",
   "metadata": {},
   "source": [
    "## Mostrando últimos elementos"
   ]
  },
  {
   "cell_type": "code",
   "execution_count": 31,
   "id": "8ce21bd9",
   "metadata": {},
   "outputs": [
    {
     "data": {
      "text/html": [
       "<div>\n",
       "<style scoped>\n",
       "    .dataframe tbody tr th:only-of-type {\n",
       "        vertical-align: middle;\n",
       "    }\n",
       "\n",
       "    .dataframe tbody tr th {\n",
       "        vertical-align: top;\n",
       "    }\n",
       "\n",
       "    .dataframe thead th {\n",
       "        text-align: right;\n",
       "    }\n",
       "</style>\n",
       "<table border=\"1\" class=\"dataframe\">\n",
       "  <thead>\n",
       "    <tr style=\"text-align: right;\">\n",
       "      <th></th>\n",
       "      <th>Ozone</th>\n",
       "      <th>Solar.R</th>\n",
       "      <th>Wind</th>\n",
       "      <th>Temp</th>\n",
       "      <th>Month</th>\n",
       "      <th>Day</th>\n",
       "    </tr>\n",
       "  </thead>\n",
       "  <tbody>\n",
       "    <tr>\n",
       "      <th>148</th>\n",
       "      <td>30.0</td>\n",
       "      <td>193.0</td>\n",
       "      <td>6.9</td>\n",
       "      <td>70</td>\n",
       "      <td>9</td>\n",
       "      <td>26</td>\n",
       "    </tr>\n",
       "    <tr>\n",
       "      <th>149</th>\n",
       "      <td>NaN</td>\n",
       "      <td>145.0</td>\n",
       "      <td>13.2</td>\n",
       "      <td>77</td>\n",
       "      <td>9</td>\n",
       "      <td>27</td>\n",
       "    </tr>\n",
       "    <tr>\n",
       "      <th>150</th>\n",
       "      <td>14.0</td>\n",
       "      <td>191.0</td>\n",
       "      <td>14.3</td>\n",
       "      <td>75</td>\n",
       "      <td>9</td>\n",
       "      <td>28</td>\n",
       "    </tr>\n",
       "    <tr>\n",
       "      <th>151</th>\n",
       "      <td>18.0</td>\n",
       "      <td>131.0</td>\n",
       "      <td>8.0</td>\n",
       "      <td>76</td>\n",
       "      <td>9</td>\n",
       "      <td>29</td>\n",
       "    </tr>\n",
       "    <tr>\n",
       "      <th>152</th>\n",
       "      <td>20.0</td>\n",
       "      <td>223.0</td>\n",
       "      <td>11.5</td>\n",
       "      <td>68</td>\n",
       "      <td>9</td>\n",
       "      <td>30</td>\n",
       "    </tr>\n",
       "  </tbody>\n",
       "</table>\n",
       "</div>"
      ],
      "text/plain": [
       "     Ozone  Solar.R  Wind  Temp  Month  Day\n",
       "148   30.0    193.0   6.9    70      9   26\n",
       "149    NaN    145.0  13.2    77      9   27\n",
       "150   14.0    191.0  14.3    75      9   28\n",
       "151   18.0    131.0   8.0    76      9   29\n",
       "152   20.0    223.0  11.5    68      9   30"
      ]
     },
     "execution_count": 31,
     "metadata": {},
     "output_type": "execute_result"
    }
   ],
   "source": [
    "data.tail()"
   ]
  },
  {
   "cell_type": "markdown",
   "id": "96a31fa4",
   "metadata": {},
   "source": [
    "## Información general del dataframe"
   ]
  },
  {
   "cell_type": "code",
   "execution_count": 32,
   "id": "14a7eebc",
   "metadata": {},
   "outputs": [
    {
     "name": "stdout",
     "output_type": "stream",
     "text": [
      "<class 'pandas.core.frame.DataFrame'>\n",
      "RangeIndex: 153 entries, 0 to 152\n",
      "Data columns (total 6 columns):\n",
      " #   Column   Non-Null Count  Dtype  \n",
      "---  ------   --------------  -----  \n",
      " 0   Ozone    116 non-null    float64\n",
      " 1   Solar.R  146 non-null    float64\n",
      " 2   Wind     153 non-null    float64\n",
      " 3   Temp     153 non-null    int64  \n",
      " 4   Month    153 non-null    int64  \n",
      " 5   Day      153 non-null    int64  \n",
      "dtypes: float64(3), int64(3)\n",
      "memory usage: 7.3 KB\n"
     ]
    }
   ],
   "source": [
    "data.info()"
   ]
  },
  {
   "cell_type": "markdown",
   "id": "b239610a",
   "metadata": {},
   "source": [
    "## Nombres de cabecera del dataframe"
   ]
  },
  {
   "cell_type": "code",
   "execution_count": 34,
   "id": "a8545971",
   "metadata": {},
   "outputs": [
    {
     "data": {
      "text/plain": [
       "['Ozone', 'Solar.R', 'Wind', 'Temp', 'Month', 'Day']"
      ]
     },
     "execution_count": 34,
     "metadata": {},
     "output_type": "execute_result"
    }
   ],
   "source": [
    "list(data) #Leer nombres de cabecera"
   ]
  },
  {
   "cell_type": "markdown",
   "id": "84cc86ce",
   "metadata": {},
   "source": [
    "## Una manera de leer nombres de cabecera mas rápido"
   ]
  },
  {
   "cell_type": "code",
   "execution_count": 35,
   "id": "9d986773",
   "metadata": {},
   "outputs": [
    {
     "data": {
      "text/plain": [
       "['Ozone', 'Solar.R', 'Wind', 'Temp', 'Month', 'Day']"
      ]
     },
     "execution_count": 35,
     "metadata": {},
     "output_type": "execute_result"
    }
   ],
   "source": [
    "data.columns.values.tolist() #Leer nombres en menor tiempo"
   ]
  },
  {
   "cell_type": "markdown",
   "id": "22f427f1",
   "metadata": {},
   "source": [
    "## Mostrando solo la columna de un dataframe"
   ]
  },
  {
   "cell_type": "code",
   "execution_count": 36,
   "id": "ded31ee2",
   "metadata": {},
   "outputs": [
    {
     "data": {
      "text/plain": [
       "0      41.0\n",
       "1      36.0\n",
       "2      12.0\n",
       "3      18.0\n",
       "4       NaN\n",
       "       ... \n",
       "148    30.0\n",
       "149     NaN\n",
       "150    14.0\n",
       "151    18.0\n",
       "152    20.0\n",
       "Name: Ozone, Length: 153, dtype: float64"
      ]
     },
     "execution_count": 36,
     "metadata": {},
     "output_type": "execute_result"
    }
   ],
   "source": [
    "data['Ozone']"
   ]
  },
  {
   "cell_type": "code",
   "execution_count": 38,
   "id": "9df3f6d6",
   "metadata": {},
   "outputs": [
    {
     "name": "stdout",
     "output_type": "stream",
     "text": [
      "El tipo de la variable data['Ozone'] es: <class 'pandas.core.series.Series'>\n"
     ]
    }
   ],
   "source": [
    "print('El tipo de la variable data[\\'Ozone\\'] es: {}'.format(type(data['Ozone'])))"
   ]
  },
  {
   "cell_type": "markdown",
   "id": "a93cd8e9",
   "metadata": {},
   "source": [
    "## Mostrando Cantidad de renglones hasta n-1"
   ]
  },
  {
   "cell_type": "code",
   "execution_count": 39,
   "id": "512de392",
   "metadata": {},
   "outputs": [
    {
     "data": {
      "text/html": [
       "<div>\n",
       "<style scoped>\n",
       "    .dataframe tbody tr th:only-of-type {\n",
       "        vertical-align: middle;\n",
       "    }\n",
       "\n",
       "    .dataframe tbody tr th {\n",
       "        vertical-align: top;\n",
       "    }\n",
       "\n",
       "    .dataframe thead th {\n",
       "        text-align: right;\n",
       "    }\n",
       "</style>\n",
       "<table border=\"1\" class=\"dataframe\">\n",
       "  <thead>\n",
       "    <tr style=\"text-align: right;\">\n",
       "      <th></th>\n",
       "      <th>Ozone</th>\n",
       "      <th>Solar.R</th>\n",
       "      <th>Wind</th>\n",
       "      <th>Temp</th>\n",
       "      <th>Month</th>\n",
       "      <th>Day</th>\n",
       "    </tr>\n",
       "  </thead>\n",
       "  <tbody>\n",
       "    <tr>\n",
       "      <th>0</th>\n",
       "      <td>41.0</td>\n",
       "      <td>190.0</td>\n",
       "      <td>7.4</td>\n",
       "      <td>67</td>\n",
       "      <td>5</td>\n",
       "      <td>1</td>\n",
       "    </tr>\n",
       "    <tr>\n",
       "      <th>1</th>\n",
       "      <td>36.0</td>\n",
       "      <td>118.0</td>\n",
       "      <td>8.0</td>\n",
       "      <td>72</td>\n",
       "      <td>5</td>\n",
       "      <td>2</td>\n",
       "    </tr>\n",
       "    <tr>\n",
       "      <th>2</th>\n",
       "      <td>12.0</td>\n",
       "      <td>149.0</td>\n",
       "      <td>12.6</td>\n",
       "      <td>74</td>\n",
       "      <td>5</td>\n",
       "      <td>3</td>\n",
       "    </tr>\n",
       "  </tbody>\n",
       "</table>\n",
       "</div>"
      ],
      "text/plain": [
       "   Ozone  Solar.R  Wind  Temp  Month  Day\n",
       "0   41.0    190.0   7.4    67      5    1\n",
       "1   36.0    118.0   8.0    72      5    2\n",
       "2   12.0    149.0  12.6    74      5    3"
      ]
     },
     "execution_count": 39,
     "metadata": {},
     "output_type": "execute_result"
    }
   ],
   "source": [
    "data[0:3]"
   ]
  },
  {
   "cell_type": "markdown",
   "id": "6c8adb35",
   "metadata": {},
   "source": [
    "## Mostrando cantidad de renglones (desde a hasta b-1) con las columnas de preferencia"
   ]
  },
  {
   "cell_type": "code",
   "execution_count": 41,
   "id": "313fd07e",
   "metadata": {},
   "outputs": [
    {
     "name": "stdout",
     "output_type": "stream",
     "text": [
      "Mostrando cantidad de renglones (desde a hasta b-1) con las columnas de preferencia\n"
     ]
    },
    {
     "data": {
      "text/html": [
       "<div>\n",
       "<style scoped>\n",
       "    .dataframe tbody tr th:only-of-type {\n",
       "        vertical-align: middle;\n",
       "    }\n",
       "\n",
       "    .dataframe tbody tr th {\n",
       "        vertical-align: top;\n",
       "    }\n",
       "\n",
       "    .dataframe thead th {\n",
       "        text-align: right;\n",
       "    }\n",
       "</style>\n",
       "<table border=\"1\" class=\"dataframe\">\n",
       "  <thead>\n",
       "    <tr style=\"text-align: right;\">\n",
       "      <th></th>\n",
       "      <th>Ozone</th>\n",
       "      <th>Wind</th>\n",
       "      <th>Month</th>\n",
       "      <th>Day</th>\n",
       "    </tr>\n",
       "  </thead>\n",
       "  <tbody>\n",
       "    <tr>\n",
       "      <th>5</th>\n",
       "      <td>28.0</td>\n",
       "      <td>14.9</td>\n",
       "      <td>5</td>\n",
       "      <td>6</td>\n",
       "    </tr>\n",
       "    <tr>\n",
       "      <th>6</th>\n",
       "      <td>23.0</td>\n",
       "      <td>8.6</td>\n",
       "      <td>5</td>\n",
       "      <td>7</td>\n",
       "    </tr>\n",
       "    <tr>\n",
       "      <th>7</th>\n",
       "      <td>19.0</td>\n",
       "      <td>13.8</td>\n",
       "      <td>5</td>\n",
       "      <td>8</td>\n",
       "    </tr>\n",
       "    <tr>\n",
       "      <th>8</th>\n",
       "      <td>8.0</td>\n",
       "      <td>20.1</td>\n",
       "      <td>5</td>\n",
       "      <td>9</td>\n",
       "    </tr>\n",
       "    <tr>\n",
       "      <th>9</th>\n",
       "      <td>NaN</td>\n",
       "      <td>8.6</td>\n",
       "      <td>5</td>\n",
       "      <td>10</td>\n",
       "    </tr>\n",
       "  </tbody>\n",
       "</table>\n",
       "</div>"
      ],
      "text/plain": [
       "   Ozone  Wind  Month  Day\n",
       "5   28.0  14.9      5    6\n",
       "6   23.0   8.6      5    7\n",
       "7   19.0  13.8      5    8\n",
       "8    8.0  20.1      5    9\n",
       "9    NaN   8.6      5   10"
      ]
     },
     "execution_count": 41,
     "metadata": {},
     "output_type": "execute_result"
    }
   ],
   "source": [
    "a = 5\n",
    "b = 10\n",
    "name_preferencia = ['Ozone','Wind','Month','Day']\n",
    "print('Mostrando cantidad de renglones (desde a hasta b-1) con las columnas de preferencia')\n",
    "data[name_preferencia][a:b]"
   ]
  },
  {
   "cell_type": "markdown",
   "id": "5b402770",
   "metadata": {},
   "source": [
    "## Mostrando cantidad de renglones (desde a hasta b-1) con las columnas de preferencia en el orden preferido"
   ]
  },
  {
   "cell_type": "code",
   "execution_count": 43,
   "id": "20986076",
   "metadata": {},
   "outputs": [
    {
     "data": {
      "text/html": [
       "<div>\n",
       "<style scoped>\n",
       "    .dataframe tbody tr th:only-of-type {\n",
       "        vertical-align: middle;\n",
       "    }\n",
       "\n",
       "    .dataframe tbody tr th {\n",
       "        vertical-align: top;\n",
       "    }\n",
       "\n",
       "    .dataframe thead th {\n",
       "        text-align: right;\n",
       "    }\n",
       "</style>\n",
       "<table border=\"1\" class=\"dataframe\">\n",
       "  <thead>\n",
       "    <tr style=\"text-align: right;\">\n",
       "      <th></th>\n",
       "      <th>Wind</th>\n",
       "      <th>Ozone</th>\n",
       "      <th>Day</th>\n",
       "      <th>Month</th>\n",
       "    </tr>\n",
       "  </thead>\n",
       "  <tbody>\n",
       "    <tr>\n",
       "      <th>8</th>\n",
       "      <td>20.1</td>\n",
       "      <td>8.0</td>\n",
       "      <td>9</td>\n",
       "      <td>5</td>\n",
       "    </tr>\n",
       "    <tr>\n",
       "      <th>9</th>\n",
       "      <td>8.6</td>\n",
       "      <td>NaN</td>\n",
       "      <td>10</td>\n",
       "      <td>5</td>\n",
       "    </tr>\n",
       "    <tr>\n",
       "      <th>10</th>\n",
       "      <td>6.9</td>\n",
       "      <td>7.0</td>\n",
       "      <td>11</td>\n",
       "      <td>5</td>\n",
       "    </tr>\n",
       "    <tr>\n",
       "      <th>11</th>\n",
       "      <td>9.7</td>\n",
       "      <td>16.0</td>\n",
       "      <td>12</td>\n",
       "      <td>5</td>\n",
       "    </tr>\n",
       "    <tr>\n",
       "      <th>12</th>\n",
       "      <td>9.2</td>\n",
       "      <td>11.0</td>\n",
       "      <td>13</td>\n",
       "      <td>5</td>\n",
       "    </tr>\n",
       "    <tr>\n",
       "      <th>13</th>\n",
       "      <td>10.9</td>\n",
       "      <td>14.0</td>\n",
       "      <td>14</td>\n",
       "      <td>5</td>\n",
       "    </tr>\n",
       "    <tr>\n",
       "      <th>14</th>\n",
       "      <td>13.2</td>\n",
       "      <td>18.0</td>\n",
       "      <td>15</td>\n",
       "      <td>5</td>\n",
       "    </tr>\n",
       "    <tr>\n",
       "      <th>15</th>\n",
       "      <td>11.5</td>\n",
       "      <td>14.0</td>\n",
       "      <td>16</td>\n",
       "      <td>5</td>\n",
       "    </tr>\n",
       "    <tr>\n",
       "      <th>16</th>\n",
       "      <td>12.0</td>\n",
       "      <td>34.0</td>\n",
       "      <td>17</td>\n",
       "      <td>5</td>\n",
       "    </tr>\n",
       "    <tr>\n",
       "      <th>17</th>\n",
       "      <td>18.4</td>\n",
       "      <td>6.0</td>\n",
       "      <td>18</td>\n",
       "      <td>5</td>\n",
       "    </tr>\n",
       "  </tbody>\n",
       "</table>\n",
       "</div>"
      ],
      "text/plain": [
       "    Wind  Ozone  Day  Month\n",
       "8   20.1    8.0    9      5\n",
       "9    8.6    NaN   10      5\n",
       "10   6.9    7.0   11      5\n",
       "11   9.7   16.0   12      5\n",
       "12   9.2   11.0   13      5\n",
       "13  10.9   14.0   14      5\n",
       "14  13.2   18.0   15      5\n",
       "15  11.5   14.0   16      5\n",
       "16  12.0   34.0   17      5\n",
       "17  18.4    6.0   18      5"
      ]
     },
     "execution_count": 43,
     "metadata": {},
     "output_type": "execute_result"
    }
   ],
   "source": [
    "a = 8\n",
    "b = 18\n",
    "name_preferencia = ['Wind','Ozone','Day','Month']\n",
    "data[name_preferencia][a:b]"
   ]
  },
  {
   "cell_type": "markdown",
   "id": "b4fd5a97",
   "metadata": {},
   "source": [
    "## Usando funciones iloc y loc"
   ]
  },
  {
   "cell_type": "markdown",
   "id": "d430a0bd",
   "metadata": {},
   "source": [
    "## Mostrando primeras 2 observaciones y primeras 3 columnas"
   ]
  },
  {
   "cell_type": "code",
   "execution_count": 45,
   "id": "0a557fdc",
   "metadata": {},
   "outputs": [
    {
     "data": {
      "text/html": [
       "<div>\n",
       "<style scoped>\n",
       "    .dataframe tbody tr th:only-of-type {\n",
       "        vertical-align: middle;\n",
       "    }\n",
       "\n",
       "    .dataframe tbody tr th {\n",
       "        vertical-align: top;\n",
       "    }\n",
       "\n",
       "    .dataframe thead th {\n",
       "        text-align: right;\n",
       "    }\n",
       "</style>\n",
       "<table border=\"1\" class=\"dataframe\">\n",
       "  <thead>\n",
       "    <tr style=\"text-align: right;\">\n",
       "      <th></th>\n",
       "      <th>Ozone</th>\n",
       "      <th>Solar.R</th>\n",
       "      <th>Wind</th>\n",
       "    </tr>\n",
       "  </thead>\n",
       "  <tbody>\n",
       "    <tr>\n",
       "      <th>0</th>\n",
       "      <td>41.0</td>\n",
       "      <td>190.0</td>\n",
       "      <td>7.4</td>\n",
       "    </tr>\n",
       "    <tr>\n",
       "      <th>1</th>\n",
       "      <td>36.0</td>\n",
       "      <td>118.0</td>\n",
       "      <td>8.0</td>\n",
       "    </tr>\n",
       "  </tbody>\n",
       "</table>\n",
       "</div>"
      ],
      "text/plain": [
       "   Ozone  Solar.R  Wind\n",
       "0   41.0    190.0   7.4\n",
       "1   36.0    118.0   8.0"
      ]
     },
     "execution_count": 45,
     "metadata": {},
     "output_type": "execute_result"
    }
   ],
   "source": [
    "data.iloc[0:2, 0:3]"
   ]
  },
  {
   "cell_type": "markdown",
   "id": "0b3f181b",
   "metadata": {},
   "source": [
    "## Seleccionando del renglón 0 al 6-1, mostrando todas las columnas"
   ]
  },
  {
   "cell_type": "code",
   "execution_count": 46,
   "id": "e81f38be",
   "metadata": {},
   "outputs": [
    {
     "data": {
      "text/html": [
       "<div>\n",
       "<style scoped>\n",
       "    .dataframe tbody tr th:only-of-type {\n",
       "        vertical-align: middle;\n",
       "    }\n",
       "\n",
       "    .dataframe tbody tr th {\n",
       "        vertical-align: top;\n",
       "    }\n",
       "\n",
       "    .dataframe thead th {\n",
       "        text-align: right;\n",
       "    }\n",
       "</style>\n",
       "<table border=\"1\" class=\"dataframe\">\n",
       "  <thead>\n",
       "    <tr style=\"text-align: right;\">\n",
       "      <th></th>\n",
       "      <th>Ozone</th>\n",
       "      <th>Solar.R</th>\n",
       "      <th>Wind</th>\n",
       "      <th>Temp</th>\n",
       "      <th>Month</th>\n",
       "      <th>Day</th>\n",
       "    </tr>\n",
       "  </thead>\n",
       "  <tbody>\n",
       "    <tr>\n",
       "      <th>0</th>\n",
       "      <td>41.0</td>\n",
       "      <td>190.0</td>\n",
       "      <td>7.4</td>\n",
       "      <td>67</td>\n",
       "      <td>5</td>\n",
       "      <td>1</td>\n",
       "    </tr>\n",
       "    <tr>\n",
       "      <th>1</th>\n",
       "      <td>36.0</td>\n",
       "      <td>118.0</td>\n",
       "      <td>8.0</td>\n",
       "      <td>72</td>\n",
       "      <td>5</td>\n",
       "      <td>2</td>\n",
       "    </tr>\n",
       "    <tr>\n",
       "      <th>2</th>\n",
       "      <td>12.0</td>\n",
       "      <td>149.0</td>\n",
       "      <td>12.6</td>\n",
       "      <td>74</td>\n",
       "      <td>5</td>\n",
       "      <td>3</td>\n",
       "    </tr>\n",
       "    <tr>\n",
       "      <th>3</th>\n",
       "      <td>18.0</td>\n",
       "      <td>313.0</td>\n",
       "      <td>11.5</td>\n",
       "      <td>62</td>\n",
       "      <td>5</td>\n",
       "      <td>4</td>\n",
       "    </tr>\n",
       "    <tr>\n",
       "      <th>4</th>\n",
       "      <td>NaN</td>\n",
       "      <td>NaN</td>\n",
       "      <td>14.3</td>\n",
       "      <td>56</td>\n",
       "      <td>5</td>\n",
       "      <td>5</td>\n",
       "    </tr>\n",
       "    <tr>\n",
       "      <th>5</th>\n",
       "      <td>28.0</td>\n",
       "      <td>NaN</td>\n",
       "      <td>14.9</td>\n",
       "      <td>66</td>\n",
       "      <td>5</td>\n",
       "      <td>6</td>\n",
       "    </tr>\n",
       "    <tr>\n",
       "      <th>6</th>\n",
       "      <td>23.0</td>\n",
       "      <td>299.0</td>\n",
       "      <td>8.6</td>\n",
       "      <td>65</td>\n",
       "      <td>5</td>\n",
       "      <td>7</td>\n",
       "    </tr>\n",
       "  </tbody>\n",
       "</table>\n",
       "</div>"
      ],
      "text/plain": [
       "   Ozone  Solar.R  Wind  Temp  Month  Day\n",
       "0   41.0    190.0   7.4    67      5    1\n",
       "1   36.0    118.0   8.0    72      5    2\n",
       "2   12.0    149.0  12.6    74      5    3\n",
       "3   18.0    313.0  11.5    62      5    4\n",
       "4    NaN      NaN  14.3    56      5    5\n",
       "5   28.0      NaN  14.9    66      5    6\n",
       "6   23.0    299.0   8.6    65      5    7"
      ]
     },
     "execution_count": 46,
     "metadata": {},
     "output_type": "execute_result"
    }
   ],
   "source": [
    "data.loc[0:6,:]"
   ]
  },
  {
   "cell_type": "markdown",
   "id": "c566e04b",
   "metadata": {},
   "source": [
    "## Buscar elementos de un solo renglón en el dataframe, con columnas seleccionadas"
   ]
  },
  {
   "cell_type": "code",
   "execution_count": 48,
   "id": "34f7ad88",
   "metadata": {},
   "outputs": [
    {
     "data": {
      "text/plain": [
       "Ozone    41.0\n",
       "Temp     67.0\n",
       "Day       1.0\n",
       "Name: 0, dtype: float64"
      ]
     },
     "execution_count": 48,
     "metadata": {},
     "output_type": "execute_result"
    }
   ],
   "source": [
    "data.loc[0, ['Ozone', 'Temp', 'Day']] # 0 es el indice del dataframe"
   ]
  },
  {
   "cell_type": "markdown",
   "id": "7b37c903",
   "metadata": {},
   "source": [
    "## Muestra todos los elementos del renglón 3 con todas las columnas"
   ]
  },
  {
   "cell_type": "code",
   "execution_count": 49,
   "id": "1f2238de",
   "metadata": {},
   "outputs": [
    {
     "data": {
      "text/plain": [
       "Ozone       18.0\n",
       "Solar.R    313.0\n",
       "Wind        11.5\n",
       "Temp        62.0\n",
       "Month        5.0\n",
       "Day          4.0\n",
       "Name: 3, dtype: float64"
      ]
     },
     "execution_count": 49,
     "metadata": {},
     "output_type": "execute_result"
    }
   ],
   "source": [
    "data.loc[3,]"
   ]
  },
  {
   "cell_type": "markdown",
   "id": "954b0609",
   "metadata": {},
   "source": [
    "## Dato del renglón 3 y de la columna 1"
   ]
  },
  {
   "cell_type": "code",
   "execution_count": 50,
   "id": "bf9dc32d",
   "metadata": {},
   "outputs": [
    {
     "data": {
      "text/plain": [
       "313.0"
      ]
     },
     "execution_count": 50,
     "metadata": {},
     "output_type": "execute_result"
    }
   ],
   "source": [
    "data.iloc[3,1]"
   ]
  },
  {
   "cell_type": "code",
   "execution_count": 52,
   "id": "e4817490",
   "metadata": {},
   "outputs": [
    {
     "data": {
      "text/html": [
       "<div>\n",
       "<style scoped>\n",
       "    .dataframe tbody tr th:only-of-type {\n",
       "        vertical-align: middle;\n",
       "    }\n",
       "\n",
       "    .dataframe tbody tr th {\n",
       "        vertical-align: top;\n",
       "    }\n",
       "\n",
       "    .dataframe thead th {\n",
       "        text-align: right;\n",
       "    }\n",
       "</style>\n",
       "<table border=\"1\" class=\"dataframe\">\n",
       "  <thead>\n",
       "    <tr style=\"text-align: right;\">\n",
       "      <th></th>\n",
       "      <th>Ozone</th>\n",
       "      <th>Solar.R</th>\n",
       "      <th>Wind</th>\n",
       "      <th>Temp</th>\n",
       "      <th>Month</th>\n",
       "      <th>Day</th>\n",
       "    </tr>\n",
       "  </thead>\n",
       "  <tbody>\n",
       "    <tr>\n",
       "      <th>0</th>\n",
       "      <td>41.0</td>\n",
       "      <td>190.0</td>\n",
       "      <td>7.4</td>\n",
       "      <td>67</td>\n",
       "      <td>5</td>\n",
       "      <td>1</td>\n",
       "    </tr>\n",
       "    <tr>\n",
       "      <th>1</th>\n",
       "      <td>36.0</td>\n",
       "      <td>118.0</td>\n",
       "      <td>8.0</td>\n",
       "      <td>72</td>\n",
       "      <td>5</td>\n",
       "      <td>2</td>\n",
       "    </tr>\n",
       "    <tr>\n",
       "      <th>2</th>\n",
       "      <td>12.0</td>\n",
       "      <td>149.0</td>\n",
       "      <td>12.6</td>\n",
       "      <td>74</td>\n",
       "      <td>5</td>\n",
       "      <td>3</td>\n",
       "    </tr>\n",
       "    <tr>\n",
       "      <th>3</th>\n",
       "      <td>18.0</td>\n",
       "      <td>313.0</td>\n",
       "      <td>11.5</td>\n",
       "      <td>62</td>\n",
       "      <td>5</td>\n",
       "      <td>4</td>\n",
       "    </tr>\n",
       "    <tr>\n",
       "      <th>4</th>\n",
       "      <td>NaN</td>\n",
       "      <td>NaN</td>\n",
       "      <td>14.3</td>\n",
       "      <td>56</td>\n",
       "      <td>5</td>\n",
       "      <td>5</td>\n",
       "    </tr>\n",
       "  </tbody>\n",
       "</table>\n",
       "</div>"
      ],
      "text/plain": [
       "   Ozone  Solar.R  Wind  Temp  Month  Day\n",
       "0   41.0    190.0   7.4    67      5    1\n",
       "1   36.0    118.0   8.0    72      5    2\n",
       "2   12.0    149.0  12.6    74      5    3\n",
       "3   18.0    313.0  11.5    62      5    4\n",
       "4    NaN      NaN  14.3    56      5    5"
      ]
     },
     "execution_count": 52,
     "metadata": {},
     "output_type": "execute_result"
    }
   ],
   "source": [
    "data.head() # Para verificar"
   ]
  },
  {
   "cell_type": "markdown",
   "id": "fc03f181",
   "metadata": {},
   "source": [
    "## Graficando en python con Matplotlib\n",
    "\n",
    "### Histograma"
   ]
  },
  {
   "cell_type": "code",
   "execution_count": 71,
   "id": "e02502d1",
   "metadata": {},
   "outputs": [],
   "source": [
    "def histograma_datos(datos):\n",
    "    plt.figure(figsize=(10,6))\n",
    "    plt.hist(datos,color='yellow',ec='black',linewidth=2)\n",
    "    plt.title(label = 'Histograma en python',fontsize=25,color=\"green\",fontstyle='italic')\n",
    "    plt.xlabel('Clases',fontsize=20,color=\"red\",fontstyle='oblique')\n",
    "    plt.ylabel('Frecuencia',fontsize=20,color=\"darkblue\",fontstyle='oblique')\n",
    "    plt.grid()\n",
    "    plt.show()"
   ]
  },
  {
   "cell_type": "code",
   "execution_count": 72,
   "id": "68398bed",
   "metadata": {},
   "outputs": [
    {
     "data": {
      "image/png": "[encoded data removed]",
      "text/plain": [
       "<Figure size 720x432 with 1 Axes>"
      ]
     },
     "metadata": {
      "needs_background": "light"
     },
     "output_type": "display_data"
    }
   ],
   "source": [
    "histograma_datos(data['Ozone'])"
   ]
  },
  {
   "cell_type": "code",
   "execution_count": 94,
   "id": "4c55e5b2",
   "metadata": {},
   "outputs": [
    {
     "data": {
      "image/png": "[encoded data removed]",
      "text/plain": [
       "<Figure size 1080x720 with 1 Axes>"
      ]
     },
     "metadata": {
      "needs_background": "light"
     },
     "output_type": "display_data"
    }
   ],
   "source": [
    "def plot_points(datos):\n",
    "    name_col = list(datos)\n",
    "    plt.figure(figsize=(15,10))\n",
    "    plt.plot(datos[name_col[0]],datos[name_col[1]],\"o\",color = 'darkgreen',markersize = 10)\n",
    "    plt.title(label = 'Gráfica de puntos (dispersión)',fontsize=25,color=\"darkred\",fontstyle='italic')\n",
    "    plt.grid()\n",
    "    plt.xlabel(name_col[0],fontsize=20,color=\"red\",fontstyle='oblique')\n",
    "    plt.ylabel(name_col[1],fontsize=20,color=\"darkblue\",fontstyle='oblique')\n",
    "    plt.show()\n",
    "    \n",
    "# Concatencando las series Ozone y Wind de data en data_ow\n",
    "dataow = pd.concat([data.Ozone,data.Wind],axis=1)\n",
    "\n",
    "#Renombrando las columnas del dataframe (para comodidad)\n",
    "\n",
    "dataow = dataow.rename(index=str, columns={'Ozone':'Ozono',\n",
    "                                           'Wind':'Viento'})\n",
    "\n",
    "dataow = dataow.dropna()\n",
    "plot_points(dataow)"
   ]
  },
  {
   "cell_type": "code",
   "execution_count": null,
   "id": "31e06f6d",
   "metadata": {},
   "outputs": [],
   "source": []
  }
 ],
 "metadata": {
  "kernelspec": {
   "display_name": "Python 3 (ipykernel)",
   "language": "python",
   "name": "python3"
  },
  "language_info": {
   "codemirror_mode": {
    "name": "ipython",
    "version": 3
   },
   "file_extension": ".py",
   "mimetype": "text/x-python",
   "name": "python",
   "nbconvert_exporter": "python",
   "pygments_lexer": "ipython3",
   "version": "3.9.7"
  }
 },
 "nbformat": 4,
 "nbformat_minor": 5
}
