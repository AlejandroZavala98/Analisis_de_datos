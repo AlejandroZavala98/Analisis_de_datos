{
 "cells": [
  {
   "cell_type": "markdown",
   "id": "8b15fc99",
   "metadata": {},
   "source": [
    "# Explorando información \"airquality\"\n",
    "\n",
    "En esta exploracion se usara el dataframe de datos \"airquality\" proveniente de librerías de R. \n",
    "\n",
    "Cuya descripción traducida del sitio https://www.rdocumentation.org/packages/datasets/versions/3.6.2/topics/airquality\n",
    "\n",
    "\n",
    "Lecturas diarias de los siguientes valores de calidad del aire del 1 de mayo de 1973 (un martes) al 30 de septiembre de 1973.\n",
    "\n",
    "Ozono: Media de ozono en partes por mil millones de 1300 a 1500 horas en Roosevelt Island\n",
    "\n",
    "Solar.R: Radiación solar en Langleys en la banda de frecuencia 4000--7700 Angstroms de 0800 a 1200 horas en Central Park\n",
    "\n",
    "Viento: Velocidad media del viento en millas por hora a las 07:00 y a las 1000 horas en el aeropuerto LaGuardia\n",
    "\n",
    "Temp: temperatura máxima diaria en grados Fahrenheit en el aeropuerto de La Guardia.\n",
    "\n",
    "Nota: en algunos casos nos referimos como registro al indice que le otorga la libreria de pandas al cargar el archivo"
   ]
  },
  {
   "cell_type": "markdown",
   "id": "1e4f8918",
   "metadata": {},
   "source": [
    "## Algunas configuraciones antes de comenzar"
   ]
  },
  {
   "cell_type": "code",
   "execution_count": 1,
   "id": "b2c81ea7",
   "metadata": {},
   "outputs": [],
   "source": [
    "import pandas as pd\n",
    "import matplotlib.pyplot as plt"
   ]
  },
  {
   "cell_type": "markdown",
   "id": "b7c7bc60",
   "metadata": {},
   "source": [
    "## Cargando el dataframe\n",
    "\n",
    "A manera práctica se cargara manualmente la información"
   ]
  },
  {
   "cell_type": "code",
   "execution_count": 2,
   "id": "fa873089",
   "metadata": {},
   "outputs": [],
   "source": [
    "data = pd.DataFrame([\n",
    "    [41,190,7.4,67,5,1],[36,118,8,72,5,2], [12,149,12.6,74,5,3], [18,313,11.5,62,5,4], [None,None,14.3,56,5,5], [28,None,14.9,66,5,6], [23,299,8.6,65,5,7],\n",
    "    [19,99,13.8,59,5,8], [8,19,20.1,61,5,9], [None,194,8.6,69,5,10], [7,None,6.9,74,5,11], [16,256,9.7,69,5,12], [11,290,9.2,66,5,13], [14,274,10.9,68,5,14],\n",
    "    [18,65,13.2,58,5,15], [14,334,11.5,64,5,16], [34,307,12,66,5,17], [6,78,18.4,57,5,18], [30,322,11.5,68,5,19], [11,44,9.7,62,5,20], [1,8,9.7,59,5,21],\n",
    "    [11,320,16.6,73,5,22], [4,25,9.7,61,5,23], [32,92,12,61,5,24], [None,66,16.6,57,5,25], [None,266,14.9,58,5,26], [None,None,8,57,5,27], [23,13,12,67,5,28],\n",
    "    [45,252,14.9,81,5,29], [115,223,5.7,79,5,30], [37,279,7.4,76,5,31], [None,286,8.6,78,6,1], [None,287,9.7,74,6,2], [None,242,16.1,67,6,3], [None,186,9.2,84,6,4],\n",
    "    [None,220,8.6,85,6,5], [None,264,14.3,79,6,6], [29,127,9.7,82,6,7], [None,273,6.9,87,6,8], [71,291,13.8,90,6,9], [39,323,11.5,87,6,10], [None,259,10.9,93,6,11],\n",
    "    [None,250,9.2,92,6,12], [23,148,8,82,6,13], [None,332,13.8,80,6,14], [None,322,11.5,79,6,15], [21,191,14.9,77,6,16], [37,284,20.7,72,6,17], [20,37,9.2,65,6,18],\n",
    "    [12,120,11.5,73,6,19], [13,137,10.3,76,6,20], [None,150,6.3,77,6,21], [None,59,1.7,76,6,22], [None,91,4.6,76,6,23], [None,250,6.3,76,6,24], [None,135,8,75,6,25],\n",
    "    [None,127,8,78,6,26], [None,47,10.3,73,6,27], [None,98,11.5,80,6,28], [None,31,14.9,77,6,29], [None,138,8,83,6,30], [135,269,4.1,84,7,1], [49,248,9.2,85,7,2],\n",
    "    [32,236,9.2,81,7,3], [None,101,10.9,84,7,4], [64,175,4.6,83,7,5], [40,314,10.9,83,7,6], [77,276,5.1,88,7,7], [97,267,6.3,92,7,8], [97,272,5.7,92,7,9], [85,175,7.4,89,7,10],\n",
    "    [None,139,8.6,82,7,11], [10,264,14.3,73,7,12], [27,175,14.9,81,7,13], [None,291,14.9,91,7,14], [7,48,14.3,80,7,15], [48,260,6.9,81,7,16], [35,274,10.3,82,7,17],\n",
    "    [61,285,6.3,84,7,18], [79,187,5.1,87,7,19], [63,220,11.5,85,7,20], [16,7,6.9,74,7,21], [None,258,9.7,81,7,22], [None,295,11.5,82,7,23], [80,294,8.6,86,7,24], [108,223,8,85,7,25],\n",
    "    [20,81,8.6,82,7,26], [52,82,12,86,7,27], [82,213,7.4,88,7,28], [50,275,7.4,86,7,29], [64,253,7.4,83,7,30], [59,254,9.2,81,7,31], [39,83,6.9,81,8,1], [9,24,13.8,81,8,2],\n",
    "    [16,77,7.4,82,8,3], [78,None,6.9,86,8,4], [35,None,7.4,85,8,5], [66,None,4.6,87,8,6], [122,255,4,89,8,7], [89,229,10.3,90,8,8], [110,207,8,90,8,9], [None,222,8.6,92,8,10],\n",
    "    [None,137,11.5,86,8,11], [44,192,11.5,86,8,12], [28,273,11.5,82,8,13], [65,157,9.7,80,8,14], [None,64,11.5,79,8,15], [22,71,10.3,77,8,16], [59,51,6.3,79,8,17], [23,115,7.4,76,8,18],\n",
    "    [31,244,10.9,78,8,19], [44,190,10.3,78,8,20], [21,259,15.5,77,8,21], [9,36,14.3,72,8,22], [None,255,12.6,75,8,23], [45,212,9.7,79,8,24], [168,238,3.4,81,8,25], [73,215,8,86,8,26],\n",
    "    [None,153,5.7,88,8,27], [76,203,9.7,97,8,28], [118,225,2.3,94,8,29], [84,237,6.3,96,8,30], [85,188,6.3,94,8,31], [96,167,6.9,91,9,1], [78,197,5.1,92,9,2], [73,183,2.8,93,9,3],\n",
    "    [91,189,4.6,93,9,4], [47,95,7.4,87,9,5], [32,92,15.5,84,9,6], [20,252,10.9,80,9,7], [23,220,10.3,78,9,8], [21,230,10.9,75,9,9], [24,259,9.7,73,9,10], [44,236,14.9,81,9,11],\n",
    "    [21,259,15.5,76,9,12], [28,238,6.3,77,9,13], [9,24,10.9,71,9,14], [13,112,11.5,71,9,15], [46,237,6.9,78,9,16], [18,224,13.8,67,9,17], [13,27,10.3,76,9,18], [24,238,10.3,68,9,19],\n",
    "    [16,201,8,82,9,20], [13,238,12.6,64,9,21], [23,14,9.2,71,9,22], [36,139,10.3,81,9,23], [7,49,10.3,69,9,24], [14,20,16.6,63,9,25], [30,193,6.9,70,9,26], [None,145,13.2,77,9,27],\n",
    "    [14,191,14.3,75,9,28], [18,131,8,76,9,29], [20,223,11.5,68,9,30]],columns = [\"Ozone\",\"Solar.R\",\"Wind\",\"Temp\",\"Month\",\"Day\"])"
   ]
  },
  {
   "cell_type": "code",
   "execution_count": 3,
   "id": "6308203b",
   "metadata": {},
   "outputs": [
    {
     "name": "stdout",
     "output_type": "stream",
     "text": [
      "El tipo de la variable data es : <class 'pandas.core.frame.DataFrame'>\n"
     ]
    }
   ],
   "source": [
    "print('El tipo de la variable data es : {}'.format(type(data)))"
   ]
  },
  {
   "cell_type": "markdown",
   "id": "9a9ce377",
   "metadata": {},
   "source": [
    "### Primer acercamiento a los datos"
   ]
  },
  {
   "cell_type": "markdown",
   "id": "29ff7340",
   "metadata": {},
   "source": [
    "Mostrando los primero elementos"
   ]
  },
  {
   "cell_type": "code",
   "execution_count": 4,
   "id": "c0b0b70b",
   "metadata": {},
   "outputs": [
    {
     "data": {
      "text/html": [
       "<div>\n",
       "<style scoped>\n",
       "    .dataframe tbody tr th:only-of-type {\n",
       "        vertical-align: middle;\n",
       "    }\n",
       "\n",
       "    .dataframe tbody tr th {\n",
       "        vertical-align: top;\n",
       "    }\n",
       "\n",
       "    .dataframe thead th {\n",
       "        text-align: right;\n",
       "    }\n",
       "</style>\n",
       "<table border=\"1\" class=\"dataframe\">\n",
       "  <thead>\n",
       "    <tr style=\"text-align: right;\">\n",
       "      <th></th>\n",
       "      <th>Ozone</th>\n",
       "      <th>Solar.R</th>\n",
       "      <th>Wind</th>\n",
       "      <th>Temp</th>\n",
       "      <th>Month</th>\n",
       "      <th>Day</th>\n",
       "    </tr>\n",
       "  </thead>\n",
       "  <tbody>\n",
       "    <tr>\n",
       "      <th>0</th>\n",
       "      <td>41.0</td>\n",
       "      <td>190.0</td>\n",
       "      <td>7.4</td>\n",
       "      <td>67</td>\n",
       "      <td>5</td>\n",
       "      <td>1</td>\n",
       "    </tr>\n",
       "    <tr>\n",
       "      <th>1</th>\n",
       "      <td>36.0</td>\n",
       "      <td>118.0</td>\n",
       "      <td>8.0</td>\n",
       "      <td>72</td>\n",
       "      <td>5</td>\n",
       "      <td>2</td>\n",
       "    </tr>\n",
       "    <tr>\n",
       "      <th>2</th>\n",
       "      <td>12.0</td>\n",
       "      <td>149.0</td>\n",
       "      <td>12.6</td>\n",
       "      <td>74</td>\n",
       "      <td>5</td>\n",
       "      <td>3</td>\n",
       "    </tr>\n",
       "    <tr>\n",
       "      <th>3</th>\n",
       "      <td>18.0</td>\n",
       "      <td>313.0</td>\n",
       "      <td>11.5</td>\n",
       "      <td>62</td>\n",
       "      <td>5</td>\n",
       "      <td>4</td>\n",
       "    </tr>\n",
       "    <tr>\n",
       "      <th>4</th>\n",
       "      <td>NaN</td>\n",
       "      <td>NaN</td>\n",
       "      <td>14.3</td>\n",
       "      <td>56</td>\n",
       "      <td>5</td>\n",
       "      <td>5</td>\n",
       "    </tr>\n",
       "  </tbody>\n",
       "</table>\n",
       "</div>"
      ],
      "text/plain": [
       "   Ozone  Solar.R  Wind  Temp  Month  Day\n",
       "0   41.0    190.0   7.4    67      5    1\n",
       "1   36.0    118.0   8.0    72      5    2\n",
       "2   12.0    149.0  12.6    74      5    3\n",
       "3   18.0    313.0  11.5    62      5    4\n",
       "4    NaN      NaN  14.3    56      5    5"
      ]
     },
     "execution_count": 4,
     "metadata": {},
     "output_type": "execute_result"
    }
   ],
   "source": [
    "data.head()"
   ]
  },
  {
   "cell_type": "markdown",
   "id": "1932ee07",
   "metadata": {},
   "source": [
    "Mostrando los últimos elementos"
   ]
  },
  {
   "cell_type": "code",
   "execution_count": 5,
   "id": "8ce21bd9",
   "metadata": {},
   "outputs": [
    {
     "data": {
      "text/html": [
       "<div>\n",
       "<style scoped>\n",
       "    .dataframe tbody tr th:only-of-type {\n",
       "        vertical-align: middle;\n",
       "    }\n",
       "\n",
       "    .dataframe tbody tr th {\n",
       "        vertical-align: top;\n",
       "    }\n",
       "\n",
       "    .dataframe thead th {\n",
       "        text-align: right;\n",
       "    }\n",
       "</style>\n",
       "<table border=\"1\" class=\"dataframe\">\n",
       "  <thead>\n",
       "    <tr style=\"text-align: right;\">\n",
       "      <th></th>\n",
       "      <th>Ozone</th>\n",
       "      <th>Solar.R</th>\n",
       "      <th>Wind</th>\n",
       "      <th>Temp</th>\n",
       "      <th>Month</th>\n",
       "      <th>Day</th>\n",
       "    </tr>\n",
       "  </thead>\n",
       "  <tbody>\n",
       "    <tr>\n",
       "      <th>148</th>\n",
       "      <td>30.0</td>\n",
       "      <td>193.0</td>\n",
       "      <td>6.9</td>\n",
       "      <td>70</td>\n",
       "      <td>9</td>\n",
       "      <td>26</td>\n",
       "    </tr>\n",
       "    <tr>\n",
       "      <th>149</th>\n",
       "      <td>NaN</td>\n",
       "      <td>145.0</td>\n",
       "      <td>13.2</td>\n",
       "      <td>77</td>\n",
       "      <td>9</td>\n",
       "      <td>27</td>\n",
       "    </tr>\n",
       "    <tr>\n",
       "      <th>150</th>\n",
       "      <td>14.0</td>\n",
       "      <td>191.0</td>\n",
       "      <td>14.3</td>\n",
       "      <td>75</td>\n",
       "      <td>9</td>\n",
       "      <td>28</td>\n",
       "    </tr>\n",
       "    <tr>\n",
       "      <th>151</th>\n",
       "      <td>18.0</td>\n",
       "      <td>131.0</td>\n",
       "      <td>8.0</td>\n",
       "      <td>76</td>\n",
       "      <td>9</td>\n",
       "      <td>29</td>\n",
       "    </tr>\n",
       "    <tr>\n",
       "      <th>152</th>\n",
       "      <td>20.0</td>\n",
       "      <td>223.0</td>\n",
       "      <td>11.5</td>\n",
       "      <td>68</td>\n",
       "      <td>9</td>\n",
       "      <td>30</td>\n",
       "    </tr>\n",
       "  </tbody>\n",
       "</table>\n",
       "</div>"
      ],
      "text/plain": [
       "     Ozone  Solar.R  Wind  Temp  Month  Day\n",
       "148   30.0    193.0   6.9    70      9   26\n",
       "149    NaN    145.0  13.2    77      9   27\n",
       "150   14.0    191.0  14.3    75      9   28\n",
       "151   18.0    131.0   8.0    76      9   29\n",
       "152   20.0    223.0  11.5    68      9   30"
      ]
     },
     "execution_count": 5,
     "metadata": {},
     "output_type": "execute_result"
    }
   ],
   "source": [
    "data.tail()"
   ]
  },
  {
   "cell_type": "markdown",
   "id": "96a31fa4",
   "metadata": {},
   "source": [
    "Información general del dataframe"
   ]
  },
  {
   "cell_type": "code",
   "execution_count": 6,
   "id": "14a7eebc",
   "metadata": {},
   "outputs": [
    {
     "name": "stdout",
     "output_type": "stream",
     "text": [
      "<class 'pandas.core.frame.DataFrame'>\n",
      "RangeIndex: 153 entries, 0 to 152\n",
      "Data columns (total 6 columns):\n",
      " #   Column   Non-Null Count  Dtype  \n",
      "---  ------   --------------  -----  \n",
      " 0   Ozone    116 non-null    float64\n",
      " 1   Solar.R  146 non-null    float64\n",
      " 2   Wind     153 non-null    float64\n",
      " 3   Temp     153 non-null    int64  \n",
      " 4   Month    153 non-null    int64  \n",
      " 5   Day      153 non-null    int64  \n",
      "dtypes: float64(3), int64(3)\n",
      "memory usage: 7.3 KB\n"
     ]
    }
   ],
   "source": [
    "data.info()"
   ]
  },
  {
   "cell_type": "markdown",
   "id": "b239610a",
   "metadata": {},
   "source": [
    "Nombres de cabecera del dataframe"
   ]
  },
  {
   "cell_type": "code",
   "execution_count": 7,
   "id": "a8545971",
   "metadata": {},
   "outputs": [
    {
     "data": {
      "text/plain": [
       "['Ozone', 'Solar.R', 'Wind', 'Temp', 'Month', 'Day']"
      ]
     },
     "execution_count": 7,
     "metadata": {},
     "output_type": "execute_result"
    }
   ],
   "source": [
    "list(data) #Leer nombres de cabecera"
   ]
  },
  {
   "cell_type": "code",
   "execution_count": 8,
   "id": "9d986773",
   "metadata": {},
   "outputs": [
    {
     "data": {
      "text/plain": [
       "['Ozone', 'Solar.R', 'Wind', 'Temp', 'Month', 'Day']"
      ]
     },
     "execution_count": 8,
     "metadata": {},
     "output_type": "execute_result"
    }
   ],
   "source": [
    "# Otra manera de leer nombres de cabecera\n",
    "data.columns.values.tolist()"
   ]
  },
  {
   "cell_type": "markdown",
   "id": "22f427f1",
   "metadata": {},
   "source": [
    "## Exploración de datos"
   ]
  },
  {
   "cell_type": "markdown",
   "id": "21e320b0",
   "metadata": {},
   "source": [
    "Mostrando solo la columna de un dataframe"
   ]
  },
  {
   "cell_type": "code",
   "execution_count": 9,
   "id": "ded31ee2",
   "metadata": {},
   "outputs": [
    {
     "data": {
      "text/plain": [
       "0      41.0\n",
       "1      36.0\n",
       "2      12.0\n",
       "3      18.0\n",
       "4       NaN\n",
       "       ... \n",
       "148    30.0\n",
       "149     NaN\n",
       "150    14.0\n",
       "151    18.0\n",
       "152    20.0\n",
       "Name: Ozone, Length: 153, dtype: float64"
      ]
     },
     "execution_count": 9,
     "metadata": {},
     "output_type": "execute_result"
    }
   ],
   "source": [
    "data['Ozone']"
   ]
  },
  {
   "cell_type": "code",
   "execution_count": 10,
   "id": "9df3f6d6",
   "metadata": {},
   "outputs": [
    {
     "name": "stdout",
     "output_type": "stream",
     "text": [
      "El tipo de la variable data['Ozone'] es: <class 'pandas.core.series.Series'>\n"
     ]
    }
   ],
   "source": [
    "print('El tipo de la variable data[\\'Ozone\\'] es: {}'.format(type(data['Ozone'])))"
   ]
  },
  {
   "cell_type": "markdown",
   "id": "a93cd8e9",
   "metadata": {},
   "source": [
    "Mostrando una cantidad de registros hasta n-1"
   ]
  },
  {
   "cell_type": "code",
   "execution_count": 11,
   "id": "512de392",
   "metadata": {},
   "outputs": [
    {
     "data": {
      "text/html": [
       "<div>\n",
       "<style scoped>\n",
       "    .dataframe tbody tr th:only-of-type {\n",
       "        vertical-align: middle;\n",
       "    }\n",
       "\n",
       "    .dataframe tbody tr th {\n",
       "        vertical-align: top;\n",
       "    }\n",
       "\n",
       "    .dataframe thead th {\n",
       "        text-align: right;\n",
       "    }\n",
       "</style>\n",
       "<table border=\"1\" class=\"dataframe\">\n",
       "  <thead>\n",
       "    <tr style=\"text-align: right;\">\n",
       "      <th></th>\n",
       "      <th>Ozone</th>\n",
       "      <th>Solar.R</th>\n",
       "      <th>Wind</th>\n",
       "      <th>Temp</th>\n",
       "      <th>Month</th>\n",
       "      <th>Day</th>\n",
       "    </tr>\n",
       "  </thead>\n",
       "  <tbody>\n",
       "    <tr>\n",
       "      <th>0</th>\n",
       "      <td>41.0</td>\n",
       "      <td>190.0</td>\n",
       "      <td>7.4</td>\n",
       "      <td>67</td>\n",
       "      <td>5</td>\n",
       "      <td>1</td>\n",
       "    </tr>\n",
       "    <tr>\n",
       "      <th>1</th>\n",
       "      <td>36.0</td>\n",
       "      <td>118.0</td>\n",
       "      <td>8.0</td>\n",
       "      <td>72</td>\n",
       "      <td>5</td>\n",
       "      <td>2</td>\n",
       "    </tr>\n",
       "    <tr>\n",
       "      <th>2</th>\n",
       "      <td>12.0</td>\n",
       "      <td>149.0</td>\n",
       "      <td>12.6</td>\n",
       "      <td>74</td>\n",
       "      <td>5</td>\n",
       "      <td>3</td>\n",
       "    </tr>\n",
       "  </tbody>\n",
       "</table>\n",
       "</div>"
      ],
      "text/plain": [
       "   Ozone  Solar.R  Wind  Temp  Month  Day\n",
       "0   41.0    190.0   7.4    67      5    1\n",
       "1   36.0    118.0   8.0    72      5    2\n",
       "2   12.0    149.0  12.6    74      5    3"
      ]
     },
     "execution_count": 11,
     "metadata": {},
     "output_type": "execute_result"
    }
   ],
   "source": [
    "data[0:3]"
   ]
  },
  {
   "cell_type": "markdown",
   "id": "6c8adb35",
   "metadata": {},
   "source": [
    "Mostrando cantidad de registros (desde a hasta b-1) con las columnas de preferencia"
   ]
  },
  {
   "cell_type": "code",
   "execution_count": 12,
   "id": "313fd07e",
   "metadata": {},
   "outputs": [
    {
     "name": "stdout",
     "output_type": "stream",
     "text": [
      "Mostrando cantidad de renglones (desde a hasta b-1) con las columnas de preferencia\n"
     ]
    },
    {
     "data": {
      "text/html": [
       "<div>\n",
       "<style scoped>\n",
       "    .dataframe tbody tr th:only-of-type {\n",
       "        vertical-align: middle;\n",
       "    }\n",
       "\n",
       "    .dataframe tbody tr th {\n",
       "        vertical-align: top;\n",
       "    }\n",
       "\n",
       "    .dataframe thead th {\n",
       "        text-align: right;\n",
       "    }\n",
       "</style>\n",
       "<table border=\"1\" class=\"dataframe\">\n",
       "  <thead>\n",
       "    <tr style=\"text-align: right;\">\n",
       "      <th></th>\n",
       "      <th>Wind</th>\n",
       "      <th>Ozone</th>\n",
       "      <th>Month</th>\n",
       "      <th>Day</th>\n",
       "    </tr>\n",
       "  </thead>\n",
       "  <tbody>\n",
       "    <tr>\n",
       "      <th>5</th>\n",
       "      <td>14.9</td>\n",
       "      <td>28.0</td>\n",
       "      <td>5</td>\n",
       "      <td>6</td>\n",
       "    </tr>\n",
       "    <tr>\n",
       "      <th>6</th>\n",
       "      <td>8.6</td>\n",
       "      <td>23.0</td>\n",
       "      <td>5</td>\n",
       "      <td>7</td>\n",
       "    </tr>\n",
       "    <tr>\n",
       "      <th>7</th>\n",
       "      <td>13.8</td>\n",
       "      <td>19.0</td>\n",
       "      <td>5</td>\n",
       "      <td>8</td>\n",
       "    </tr>\n",
       "    <tr>\n",
       "      <th>8</th>\n",
       "      <td>20.1</td>\n",
       "      <td>8.0</td>\n",
       "      <td>5</td>\n",
       "      <td>9</td>\n",
       "    </tr>\n",
       "    <tr>\n",
       "      <th>9</th>\n",
       "      <td>8.6</td>\n",
       "      <td>NaN</td>\n",
       "      <td>5</td>\n",
       "      <td>10</td>\n",
       "    </tr>\n",
       "  </tbody>\n",
       "</table>\n",
       "</div>"
      ],
      "text/plain": [
       "   Wind  Ozone  Month  Day\n",
       "5  14.9   28.0      5    6\n",
       "6   8.6   23.0      5    7\n",
       "7  13.8   19.0      5    8\n",
       "8  20.1    8.0      5    9\n",
       "9   8.6    NaN      5   10"
      ]
     },
     "execution_count": 12,
     "metadata": {},
     "output_type": "execute_result"
    }
   ],
   "source": [
    "a = 5\n",
    "b = 10\n",
    "name_preferencia = ['Wind','Ozone','Month','Day']\n",
    "print('Mostrando cantidad de renglones (desde a hasta b-1) con las columnas de preferencia')\n",
    "data[name_preferencia][a:b]"
   ]
  },
  {
   "cell_type": "markdown",
   "id": "b4fd5a97",
   "metadata": {},
   "source": [
    "### Usando funciones iloc y loc"
   ]
  },
  {
   "cell_type": "markdown",
   "id": "d430a0bd",
   "metadata": {},
   "source": [
    "Mostrando primeras 2 observaciones y primeras 3 columnas"
   ]
  },
  {
   "cell_type": "code",
   "execution_count": 13,
   "id": "0a557fdc",
   "metadata": {},
   "outputs": [
    {
     "data": {
      "text/html": [
       "<div>\n",
       "<style scoped>\n",
       "    .dataframe tbody tr th:only-of-type {\n",
       "        vertical-align: middle;\n",
       "    }\n",
       "\n",
       "    .dataframe tbody tr th {\n",
       "        vertical-align: top;\n",
       "    }\n",
       "\n",
       "    .dataframe thead th {\n",
       "        text-align: right;\n",
       "    }\n",
       "</style>\n",
       "<table border=\"1\" class=\"dataframe\">\n",
       "  <thead>\n",
       "    <tr style=\"text-align: right;\">\n",
       "      <th></th>\n",
       "      <th>Ozone</th>\n",
       "      <th>Solar.R</th>\n",
       "      <th>Wind</th>\n",
       "    </tr>\n",
       "  </thead>\n",
       "  <tbody>\n",
       "    <tr>\n",
       "      <th>0</th>\n",
       "      <td>41.0</td>\n",
       "      <td>190.0</td>\n",
       "      <td>7.4</td>\n",
       "    </tr>\n",
       "    <tr>\n",
       "      <th>1</th>\n",
       "      <td>36.0</td>\n",
       "      <td>118.0</td>\n",
       "      <td>8.0</td>\n",
       "    </tr>\n",
       "  </tbody>\n",
       "</table>\n",
       "</div>"
      ],
      "text/plain": [
       "   Ozone  Solar.R  Wind\n",
       "0   41.0    190.0   7.4\n",
       "1   36.0    118.0   8.0"
      ]
     },
     "execution_count": 13,
     "metadata": {},
     "output_type": "execute_result"
    }
   ],
   "source": [
    "data.iloc[0:2, 0:3] # Va de a hasta b-1"
   ]
  },
  {
   "cell_type": "markdown",
   "id": "0b3f181b",
   "metadata": {},
   "source": [
    "Seleccionando del registro 0 al 6, mostrando todas las columnas"
   ]
  },
  {
   "cell_type": "code",
   "execution_count": 14,
   "id": "e81f38be",
   "metadata": {},
   "outputs": [
    {
     "data": {
      "text/html": [
       "<div>\n",
       "<style scoped>\n",
       "    .dataframe tbody tr th:only-of-type {\n",
       "        vertical-align: middle;\n",
       "    }\n",
       "\n",
       "    .dataframe tbody tr th {\n",
       "        vertical-align: top;\n",
       "    }\n",
       "\n",
       "    .dataframe thead th {\n",
       "        text-align: right;\n",
       "    }\n",
       "</style>\n",
       "<table border=\"1\" class=\"dataframe\">\n",
       "  <thead>\n",
       "    <tr style=\"text-align: right;\">\n",
       "      <th></th>\n",
       "      <th>Ozone</th>\n",
       "      <th>Solar.R</th>\n",
       "      <th>Wind</th>\n",
       "      <th>Temp</th>\n",
       "      <th>Month</th>\n",
       "      <th>Day</th>\n",
       "    </tr>\n",
       "  </thead>\n",
       "  <tbody>\n",
       "    <tr>\n",
       "      <th>0</th>\n",
       "      <td>41.0</td>\n",
       "      <td>190.0</td>\n",
       "      <td>7.4</td>\n",
       "      <td>67</td>\n",
       "      <td>5</td>\n",
       "      <td>1</td>\n",
       "    </tr>\n",
       "    <tr>\n",
       "      <th>1</th>\n",
       "      <td>36.0</td>\n",
       "      <td>118.0</td>\n",
       "      <td>8.0</td>\n",
       "      <td>72</td>\n",
       "      <td>5</td>\n",
       "      <td>2</td>\n",
       "    </tr>\n",
       "    <tr>\n",
       "      <th>2</th>\n",
       "      <td>12.0</td>\n",
       "      <td>149.0</td>\n",
       "      <td>12.6</td>\n",
       "      <td>74</td>\n",
       "      <td>5</td>\n",
       "      <td>3</td>\n",
       "    </tr>\n",
       "    <tr>\n",
       "      <th>3</th>\n",
       "      <td>18.0</td>\n",
       "      <td>313.0</td>\n",
       "      <td>11.5</td>\n",
       "      <td>62</td>\n",
       "      <td>5</td>\n",
       "      <td>4</td>\n",
       "    </tr>\n",
       "    <tr>\n",
       "      <th>4</th>\n",
       "      <td>NaN</td>\n",
       "      <td>NaN</td>\n",
       "      <td>14.3</td>\n",
       "      <td>56</td>\n",
       "      <td>5</td>\n",
       "      <td>5</td>\n",
       "    </tr>\n",
       "    <tr>\n",
       "      <th>5</th>\n",
       "      <td>28.0</td>\n",
       "      <td>NaN</td>\n",
       "      <td>14.9</td>\n",
       "      <td>66</td>\n",
       "      <td>5</td>\n",
       "      <td>6</td>\n",
       "    </tr>\n",
       "    <tr>\n",
       "      <th>6</th>\n",
       "      <td>23.0</td>\n",
       "      <td>299.0</td>\n",
       "      <td>8.6</td>\n",
       "      <td>65</td>\n",
       "      <td>5</td>\n",
       "      <td>7</td>\n",
       "    </tr>\n",
       "  </tbody>\n",
       "</table>\n",
       "</div>"
      ],
      "text/plain": [
       "   Ozone  Solar.R  Wind  Temp  Month  Day\n",
       "0   41.0    190.0   7.4    67      5    1\n",
       "1   36.0    118.0   8.0    72      5    2\n",
       "2   12.0    149.0  12.6    74      5    3\n",
       "3   18.0    313.0  11.5    62      5    4\n",
       "4    NaN      NaN  14.3    56      5    5\n",
       "5   28.0      NaN  14.9    66      5    6\n",
       "6   23.0    299.0   8.6    65      5    7"
      ]
     },
     "execution_count": 14,
     "metadata": {},
     "output_type": "execute_result"
    }
   ],
   "source": [
    "data.loc[0:6,:]"
   ]
  },
  {
   "cell_type": "markdown",
   "id": "c566e04b",
   "metadata": {},
   "source": [
    "Mostrar los elementos del registro deseado en el dataframe, con columnas seleccionadas"
   ]
  },
  {
   "cell_type": "code",
   "execution_count": 15,
   "id": "34f7ad88",
   "metadata": {},
   "outputs": [
    {
     "data": {
      "text/plain": [
       "Ozone    41.0\n",
       "Temp     67.0\n",
       "Day       1.0\n",
       "Name: 0, dtype: float64"
      ]
     },
     "execution_count": 15,
     "metadata": {},
     "output_type": "execute_result"
    }
   ],
   "source": [
    "data.loc[0, ['Ozone', 'Temp', 'Day']] # 0 es el indice del dataframe"
   ]
  },
  {
   "cell_type": "markdown",
   "id": "7b37c903",
   "metadata": {},
   "source": [
    "Muestra todos los elementos del registro número 3 con todas las columnas"
   ]
  },
  {
   "cell_type": "code",
   "execution_count": 16,
   "id": "1f2238de",
   "metadata": {},
   "outputs": [
    {
     "data": {
      "text/plain": [
       "Ozone       18.0\n",
       "Solar.R    313.0\n",
       "Wind        11.5\n",
       "Temp        62.0\n",
       "Month        5.0\n",
       "Day          4.0\n",
       "Name: 3, dtype: float64"
      ]
     },
     "execution_count": 16,
     "metadata": {},
     "output_type": "execute_result"
    }
   ],
   "source": [
    "data.loc[3,]"
   ]
  },
  {
   "cell_type": "markdown",
   "id": "954b0609",
   "metadata": {},
   "source": [
    "Datos del registro número 3 y de la columna 1"
   ]
  },
  {
   "cell_type": "code",
   "execution_count": 17,
   "id": "bf9dc32d",
   "metadata": {},
   "outputs": [
    {
     "data": {
      "text/plain": [
       "313.0"
      ]
     },
     "execution_count": 17,
     "metadata": {},
     "output_type": "execute_result"
    }
   ],
   "source": [
    "data.iloc[3,1]"
   ]
  },
  {
   "cell_type": "markdown",
   "id": "fc03f181",
   "metadata": {},
   "source": [
    "## Visualización de datos con Matplotlib"
   ]
  },
  {
   "cell_type": "code",
   "execution_count": 18,
   "id": "e02502d1",
   "metadata": {},
   "outputs": [],
   "source": [
    "def histograma_datos(datos):\n",
    "    plt.figure(figsize = (10,6))\n",
    "    plt.hist(datos, color='yellow', ec='black', linewidth=2)\n",
    "    plt.title(label = 'Histograma en python',fontsize=25,color=\"green\",fontstyle='italic')\n",
    "    plt.xlabel('Clases',fontsize=20,color=\"red\",fontstyle='oblique')\n",
    "    plt.ylabel('Frecuencia',fontsize=20,color=\"darkblue\",fontstyle='oblique')\n",
    "    plt.grid()\n",
    "    plt.show()\n",
    "\n",
    "\n",
    "def plot_points(datos_df):\n",
    "    plt.figure(figsize=(15,10))\n",
    "    plt.plot(datos_df.iloc[:, 0],datos_df.iloc[:, 1],\"o\",color = 'darkgreen',markersize = 10)\n",
    "    plt.title(label = 'Gráfica de puntos (dispersión)',fontsize=25,color=\"darkred\",fontstyle='italic')\n",
    "    plt.grid()\n",
    "    plt.xlabel(list(datos_df)[0],fontsize=20,color=\"red\",fontstyle='oblique')\n",
    "    plt.ylabel(list(datos_df)[1],fontsize=20,color=\"darkblue\",fontstyle='oblique')\n",
    "    plt.show()"
   ]
  },
  {
   "cell_type": "code",
   "execution_count": 19,
   "id": "68398bed",
   "metadata": {},
   "outputs": [
    {
     "data": {
      "image/png": "[encoded data removed]",
      "text/plain": [
       "<Figure size 1000x600 with 1 Axes>"
      ]
     },
     "metadata": {},
     "output_type": "display_data"
    }
   ],
   "source": [
    "histograma_datos(data['Ozone'])"
   ]
  },
  {
   "cell_type": "code",
   "execution_count": 20,
   "id": "bed2b43b",
   "metadata": {},
   "outputs": [
    {
     "data": {
      "image/png": "[encoded data removed]",
      "text/plain": [
       "<Figure size 1500x1000 with 1 Axes>"
      ]
     },
     "metadata": {},
     "output_type": "display_data"
    }
   ],
   "source": [
    "plot_points(data[['Ozone','Wind']])"
   ]
  }
 ],
 "metadata": {
  "kernelspec": {
   "display_name": "Python 3 (ipykernel)",
   "language": "python",
   "name": "python3"
  },
  "language_info": {
   "codemirror_mode": {
    "name": "ipython",
    "version": 3
   },
   "file_extension": ".py",
   "mimetype": "text/x-python",
   "name": "python",
   "nbconvert_exporter": "python",
   "pygments_lexer": "ipython3",
   "version": "3.11.4"
  }
 },
 "nbformat": 4,
 "nbformat_minor": 5
}
