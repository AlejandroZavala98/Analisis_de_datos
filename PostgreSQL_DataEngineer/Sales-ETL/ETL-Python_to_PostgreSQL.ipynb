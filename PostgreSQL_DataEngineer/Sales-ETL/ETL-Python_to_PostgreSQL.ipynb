{
 "cells": [
  {
   "cell_type": "markdown",
   "metadata": {},
   "source": [
    "# ETL con Python\n",
    "\n",
    "\n",
    "1. Usaremos la libreria psycopg2 para conectarmos a PostgreSQL\n",
    "2. Tambien con la libreria pandas podemos ejecutar diferentes consultas\n",
    "3. Simulando \"secretos\" guardaremos los valores de conexión a la base de datos en un archivo json (host,port,database,user and password)\n",
    "4. Los procesos de transformación se haran con uso del motor de SQL (simulando un entorno correcto)"
   ]
  },
  {
   "cell_type": "markdown",
   "metadata": {},
   "source": [
    "## Configuración de entorno"
   ]
  },
  {
   "cell_type": "code",
   "execution_count": 1,
   "metadata": {},
   "outputs": [],
   "source": [
    "import psycopg2\n",
    "from psycopg2.extras import execute_values\n",
    "import pandas as pd\n",
    "import json\n",
    "import datetime"
   ]
  },
  {
   "cell_type": "code",
   "execution_count": 2,
   "metadata": {},
   "outputs": [],
   "source": [
    "# Simulando secretos\n",
    "with open('./files_config/config_pg.json','r') as f:\n",
    "    config_pg = json.load(f)"
   ]
  },
  {
   "cell_type": "markdown",
   "metadata": {},
   "source": [
    "## Conexión a la base de datos"
   ]
  },
  {
   "cell_type": "code",
   "execution_count": 3,
   "metadata": {},
   "outputs": [],
   "source": [
    "conn_pg = psycopg2.connect(host=config_pg['dev']['host'],\n",
    "                           port=config_pg['dev']['puerto'],\n",
    "                           database=config_pg['dev']['db_nm'],\n",
    "                           user=config_pg['dev']['usr'],\n",
    "                           password=config_pg['dev']['pass'])\n",
    "curs_pg = conn_pg.cursor()"
   ]
  },
  {
   "cell_type": "code",
   "execution_count": 4,
   "metadata": {},
   "outputs": [
    {
     "name": "stdout",
     "output_type": "stream",
     "text": [
      "('dev_ventas', 'brz_sales_mx', 'dim_salesperson', 'employeeid', 1, None, 'NO', 'smallint', None, None, 16, 2, 0, None, None, None, None, None, None, None, None, None, None, None, None, 'dev_ventas', 'pg_catalog', 'int2', None, None, None, None, '1', 'NO', 'NO', None, None, None, None, None, 'NO', 'NEVER', None, 'YES')\n",
      "('dev_ventas', 'brz_sales_mx', 'dim_salesperson', 'employeekey', 2, None, 'NO', 'integer', None, None, 32, 2, 0, None, None, None, None, None, None, None, None, None, None, None, None, 'dev_ventas', 'pg_catalog', 'int4', None, None, None, None, '2', 'NO', 'NO', None, None, None, None, None, 'NO', 'NEVER', None, 'YES')\n",
      "('dev_ventas', 'brz_sales_mx', 'dim_salesperson', 'namemain', 3, None, 'NO', 'character varying', 100, 400, None, None, None, None, None, None, None, None, None, None, None, None, None, None, None, 'dev_ventas', 'pg_catalog', 'varchar', None, None, None, None, '3', 'NO', 'NO', None, None, None, None, None, 'NO', 'NEVER', None, 'YES')\n",
      "('dev_ventas', 'brz_sales_mx', 'dim_salesperson', 'lastname', 4, None, 'NO', 'character varying', 100, 400, None, None, None, None, None, None, None, None, None, None, None, None, None, None, None, 'dev_ventas', 'pg_catalog', 'varchar', None, None, None, None, '4', 'NO', 'NO', None, None, None, None, None, 'NO', 'NEVER', None, 'YES')\n",
      "('dev_ventas', 'brz_sales_mx', 'dim_salesperson', 'position', 5, None, 'NO', 'character varying', 100, 400, None, None, None, None, None, None, None, None, None, None, None, None, None, None, None, 'dev_ventas', 'pg_catalog', 'varchar', None, None, None, None, '5', 'NO', 'NO', None, None, None, None, None, 'NO', 'NEVER', None, 'YES')\n",
      "('dev_ventas', 'brz_sales_mx', 'dim_salesperson', 'mail', 6, None, 'NO', 'character varying', 100, 400, None, None, None, None, None, None, None, None, None, None, None, None, None, None, None, 'dev_ventas', 'pg_catalog', 'varchar', None, None, None, None, '6', 'NO', 'NO', None, None, None, None, None, 'NO', 'NEVER', None, 'YES')\n",
      "('dev_ventas', 'brz_sales_mx', 'dim_salesperson', 'usr_load', 7, None, 'NO', 'character varying', 10, 40, None, None, None, None, None, None, None, None, None, None, None, None, None, None, None, 'dev_ventas', 'pg_catalog', 'varchar', None, None, None, None, '7', 'NO', 'NO', None, None, None, None, None, 'NO', 'NEVER', None, 'YES')\n",
      "('dev_ventas', 'brz_sales_mx', 'dim_salesperson', 'ts_creation', 8, None, 'NO', 'timestamp without time zone', None, None, None, None, None, 6, None, None, None, None, None, None, None, None, None, None, None, 'dev_ventas', 'pg_catalog', 'timestamp', None, None, None, None, '8', 'NO', 'NO', None, None, None, None, None, 'NO', 'NEVER', None, 'YES')\n"
     ]
    }
   ],
   "source": [
    "# Ejecutamos una consulta\n",
    "curs_pg.execute(\"\"\" SELECT * FROM information_schema.columns\n",
    "                    WHERE table_schema = 'brz_sales_mx' AND table_name = 'dim_salesperson'; \"\"\" )\n",
    "\n",
    "# Recorremos los resultados y los mostramos\n",
    "for row_pg in curs_pg.fetchall() :\n",
    "    print(row_pg)"
   ]
  },
  {
   "cell_type": "code",
   "execution_count": 5,
   "metadata": {},
   "outputs": [
    {
     "name": "stderr",
     "output_type": "stream",
     "text": [
      "C:\\Users\\aleja\\AppData\\Local\\Temp\\ipykernel_14528\\3582457003.py:1: UserWarning: pandas only supports SQLAlchemy connectable (engine/connection) or database string URI or sqlite3 DBAPI2 connection. Other DBAPI2 objects are not tested. Please consider using SQLAlchemy.\n",
      "  display(pd.read_sql_query(\"\"\" SELECT * FROM information_schema.columns\n"
     ]
    },
    {
     "data": {
      "text/html": [
       "<div>\n",
       "<style scoped>\n",
       "    .dataframe tbody tr th:only-of-type {\n",
       "        vertical-align: middle;\n",
       "    }\n",
       "\n",
       "    .dataframe tbody tr th {\n",
       "        vertical-align: top;\n",
       "    }\n",
       "\n",
       "    .dataframe thead th {\n",
       "        text-align: right;\n",
       "    }\n",
       "</style>\n",
       "<table border=\"1\" class=\"dataframe\">\n",
       "  <thead>\n",
       "    <tr style=\"text-align: right;\">\n",
       "      <th></th>\n",
       "      <th>table_catalog</th>\n",
       "      <th>table_schema</th>\n",
       "      <th>table_name</th>\n",
       "      <th>column_name</th>\n",
       "      <th>ordinal_position</th>\n",
       "      <th>column_default</th>\n",
       "      <th>is_nullable</th>\n",
       "      <th>data_type</th>\n",
       "      <th>character_maximum_length</th>\n",
       "      <th>character_octet_length</th>\n",
       "      <th>...</th>\n",
       "      <th>is_identity</th>\n",
       "      <th>identity_generation</th>\n",
       "      <th>identity_start</th>\n",
       "      <th>identity_increment</th>\n",
       "      <th>identity_maximum</th>\n",
       "      <th>identity_minimum</th>\n",
       "      <th>identity_cycle</th>\n",
       "      <th>is_generated</th>\n",
       "      <th>generation_expression</th>\n",
       "      <th>is_updatable</th>\n",
       "    </tr>\n",
       "  </thead>\n",
       "  <tbody>\n",
       "    <tr>\n",
       "      <th>0</th>\n",
       "      <td>dev_ventas</td>\n",
       "      <td>brz_sales_mx</td>\n",
       "      <td>dim_salesperson</td>\n",
       "      <td>employeeid</td>\n",
       "      <td>1</td>\n",
       "      <td>None</td>\n",
       "      <td>NO</td>\n",
       "      <td>smallint</td>\n",
       "      <td>NaN</td>\n",
       "      <td>NaN</td>\n",
       "      <td>...</td>\n",
       "      <td>NO</td>\n",
       "      <td>None</td>\n",
       "      <td>None</td>\n",
       "      <td>None</td>\n",
       "      <td>None</td>\n",
       "      <td>None</td>\n",
       "      <td>NO</td>\n",
       "      <td>NEVER</td>\n",
       "      <td>None</td>\n",
       "      <td>YES</td>\n",
       "    </tr>\n",
       "    <tr>\n",
       "      <th>1</th>\n",
       "      <td>dev_ventas</td>\n",
       "      <td>brz_sales_mx</td>\n",
       "      <td>dim_salesperson</td>\n",
       "      <td>employeekey</td>\n",
       "      <td>2</td>\n",
       "      <td>None</td>\n",
       "      <td>NO</td>\n",
       "      <td>integer</td>\n",
       "      <td>NaN</td>\n",
       "      <td>NaN</td>\n",
       "      <td>...</td>\n",
       "      <td>NO</td>\n",
       "      <td>None</td>\n",
       "      <td>None</td>\n",
       "      <td>None</td>\n",
       "      <td>None</td>\n",
       "      <td>None</td>\n",
       "      <td>NO</td>\n",
       "      <td>NEVER</td>\n",
       "      <td>None</td>\n",
       "      <td>YES</td>\n",
       "    </tr>\n",
       "    <tr>\n",
       "      <th>2</th>\n",
       "      <td>dev_ventas</td>\n",
       "      <td>brz_sales_mx</td>\n",
       "      <td>dim_salesperson</td>\n",
       "      <td>namemain</td>\n",
       "      <td>3</td>\n",
       "      <td>None</td>\n",
       "      <td>NO</td>\n",
       "      <td>character varying</td>\n",
       "      <td>100.0</td>\n",
       "      <td>400.0</td>\n",
       "      <td>...</td>\n",
       "      <td>NO</td>\n",
       "      <td>None</td>\n",
       "      <td>None</td>\n",
       "      <td>None</td>\n",
       "      <td>None</td>\n",
       "      <td>None</td>\n",
       "      <td>NO</td>\n",
       "      <td>NEVER</td>\n",
       "      <td>None</td>\n",
       "      <td>YES</td>\n",
       "    </tr>\n",
       "    <tr>\n",
       "      <th>3</th>\n",
       "      <td>dev_ventas</td>\n",
       "      <td>brz_sales_mx</td>\n",
       "      <td>dim_salesperson</td>\n",
       "      <td>lastname</td>\n",
       "      <td>4</td>\n",
       "      <td>None</td>\n",
       "      <td>NO</td>\n",
       "      <td>character varying</td>\n",
       "      <td>100.0</td>\n",
       "      <td>400.0</td>\n",
       "      <td>...</td>\n",
       "      <td>NO</td>\n",
       "      <td>None</td>\n",
       "      <td>None</td>\n",
       "      <td>None</td>\n",
       "      <td>None</td>\n",
       "      <td>None</td>\n",
       "      <td>NO</td>\n",
       "      <td>NEVER</td>\n",
       "      <td>None</td>\n",
       "      <td>YES</td>\n",
       "    </tr>\n",
       "    <tr>\n",
       "      <th>4</th>\n",
       "      <td>dev_ventas</td>\n",
       "      <td>brz_sales_mx</td>\n",
       "      <td>dim_salesperson</td>\n",
       "      <td>position</td>\n",
       "      <td>5</td>\n",
       "      <td>None</td>\n",
       "      <td>NO</td>\n",
       "      <td>character varying</td>\n",
       "      <td>100.0</td>\n",
       "      <td>400.0</td>\n",
       "      <td>...</td>\n",
       "      <td>NO</td>\n",
       "      <td>None</td>\n",
       "      <td>None</td>\n",
       "      <td>None</td>\n",
       "      <td>None</td>\n",
       "      <td>None</td>\n",
       "      <td>NO</td>\n",
       "      <td>NEVER</td>\n",
       "      <td>None</td>\n",
       "      <td>YES</td>\n",
       "    </tr>\n",
       "    <tr>\n",
       "      <th>5</th>\n",
       "      <td>dev_ventas</td>\n",
       "      <td>brz_sales_mx</td>\n",
       "      <td>dim_salesperson</td>\n",
       "      <td>mail</td>\n",
       "      <td>6</td>\n",
       "      <td>None</td>\n",
       "      <td>NO</td>\n",
       "      <td>character varying</td>\n",
       "      <td>100.0</td>\n",
       "      <td>400.0</td>\n",
       "      <td>...</td>\n",
       "      <td>NO</td>\n",
       "      <td>None</td>\n",
       "      <td>None</td>\n",
       "      <td>None</td>\n",
       "      <td>None</td>\n",
       "      <td>None</td>\n",
       "      <td>NO</td>\n",
       "      <td>NEVER</td>\n",
       "      <td>None</td>\n",
       "      <td>YES</td>\n",
       "    </tr>\n",
       "    <tr>\n",
       "      <th>6</th>\n",
       "      <td>dev_ventas</td>\n",
       "      <td>brz_sales_mx</td>\n",
       "      <td>dim_salesperson</td>\n",
       "      <td>usr_load</td>\n",
       "      <td>7</td>\n",
       "      <td>None</td>\n",
       "      <td>NO</td>\n",
       "      <td>character varying</td>\n",
       "      <td>10.0</td>\n",
       "      <td>40.0</td>\n",
       "      <td>...</td>\n",
       "      <td>NO</td>\n",
       "      <td>None</td>\n",
       "      <td>None</td>\n",
       "      <td>None</td>\n",
       "      <td>None</td>\n",
       "      <td>None</td>\n",
       "      <td>NO</td>\n",
       "      <td>NEVER</td>\n",
       "      <td>None</td>\n",
       "      <td>YES</td>\n",
       "    </tr>\n",
       "    <tr>\n",
       "      <th>7</th>\n",
       "      <td>dev_ventas</td>\n",
       "      <td>brz_sales_mx</td>\n",
       "      <td>dim_salesperson</td>\n",
       "      <td>ts_creation</td>\n",
       "      <td>8</td>\n",
       "      <td>None</td>\n",
       "      <td>NO</td>\n",
       "      <td>timestamp without time zone</td>\n",
       "      <td>NaN</td>\n",
       "      <td>NaN</td>\n",
       "      <td>...</td>\n",
       "      <td>NO</td>\n",
       "      <td>None</td>\n",
       "      <td>None</td>\n",
       "      <td>None</td>\n",
       "      <td>None</td>\n",
       "      <td>None</td>\n",
       "      <td>NO</td>\n",
       "      <td>NEVER</td>\n",
       "      <td>None</td>\n",
       "      <td>YES</td>\n",
       "    </tr>\n",
       "  </tbody>\n",
       "</table>\n",
       "<p>8 rows × 44 columns</p>\n",
       "</div>"
      ],
      "text/plain": [
       "  table_catalog  table_schema       table_name  column_name  ordinal_position  \\\n",
       "0    dev_ventas  brz_sales_mx  dim_salesperson   employeeid                 1   \n",
       "1    dev_ventas  brz_sales_mx  dim_salesperson  employeekey                 2   \n",
       "2    dev_ventas  brz_sales_mx  dim_salesperson     namemain                 3   \n",
       "3    dev_ventas  brz_sales_mx  dim_salesperson     lastname                 4   \n",
       "4    dev_ventas  brz_sales_mx  dim_salesperson     position                 5   \n",
       "5    dev_ventas  brz_sales_mx  dim_salesperson         mail                 6   \n",
       "6    dev_ventas  brz_sales_mx  dim_salesperson     usr_load                 7   \n",
       "7    dev_ventas  brz_sales_mx  dim_salesperson  ts_creation                 8   \n",
       "\n",
       "  column_default is_nullable                    data_type  \\\n",
       "0           None          NO                     smallint   \n",
       "1           None          NO                      integer   \n",
       "2           None          NO            character varying   \n",
       "3           None          NO            character varying   \n",
       "4           None          NO            character varying   \n",
       "5           None          NO            character varying   \n",
       "6           None          NO            character varying   \n",
       "7           None          NO  timestamp without time zone   \n",
       "\n",
       "   character_maximum_length  character_octet_length  ...  is_identity  \\\n",
       "0                       NaN                     NaN  ...           NO   \n",
       "1                       NaN                     NaN  ...           NO   \n",
       "2                     100.0                   400.0  ...           NO   \n",
       "3                     100.0                   400.0  ...           NO   \n",
       "4                     100.0                   400.0  ...           NO   \n",
       "5                     100.0                   400.0  ...           NO   \n",
       "6                      10.0                    40.0  ...           NO   \n",
       "7                       NaN                     NaN  ...           NO   \n",
       "\n",
       "   identity_generation  identity_start  identity_increment identity_maximum  \\\n",
       "0                 None            None                None             None   \n",
       "1                 None            None                None             None   \n",
       "2                 None            None                None             None   \n",
       "3                 None            None                None             None   \n",
       "4                 None            None                None             None   \n",
       "5                 None            None                None             None   \n",
       "6                 None            None                None             None   \n",
       "7                 None            None                None             None   \n",
       "\n",
       "  identity_minimum identity_cycle is_generated generation_expression  \\\n",
       "0             None             NO        NEVER                  None   \n",
       "1             None             NO        NEVER                  None   \n",
       "2             None             NO        NEVER                  None   \n",
       "3             None             NO        NEVER                  None   \n",
       "4             None             NO        NEVER                  None   \n",
       "5             None             NO        NEVER                  None   \n",
       "6             None             NO        NEVER                  None   \n",
       "7             None             NO        NEVER                  None   \n",
       "\n",
       "  is_updatable  \n",
       "0          YES  \n",
       "1          YES  \n",
       "2          YES  \n",
       "3          YES  \n",
       "4          YES  \n",
       "5          YES  \n",
       "6          YES  \n",
       "7          YES  \n",
       "\n",
       "[8 rows x 44 columns]"
      ]
     },
     "metadata": {},
     "output_type": "display_data"
    }
   ],
   "source": [
    "display(pd.read_sql_query(\"\"\" SELECT * FROM information_schema.columns\n",
    "                          WHERE table_schema = 'brz_sales_mx' AND table_name = 'dim_salesperson'; \"\"\",con=conn_pg))"
   ]
  },
  {
   "cell_type": "markdown",
   "metadata": {},
   "source": [
    "## Lectura de insumos para ingestar en las diferentes capas"
   ]
  },
  {
   "cell_type": "code",
   "execution_count": 6,
   "metadata": {},
   "outputs": [],
   "source": [
    "# Read_dataframes\n",
    "\n",
    "pd_sp = pd.read_csv('./files_sales/persons.csv')\n",
    "pd_region = pd.read_csv('./files_sales/region.csv')\n",
    "pd_products = pd.read_csv('./files_sales/products.csv')\n",
    "pd_dates = pd.read_csv('./files_sales/dates.csv')\n",
    "pd_sales = pd.read_csv('./files_sales/sales.csv')"
   ]
  },
  {
   "cell_type": "markdown",
   "metadata": {},
   "source": [
    "## Ingesta de tabla de personas"
   ]
  },
  {
   "cell_type": "code",
   "execution_count": 7,
   "metadata": {},
   "outputs": [
    {
     "data": {
      "text/html": [
       "<div>\n",
       "<style scoped>\n",
       "    .dataframe tbody tr th:only-of-type {\n",
       "        vertical-align: middle;\n",
       "    }\n",
       "\n",
       "    .dataframe tbody tr th {\n",
       "        vertical-align: top;\n",
       "    }\n",
       "\n",
       "    .dataframe thead th {\n",
       "        text-align: right;\n",
       "    }\n",
       "</style>\n",
       "<table border=\"1\" class=\"dataframe\">\n",
       "  <thead>\n",
       "    <tr style=\"text-align: right;\">\n",
       "      <th></th>\n",
       "      <th>EmployeeID</th>\n",
       "      <th>EmployeeKey</th>\n",
       "      <th>NameMain</th>\n",
       "      <th>LastName</th>\n",
       "      <th>Position</th>\n",
       "      <th>Mail</th>\n",
       "    </tr>\n",
       "  </thead>\n",
       "  <tbody>\n",
       "    <tr>\n",
       "      <th>0</th>\n",
       "      <td>500</td>\n",
       "      <td>90841</td>\n",
       "      <td>Nicki</td>\n",
       "      <td>Mendoza</td>\n",
       "      <td>Sales Representative</td>\n",
       "      <td>nicki_mendoza@salesmx.com</td>\n",
       "    </tr>\n",
       "    <tr>\n",
       "      <th>1</th>\n",
       "      <td>501</td>\n",
       "      <td>52104</td>\n",
       "      <td>Carlos</td>\n",
       "      <td>Cervantes</td>\n",
       "      <td>Sales Representative</td>\n",
       "      <td>carlos_cervantes@salesmx.com</td>\n",
       "    </tr>\n",
       "    <tr>\n",
       "      <th>2</th>\n",
       "      <td>502</td>\n",
       "      <td>74241</td>\n",
       "      <td>Sarah</td>\n",
       "      <td>Vega</td>\n",
       "      <td>Sales Representative</td>\n",
       "      <td>sarah_vega@salesmx.com</td>\n",
       "    </tr>\n",
       "    <tr>\n",
       "      <th>3</th>\n",
       "      <td>503</td>\n",
       "      <td>48316</td>\n",
       "      <td>Ramon</td>\n",
       "      <td>Xiao</td>\n",
       "      <td>Sales Representative</td>\n",
       "      <td>ramon_xiao@salesmx.com</td>\n",
       "    </tr>\n",
       "    <tr>\n",
       "      <th>4</th>\n",
       "      <td>504</td>\n",
       "      <td>26118</td>\n",
       "      <td>Sarah</td>\n",
       "      <td>Jiang</td>\n",
       "      <td>Manager</td>\n",
       "      <td>sarah_jiang@salesmx.com</td>\n",
       "    </tr>\n",
       "  </tbody>\n",
       "</table>\n",
       "</div>"
      ],
      "text/plain": [
       "   EmployeeID  EmployeeKey NameMain   LastName              Position  \\\n",
       "0         500        90841    Nicki    Mendoza  Sales Representative   \n",
       "1         501        52104   Carlos  Cervantes  Sales Representative   \n",
       "2         502        74241    Sarah       Vega  Sales Representative   \n",
       "3         503        48316    Ramon       Xiao  Sales Representative   \n",
       "4         504        26118    Sarah      Jiang               Manager   \n",
       "\n",
       "                           Mail  \n",
       "0     nicki_mendoza@salesmx.com  \n",
       "1  carlos_cervantes@salesmx.com  \n",
       "2        sarah_vega@salesmx.com  \n",
       "3        ramon_xiao@salesmx.com  \n",
       "4       sarah_jiang@salesmx.com  "
      ]
     },
     "execution_count": 7,
     "metadata": {},
     "output_type": "execute_result"
    }
   ],
   "source": [
    "pd_sp.head()"
   ]
  },
  {
   "cell_type": "markdown",
   "metadata": {},
   "source": [
    "### Inserción de datos a la capa BRONCE\n",
    "\n",
    "Insertaremos datos de prueba a la tabla **brz_sales_mx.dim_salesperson**"
   ]
  },
  {
   "cell_type": "code",
   "execution_count": 8,
   "metadata": {},
   "outputs": [
    {
     "name": "stderr",
     "output_type": "stream",
     "text": [
      "C:\\Users\\aleja\\AppData\\Local\\Temp\\ipykernel_14528\\2363129590.py:4: SettingWithCopyWarning: \n",
      "A value is trying to be set on a copy of a slice from a DataFrame.\n",
      "Try using .loc[row_indexer,col_indexer] = value instead\n",
      "\n",
      "See the caveats in the documentation: https://pandas.pydata.org/pandas-docs/stable/user_guide/indexing.html#returning-a-view-versus-a-copy\n",
      "  pd_sp_test['usr_load'] = config_pg['dev']['usr_developer']\n",
      "C:\\Users\\aleja\\AppData\\Local\\Temp\\ipykernel_14528\\2363129590.py:5: SettingWithCopyWarning: \n",
      "A value is trying to be set on a copy of a slice from a DataFrame.\n",
      "Try using .loc[row_indexer,col_indexer] = value instead\n",
      "\n",
      "See the caveats in the documentation: https://pandas.pydata.org/pandas-docs/stable/user_guide/indexing.html#returning-a-view-versus-a-copy\n",
      "  pd_sp_test['dt_creation'] = datetime.datetime.now()\n"
     ]
    },
    {
     "data": {
      "text/html": [
       "<div>\n",
       "<style scoped>\n",
       "    .dataframe tbody tr th:only-of-type {\n",
       "        vertical-align: middle;\n",
       "    }\n",
       "\n",
       "    .dataframe tbody tr th {\n",
       "        vertical-align: top;\n",
       "    }\n",
       "\n",
       "    .dataframe thead th {\n",
       "        text-align: right;\n",
       "    }\n",
       "</style>\n",
       "<table border=\"1\" class=\"dataframe\">\n",
       "  <thead>\n",
       "    <tr style=\"text-align: right;\">\n",
       "      <th></th>\n",
       "      <th>EmployeeID</th>\n",
       "      <th>EmployeeKey</th>\n",
       "      <th>NameMain</th>\n",
       "      <th>LastName</th>\n",
       "      <th>Position</th>\n",
       "      <th>Mail</th>\n",
       "      <th>usr_load</th>\n",
       "      <th>dt_creation</th>\n",
       "    </tr>\n",
       "  </thead>\n",
       "  <tbody>\n",
       "    <tr>\n",
       "      <th>17</th>\n",
       "      <td>517</td>\n",
       "      <td>66754</td>\n",
       "      <td>Thalia</td>\n",
       "      <td>Vega</td>\n",
       "      <td>Director of sales</td>\n",
       "      <td>thalia_vega@salesmx.com</td>\n",
       "      <td>hs_mx</td>\n",
       "      <td>2024-01-07 16:53:59.361534</td>\n",
       "    </tr>\n",
       "    <tr>\n",
       "      <th>42</th>\n",
       "      <td>542</td>\n",
       "      <td>80518</td>\n",
       "      <td>Jason</td>\n",
       "      <td>Monroy</td>\n",
       "      <td>Director of sales</td>\n",
       "      <td>jason_monroy@salesmx.com</td>\n",
       "      <td>hs_mx</td>\n",
       "      <td>2024-01-07 16:53:59.361534</td>\n",
       "    </tr>\n",
       "  </tbody>\n",
       "</table>\n",
       "</div>"
      ],
      "text/plain": [
       "    EmployeeID  EmployeeKey NameMain LastName           Position  \\\n",
       "17         517        66754   Thalia     Vega  Director of sales   \n",
       "42         542        80518    Jason   Monroy  Director of sales   \n",
       "\n",
       "                        Mail usr_load                dt_creation  \n",
       "17   thalia_vega@salesmx.com    hs_mx 2024-01-07 16:53:59.361534  \n",
       "42  jason_monroy@salesmx.com    hs_mx 2024-01-07 16:53:59.361534  "
      ]
     },
     "metadata": {},
     "output_type": "display_data"
    }
   ],
   "source": [
    "pd_sp_test = pd_sp[pd_sp['Position'] == 'Director of sales']\n",
    "\n",
    "# Agregando columnas de control\n",
    "pd_sp_test['usr_load'] = config_pg['dev']['usr_developer']\n",
    "pd_sp_test['dt_creation'] = datetime.datetime.now()\n",
    "display(pd_sp_test)"
   ]
  },
  {
   "cell_type": "code",
   "execution_count": 9,
   "metadata": {},
   "outputs": [
    {
     "data": {
      "text/plain": [
       "[(517,\n",
       "  66754,\n",
       "  'Thalia',\n",
       "  'Vega',\n",
       "  'Director of sales',\n",
       "  'thalia_vega@salesmx.com',\n",
       "  'hs_mx',\n",
       "  Timestamp('2024-01-07 16:53:59.361534')),\n",
       " (542,\n",
       "  80518,\n",
       "  'Jason',\n",
       "  'Monroy',\n",
       "  'Director of sales',\n",
       "  'jason_monroy@salesmx.com',\n",
       "  'hs_mx',\n",
       "  Timestamp('2024-01-07 16:53:59.361534'))]"
      ]
     },
     "metadata": {},
     "output_type": "display_data"
    }
   ],
   "source": [
    "tp_to_send = list(zip(*map(pd_sp_test.get, pd_sp_test))) # forma de enviar datos\n",
    "display(tp_to_send)"
   ]
  },
  {
   "cell_type": "code",
   "execution_count": 11,
   "metadata": {},
   "outputs": [
    {
     "name": "stderr",
     "output_type": "stream",
     "text": [
      "C:\\Users\\aleja\\AppData\\Local\\Temp\\ipykernel_14528\\3730149673.py:1: UserWarning: pandas only supports SQLAlchemy connectable (engine/connection) or database string URI or sqlite3 DBAPI2 connection. Other DBAPI2 objects are not tested. Please consider using SQLAlchemy.\n",
      "  display(pd.read_sql_query(\"\"\" SELECT * FROM brz_sales_mx.dim_salesperson\"\"\",con=conn_pg))\n"
     ]
    },
    {
     "data": {
      "text/html": [
       "<div>\n",
       "<style scoped>\n",
       "    .dataframe tbody tr th:only-of-type {\n",
       "        vertical-align: middle;\n",
       "    }\n",
       "\n",
       "    .dataframe tbody tr th {\n",
       "        vertical-align: top;\n",
       "    }\n",
       "\n",
       "    .dataframe thead th {\n",
       "        text-align: right;\n",
       "    }\n",
       "</style>\n",
       "<table border=\"1\" class=\"dataframe\">\n",
       "  <thead>\n",
       "    <tr style=\"text-align: right;\">\n",
       "      <th></th>\n",
       "      <th>employeeid</th>\n",
       "      <th>employeekey</th>\n",
       "      <th>namemain</th>\n",
       "      <th>lastname</th>\n",
       "      <th>position</th>\n",
       "      <th>mail</th>\n",
       "      <th>usr_load</th>\n",
       "      <th>ts_creation</th>\n",
       "    </tr>\n",
       "  </thead>\n",
       "  <tbody>\n",
       "  </tbody>\n",
       "</table>\n",
       "</div>"
      ],
      "text/plain": [
       "Empty DataFrame\n",
       "Columns: [employeeid, employeekey, namemain, lastname, position, mail, usr_load, ts_creation]\n",
       "Index: []"
      ]
     },
     "metadata": {},
     "output_type": "display_data"
    }
   ],
   "source": [
    "display(pd.read_sql_query(\"\"\" SELECT * FROM brz_sales_mx.dim_salesperson\"\"\",con=conn_pg))"
   ]
  },
  {
   "cell_type": "code",
   "execution_count": 12,
   "metadata": {},
   "outputs": [],
   "source": [
    "brz_sp_qry = \"\"\"INSERT INTO brz_sales_mx.dim_salesperson (employeeid,employeekey,namemain,lastname,position,mail,usr_load,ts_creation) VALUES %s\"\"\"\n",
    "\n",
    "execute_values(curs_pg,\n",
    "               brz_sp_qry,\n",
    "               tp_to_send)\n",
    "\n",
    "conn_pg.commit()"
   ]
  },
  {
   "cell_type": "code",
   "execution_count": 13,
   "metadata": {},
   "outputs": [
    {
     "name": "stderr",
     "output_type": "stream",
     "text": [
      "C:\\Users\\aleja\\AppData\\Local\\Temp\\ipykernel_14528\\1106881013.py:1: UserWarning: pandas only supports SQLAlchemy connectable (engine/connection) or database string URI or sqlite3 DBAPI2 connection. Other DBAPI2 objects are not tested. Please consider using SQLAlchemy.\n",
      "  display(pd.read_sql_query(\"\"\"SELECT * FROM brz_sales_mx.dim_salesperson\"\"\",con=conn_pg))\n"
     ]
    },
    {
     "data": {
      "text/html": [
       "<div>\n",
       "<style scoped>\n",
       "    .dataframe tbody tr th:only-of-type {\n",
       "        vertical-align: middle;\n",
       "    }\n",
       "\n",
       "    .dataframe tbody tr th {\n",
       "        vertical-align: top;\n",
       "    }\n",
       "\n",
       "    .dataframe thead th {\n",
       "        text-align: right;\n",
       "    }\n",
       "</style>\n",
       "<table border=\"1\" class=\"dataframe\">\n",
       "  <thead>\n",
       "    <tr style=\"text-align: right;\">\n",
       "      <th></th>\n",
       "      <th>employeeid</th>\n",
       "      <th>employeekey</th>\n",
       "      <th>namemain</th>\n",
       "      <th>lastname</th>\n",
       "      <th>position</th>\n",
       "      <th>mail</th>\n",
       "      <th>usr_load</th>\n",
       "      <th>ts_creation</th>\n",
       "    </tr>\n",
       "  </thead>\n",
       "  <tbody>\n",
       "    <tr>\n",
       "      <th>0</th>\n",
       "      <td>517</td>\n",
       "      <td>66754</td>\n",
       "      <td>Thalia</td>\n",
       "      <td>Vega</td>\n",
       "      <td>Director of sales</td>\n",
       "      <td>thalia_vega@salesmx.com</td>\n",
       "      <td>hs_mx</td>\n",
       "      <td>2024-01-07 16:53:59.361534</td>\n",
       "    </tr>\n",
       "    <tr>\n",
       "      <th>1</th>\n",
       "      <td>542</td>\n",
       "      <td>80518</td>\n",
       "      <td>Jason</td>\n",
       "      <td>Monroy</td>\n",
       "      <td>Director of sales</td>\n",
       "      <td>jason_monroy@salesmx.com</td>\n",
       "      <td>hs_mx</td>\n",
       "      <td>2024-01-07 16:53:59.361534</td>\n",
       "    </tr>\n",
       "  </tbody>\n",
       "</table>\n",
       "</div>"
      ],
      "text/plain": [
       "   employeeid  employeekey namemain lastname           position  \\\n",
       "0         517        66754   Thalia     Vega  Director of sales   \n",
       "1         542        80518    Jason   Monroy  Director of sales   \n",
       "\n",
       "                       mail usr_load                ts_creation  \n",
       "0   thalia_vega@salesmx.com    hs_mx 2024-01-07 16:53:59.361534  \n",
       "1  jason_monroy@salesmx.com    hs_mx 2024-01-07 16:53:59.361534  "
      ]
     },
     "metadata": {},
     "output_type": "display_data"
    }
   ],
   "source": [
    "display(pd.read_sql_query(\"\"\"SELECT * FROM brz_sales_mx.dim_salesperson\"\"\",con=conn_pg))"
   ]
  },
  {
   "cell_type": "markdown",
   "metadata": {},
   "source": [
    "Trunquemos la tabla viendo que la inserción fue correcta"
   ]
  },
  {
   "cell_type": "code",
   "execution_count": 14,
   "metadata": {},
   "outputs": [],
   "source": [
    "curs_pg.execute(\"TRUNCATE brz_sales_mx.dim_salesperson\")\n",
    "conn_pg.commit()"
   ]
  },
  {
   "cell_type": "code",
   "execution_count": 15,
   "metadata": {},
   "outputs": [
    {
     "name": "stderr",
     "output_type": "stream",
     "text": [
      "C:\\Users\\aleja\\AppData\\Local\\Temp\\ipykernel_14528\\1106881013.py:1: UserWarning: pandas only supports SQLAlchemy connectable (engine/connection) or database string URI or sqlite3 DBAPI2 connection. Other DBAPI2 objects are not tested. Please consider using SQLAlchemy.\n",
      "  display(pd.read_sql_query(\"\"\"SELECT * FROM brz_sales_mx.dim_salesperson\"\"\",con=conn_pg))\n"
     ]
    },
    {
     "data": {
      "text/html": [
       "<div>\n",
       "<style scoped>\n",
       "    .dataframe tbody tr th:only-of-type {\n",
       "        vertical-align: middle;\n",
       "    }\n",
       "\n",
       "    .dataframe tbody tr th {\n",
       "        vertical-align: top;\n",
       "    }\n",
       "\n",
       "    .dataframe thead th {\n",
       "        text-align: right;\n",
       "    }\n",
       "</style>\n",
       "<table border=\"1\" class=\"dataframe\">\n",
       "  <thead>\n",
       "    <tr style=\"text-align: right;\">\n",
       "      <th></th>\n",
       "      <th>employeeid</th>\n",
       "      <th>employeekey</th>\n",
       "      <th>namemain</th>\n",
       "      <th>lastname</th>\n",
       "      <th>position</th>\n",
       "      <th>mail</th>\n",
       "      <th>usr_load</th>\n",
       "      <th>ts_creation</th>\n",
       "    </tr>\n",
       "  </thead>\n",
       "  <tbody>\n",
       "  </tbody>\n",
       "</table>\n",
       "</div>"
      ],
      "text/plain": [
       "Empty DataFrame\n",
       "Columns: [employeeid, employeekey, namemain, lastname, position, mail, usr_load, ts_creation]\n",
       "Index: []"
      ]
     },
     "metadata": {},
     "output_type": "display_data"
    }
   ],
   "source": [
    "display(pd.read_sql_query(\"\"\"SELECT * FROM brz_sales_mx.dim_salesperson\"\"\",con=conn_pg))"
   ]
  },
  {
   "cell_type": "markdown",
   "metadata": {},
   "source": [
    "Insertemos los datos a las capas correspondientes"
   ]
  },
  {
   "cell_type": "code",
   "execution_count": 16,
   "metadata": {},
   "outputs": [],
   "source": [
    "# Transform and Load to \"Bronce\" layer\n",
    "pd_sp['usr_load'] = config_pg['dev']['usr_developer']\n",
    "pd_sp['dt_creation'] = datetime.datetime.now()\n",
    "tp_to_send = list(zip(*map(pd_sp.get, pd_sp)))"
   ]
  },
  {
   "cell_type": "code",
   "execution_count": 17,
   "metadata": {},
   "outputs": [
    {
     "data": {
      "text/plain": [
       "55"
      ]
     },
     "execution_count": 17,
     "metadata": {},
     "output_type": "execute_result"
    }
   ],
   "source": [
    "len(tp_to_send)"
   ]
  },
  {
   "cell_type": "code",
   "execution_count": 18,
   "metadata": {},
   "outputs": [],
   "source": [
    "# INSERTING ALL DATA\n",
    "brz_sp_qry = \"\"\"INSERT INTO brz_sales_mx.dim_salesperson (employeeid,employeekey,namemain,lastname,position,mail,usr_load,ts_creation) VALUES %s\"\"\"\n",
    "\n",
    "execute_values(curs_pg,\n",
    "               brz_sp_qry,\n",
    "               tp_to_send)\n",
    "\n",
    "conn_pg.commit()"
   ]
  },
  {
   "cell_type": "code",
   "execution_count": 19,
   "metadata": {},
   "outputs": [
    {
     "name": "stderr",
     "output_type": "stream",
     "text": [
      "C:\\Users\\aleja\\AppData\\Local\\Temp\\ipykernel_14528\\3181536766.py:2: UserWarning: pandas only supports SQLAlchemy connectable (engine/connection) or database string URI or sqlite3 DBAPI2 connection. Other DBAPI2 objects are not tested. Please consider using SQLAlchemy.\n",
      "  display(pd.read_sql_query(\"\"\"SELECT * FROM brz_sales_mx.dim_salesperson\"\"\",con=conn_pg).head())\n"
     ]
    },
    {
     "data": {
      "text/html": [
       "<div>\n",
       "<style scoped>\n",
       "    .dataframe tbody tr th:only-of-type {\n",
       "        vertical-align: middle;\n",
       "    }\n",
       "\n",
       "    .dataframe tbody tr th {\n",
       "        vertical-align: top;\n",
       "    }\n",
       "\n",
       "    .dataframe thead th {\n",
       "        text-align: right;\n",
       "    }\n",
       "</style>\n",
       "<table border=\"1\" class=\"dataframe\">\n",
       "  <thead>\n",
       "    <tr style=\"text-align: right;\">\n",
       "      <th></th>\n",
       "      <th>employeeid</th>\n",
       "      <th>employeekey</th>\n",
       "      <th>namemain</th>\n",
       "      <th>lastname</th>\n",
       "      <th>position</th>\n",
       "      <th>mail</th>\n",
       "      <th>usr_load</th>\n",
       "      <th>ts_creation</th>\n",
       "    </tr>\n",
       "  </thead>\n",
       "  <tbody>\n",
       "    <tr>\n",
       "      <th>0</th>\n",
       "      <td>500</td>\n",
       "      <td>90841</td>\n",
       "      <td>Nicki</td>\n",
       "      <td>Mendoza</td>\n",
       "      <td>Sales Representative</td>\n",
       "      <td>nicki_mendoza@salesmx.com</td>\n",
       "      <td>hs_mx</td>\n",
       "      <td>2024-01-07 16:54:19.871339</td>\n",
       "    </tr>\n",
       "    <tr>\n",
       "      <th>1</th>\n",
       "      <td>501</td>\n",
       "      <td>52104</td>\n",
       "      <td>Carlos</td>\n",
       "      <td>Cervantes</td>\n",
       "      <td>Sales Representative</td>\n",
       "      <td>carlos_cervantes@salesmx.com</td>\n",
       "      <td>hs_mx</td>\n",
       "      <td>2024-01-07 16:54:19.871339</td>\n",
       "    </tr>\n",
       "    <tr>\n",
       "      <th>2</th>\n",
       "      <td>502</td>\n",
       "      <td>74241</td>\n",
       "      <td>Sarah</td>\n",
       "      <td>Vega</td>\n",
       "      <td>Sales Representative</td>\n",
       "      <td>sarah_vega@salesmx.com</td>\n",
       "      <td>hs_mx</td>\n",
       "      <td>2024-01-07 16:54:19.871339</td>\n",
       "    </tr>\n",
       "    <tr>\n",
       "      <th>3</th>\n",
       "      <td>503</td>\n",
       "      <td>48316</td>\n",
       "      <td>Ramon</td>\n",
       "      <td>Xiao</td>\n",
       "      <td>Sales Representative</td>\n",
       "      <td>ramon_xiao@salesmx.com</td>\n",
       "      <td>hs_mx</td>\n",
       "      <td>2024-01-07 16:54:19.871339</td>\n",
       "    </tr>\n",
       "    <tr>\n",
       "      <th>4</th>\n",
       "      <td>504</td>\n",
       "      <td>26118</td>\n",
       "      <td>Sarah</td>\n",
       "      <td>Jiang</td>\n",
       "      <td>Manager</td>\n",
       "      <td>sarah_jiang@salesmx.com</td>\n",
       "      <td>hs_mx</td>\n",
       "      <td>2024-01-07 16:54:19.871339</td>\n",
       "    </tr>\n",
       "  </tbody>\n",
       "</table>\n",
       "</div>"
      ],
      "text/plain": [
       "   employeeid  employeekey namemain   lastname              position  \\\n",
       "0         500        90841    Nicki    Mendoza  Sales Representative   \n",
       "1         501        52104   Carlos  Cervantes  Sales Representative   \n",
       "2         502        74241    Sarah       Vega  Sales Representative   \n",
       "3         503        48316    Ramon       Xiao  Sales Representative   \n",
       "4         504        26118    Sarah      Jiang               Manager   \n",
       "\n",
       "                           mail usr_load                ts_creation  \n",
       "0     nicki_mendoza@salesmx.com    hs_mx 2024-01-07 16:54:19.871339  \n",
       "1  carlos_cervantes@salesmx.com    hs_mx 2024-01-07 16:54:19.871339  \n",
       "2        sarah_vega@salesmx.com    hs_mx 2024-01-07 16:54:19.871339  \n",
       "3        ramon_xiao@salesmx.com    hs_mx 2024-01-07 16:54:19.871339  \n",
       "4       sarah_jiang@salesmx.com    hs_mx 2024-01-07 16:54:19.871339  "
      ]
     },
     "metadata": {},
     "output_type": "display_data"
    }
   ],
   "source": [
    "# PREVIEW OF DATA\n",
    "display(pd.read_sql_query(\"\"\"SELECT * FROM brz_sales_mx.dim_salesperson\"\"\",con=conn_pg).head())"
   ]
  },
  {
   "cell_type": "code",
   "execution_count": 20,
   "metadata": {},
   "outputs": [
    {
     "name": "stderr",
     "output_type": "stream",
     "text": [
      "C:\\Users\\aleja\\AppData\\Local\\Temp\\ipykernel_14528\\1215841674.py:2: UserWarning: pandas only supports SQLAlchemy connectable (engine/connection) or database string URI or sqlite3 DBAPI2 connection. Other DBAPI2 objects are not tested. Please consider using SQLAlchemy.\n",
      "  display(pd.read_sql_query(\"\"\"SELECT COUNT(*) FROM brz_sales_mx.dim_salesperson\"\"\",con=conn_pg).head())\n"
     ]
    },
    {
     "data": {
      "text/html": [
       "<div>\n",
       "<style scoped>\n",
       "    .dataframe tbody tr th:only-of-type {\n",
       "        vertical-align: middle;\n",
       "    }\n",
       "\n",
       "    .dataframe tbody tr th {\n",
       "        vertical-align: top;\n",
       "    }\n",
       "\n",
       "    .dataframe thead th {\n",
       "        text-align: right;\n",
       "    }\n",
       "</style>\n",
       "<table border=\"1\" class=\"dataframe\">\n",
       "  <thead>\n",
       "    <tr style=\"text-align: right;\">\n",
       "      <th></th>\n",
       "      <th>count</th>\n",
       "    </tr>\n",
       "  </thead>\n",
       "  <tbody>\n",
       "    <tr>\n",
       "      <th>0</th>\n",
       "      <td>55</td>\n",
       "    </tr>\n",
       "  </tbody>\n",
       "</table>\n",
       "</div>"
      ],
      "text/plain": [
       "   count\n",
       "0     55"
      ]
     },
     "metadata": {},
     "output_type": "display_data"
    }
   ],
   "source": [
    "# INSERTED RECORDS\n",
    "display(pd.read_sql_query(\"\"\"SELECT COUNT(*) FROM brz_sales_mx.dim_salesperson\"\"\",con=conn_pg).head())"
   ]
  },
  {
   "cell_type": "markdown",
   "metadata": {},
   "source": [
    "### Inserción a la capa SILVER\n",
    "\n",
    "Insertaremos datos a la tabla **slv_sales_mx.dim_salesperson**"
   ]
  },
  {
   "cell_type": "code",
   "execution_count": 21,
   "metadata": {},
   "outputs": [],
   "source": [
    "# INSERT OVERWRITE\n",
    "curs_pg.execute(\"TRUNCATE slv_sales_mx.dim_salesperson\")\n",
    "conn_pg.commit()"
   ]
  },
  {
   "cell_type": "code",
   "execution_count": 22,
   "metadata": {},
   "outputs": [],
   "source": [
    "# TRANSFORM AND LOAD TO SILVER LAYER\n",
    "slv_sp_qry = f\"\"\"\n",
    "WITH BASE AS\n",
    "(\n",
    "SELECT\n",
    "\tROW_NUMBER() OVER(PARTITION BY CONCAT(NAMEMAIN,' ',LASTNAME) ORDER BY EMPLOYEEID DESC) AS ID_RN,\n",
    "\temployeeid AS EMPLOYEE_ID,\n",
    "\temployeekey AS EMPLOYEE_KEY,\n",
    "\tCONCAT(NAMEMAIN,' ',LASTNAME) AS FULL_NAME,\n",
    "\tposition,\n",
    "\tmail,\n",
    "\t'{config_pg['dev']['usr_developer']}' AS USR_LOAD,\n",
    "\tCURRENT_TIMESTAMP AS TS_CREATION\n",
    "FROM brz_sales_mx.dim_salesperson\n",
    ")\n",
    "INSERT INTO slv_sales_mx.dim_salesperson (employee_id,employee_key,full_name,position,mail,usr_load,ts_creation)\n",
    "SELECT EMPLOYEE_ID,EMPLOYEE_KEY,FULL_NAME,POSITION,MAIL,USR_LOAD,TS_CREATION\n",
    "FROM BASE\n",
    "WHERE ID_RN = 1\"\"\"\n",
    "\n",
    "curs_pg.execute(slv_sp_qry)\n",
    "conn_pg.commit()"
   ]
  },
  {
   "cell_type": "code",
   "execution_count": 23,
   "metadata": {},
   "outputs": [
    {
     "name": "stderr",
     "output_type": "stream",
     "text": [
      "C:\\Users\\aleja\\AppData\\Local\\Temp\\ipykernel_14528\\3926897920.py:1: UserWarning: pandas only supports SQLAlchemy connectable (engine/connection) or database string URI or sqlite3 DBAPI2 connection. Other DBAPI2 objects are not tested. Please consider using SQLAlchemy.\n",
      "  display(pd.read_sql_query(\"\"\"SELECT * FROM slv_sales_mx.dim_salesperson\"\"\",con=conn_pg).head())\n"
     ]
    },
    {
     "data": {
      "text/html": [
       "<div>\n",
       "<style scoped>\n",
       "    .dataframe tbody tr th:only-of-type {\n",
       "        vertical-align: middle;\n",
       "    }\n",
       "\n",
       "    .dataframe tbody tr th {\n",
       "        vertical-align: top;\n",
       "    }\n",
       "\n",
       "    .dataframe thead th {\n",
       "        text-align: right;\n",
       "    }\n",
       "</style>\n",
       "<table border=\"1\" class=\"dataframe\">\n",
       "  <thead>\n",
       "    <tr style=\"text-align: right;\">\n",
       "      <th></th>\n",
       "      <th>employee_id</th>\n",
       "      <th>employee_key</th>\n",
       "      <th>full_name</th>\n",
       "      <th>position</th>\n",
       "      <th>mail</th>\n",
       "      <th>usr_load</th>\n",
       "      <th>ts_creation</th>\n",
       "    </tr>\n",
       "  </thead>\n",
       "  <tbody>\n",
       "    <tr>\n",
       "      <th>0</th>\n",
       "      <td>536</td>\n",
       "      <td>52677</td>\n",
       "      <td>Alejandro Monroy</td>\n",
       "      <td>Sales Representative</td>\n",
       "      <td>alejandro_monroy@salesmx.com</td>\n",
       "      <td>hs_mx</td>\n",
       "      <td>2024-01-07 16:54:26.531824</td>\n",
       "    </tr>\n",
       "    <tr>\n",
       "      <th>1</th>\n",
       "      <td>554</td>\n",
       "      <td>12198</td>\n",
       "      <td>Alejandro Parker</td>\n",
       "      <td>Manager</td>\n",
       "      <td>alejandro_parker@salesmx.com</td>\n",
       "      <td>hs_mx</td>\n",
       "      <td>2024-01-07 16:54:26.531824</td>\n",
       "    </tr>\n",
       "    <tr>\n",
       "      <th>2</th>\n",
       "      <td>521</td>\n",
       "      <td>86850</td>\n",
       "      <td>Alejandro Smith</td>\n",
       "      <td>Sales Representative</td>\n",
       "      <td>alejandro_smith@salesmx.com</td>\n",
       "      <td>hs_mx</td>\n",
       "      <td>2024-01-07 16:54:26.531824</td>\n",
       "    </tr>\n",
       "    <tr>\n",
       "      <th>3</th>\n",
       "      <td>531</td>\n",
       "      <td>23532</td>\n",
       "      <td>Alejandro Sotelo</td>\n",
       "      <td>Sales Representative</td>\n",
       "      <td>alejandro_sotelo@salesmx.com</td>\n",
       "      <td>hs_mx</td>\n",
       "      <td>2024-01-07 16:54:26.531824</td>\n",
       "    </tr>\n",
       "    <tr>\n",
       "      <th>4</th>\n",
       "      <td>533</td>\n",
       "      <td>99628</td>\n",
       "      <td>Alejandro Wayne</td>\n",
       "      <td>Sales Representative</td>\n",
       "      <td>alejandro_wayne@salesmx.com</td>\n",
       "      <td>hs_mx</td>\n",
       "      <td>2024-01-07 16:54:26.531824</td>\n",
       "    </tr>\n",
       "  </tbody>\n",
       "</table>\n",
       "</div>"
      ],
      "text/plain": [
       "   employee_id  employee_key         full_name              position  \\\n",
       "0          536         52677  Alejandro Monroy  Sales Representative   \n",
       "1          554         12198  Alejandro Parker               Manager   \n",
       "2          521         86850   Alejandro Smith  Sales Representative   \n",
       "3          531         23532  Alejandro Sotelo  Sales Representative   \n",
       "4          533         99628   Alejandro Wayne  Sales Representative   \n",
       "\n",
       "                           mail usr_load                ts_creation  \n",
       "0  alejandro_monroy@salesmx.com    hs_mx 2024-01-07 16:54:26.531824  \n",
       "1  alejandro_parker@salesmx.com    hs_mx 2024-01-07 16:54:26.531824  \n",
       "2   alejandro_smith@salesmx.com    hs_mx 2024-01-07 16:54:26.531824  \n",
       "3  alejandro_sotelo@salesmx.com    hs_mx 2024-01-07 16:54:26.531824  \n",
       "4   alejandro_wayne@salesmx.com    hs_mx 2024-01-07 16:54:26.531824  "
      ]
     },
     "metadata": {},
     "output_type": "display_data"
    }
   ],
   "source": [
    "display(pd.read_sql_query(\"\"\"SELECT * FROM slv_sales_mx.dim_salesperson\"\"\",con=conn_pg).head())"
   ]
  },
  {
   "cell_type": "code",
   "execution_count": 24,
   "metadata": {},
   "outputs": [
    {
     "name": "stderr",
     "output_type": "stream",
     "text": [
      "C:\\Users\\aleja\\AppData\\Local\\Temp\\ipykernel_14528\\1021149193.py:1: UserWarning: pandas only supports SQLAlchemy connectable (engine/connection) or database string URI or sqlite3 DBAPI2 connection. Other DBAPI2 objects are not tested. Please consider using SQLAlchemy.\n",
      "  display(pd.read_sql_query(\"\"\"SELECT COUNT(*) FROM slv_sales_mx.dim_salesperson\"\"\",con=conn_pg).head())\n"
     ]
    },
    {
     "data": {
      "text/html": [
       "<div>\n",
       "<style scoped>\n",
       "    .dataframe tbody tr th:only-of-type {\n",
       "        vertical-align: middle;\n",
       "    }\n",
       "\n",
       "    .dataframe tbody tr th {\n",
       "        vertical-align: top;\n",
       "    }\n",
       "\n",
       "    .dataframe thead th {\n",
       "        text-align: right;\n",
       "    }\n",
       "</style>\n",
       "<table border=\"1\" class=\"dataframe\">\n",
       "  <thead>\n",
       "    <tr style=\"text-align: right;\">\n",
       "      <th></th>\n",
       "      <th>count</th>\n",
       "    </tr>\n",
       "  </thead>\n",
       "  <tbody>\n",
       "    <tr>\n",
       "      <th>0</th>\n",
       "      <td>50</td>\n",
       "    </tr>\n",
       "  </tbody>\n",
       "</table>\n",
       "</div>"
      ],
      "text/plain": [
       "   count\n",
       "0     50"
      ]
     },
     "metadata": {},
     "output_type": "display_data"
    }
   ],
   "source": [
    "display(pd.read_sql_query(\"\"\"SELECT COUNT(*) FROM slv_sales_mx.dim_salesperson\"\"\",con=conn_pg).head())"
   ]
  },
  {
   "cell_type": "markdown",
   "metadata": {},
   "source": [
    "## Ingesta de la tabla region"
   ]
  },
  {
   "cell_type": "code",
   "execution_count": 25,
   "metadata": {},
   "outputs": [
    {
     "data": {
      "text/html": [
       "<div>\n",
       "<style scoped>\n",
       "    .dataframe tbody tr th:only-of-type {\n",
       "        vertical-align: middle;\n",
       "    }\n",
       "\n",
       "    .dataframe tbody tr th {\n",
       "        vertical-align: top;\n",
       "    }\n",
       "\n",
       "    .dataframe thead th {\n",
       "        text-align: right;\n",
       "    }\n",
       "</style>\n",
       "<table border=\"1\" class=\"dataframe\">\n",
       "  <thead>\n",
       "    <tr style=\"text-align: right;\">\n",
       "      <th></th>\n",
       "      <th>TerritoryKey</th>\n",
       "      <th>Note</th>\n",
       "      <th>Rate</th>\n",
       "    </tr>\n",
       "  </thead>\n",
       "  <tbody>\n",
       "    <tr>\n",
       "      <th>0</th>\n",
       "      <td>1</td>\n",
       "      <td>Northwest|United States|North America</td>\n",
       "      <td>0.15</td>\n",
       "    </tr>\n",
       "    <tr>\n",
       "      <th>1</th>\n",
       "      <td>2</td>\n",
       "      <td>Northeast|United States|North America</td>\n",
       "      <td>0.25</td>\n",
       "    </tr>\n",
       "    <tr>\n",
       "      <th>2</th>\n",
       "      <td>3</td>\n",
       "      <td>Central|United States|North America</td>\n",
       "      <td>0.64</td>\n",
       "    </tr>\n",
       "    <tr>\n",
       "      <th>3</th>\n",
       "      <td>4</td>\n",
       "      <td>Southwest|Mexico|North America</td>\n",
       "      <td>0.11</td>\n",
       "    </tr>\n",
       "    <tr>\n",
       "      <th>4</th>\n",
       "      <td>5</td>\n",
       "      <td>South MX|Mexico|North America</td>\n",
       "      <td>0.25</td>\n",
       "    </tr>\n",
       "  </tbody>\n",
       "</table>\n",
       "</div>"
      ],
      "text/plain": [
       "   TerritoryKey                                   Note  Rate\n",
       "0             1  Northwest|United States|North America  0.15\n",
       "1             2  Northeast|United States|North America  0.25\n",
       "2             3    Central|United States|North America  0.64\n",
       "3             4         Southwest|Mexico|North America  0.11\n",
       "4             5          South MX|Mexico|North America  0.25"
      ]
     },
     "metadata": {},
     "output_type": "display_data"
    }
   ],
   "source": [
    "display(pd_region.head())"
   ]
  },
  {
   "cell_type": "code",
   "execution_count": 26,
   "metadata": {},
   "outputs": [
    {
     "data": {
      "text/plain": [
       "(13, 3)"
      ]
     },
     "execution_count": 26,
     "metadata": {},
     "output_type": "execute_result"
    }
   ],
   "source": [
    "pd_region.shape"
   ]
  },
  {
   "cell_type": "markdown",
   "metadata": {},
   "source": [
    "### Inserción a la capa BRONCE\n",
    "\n",
    "Insertaremos datos a la tabla **brz_sales_mx.dim_region**"
   ]
  },
  {
   "cell_type": "code",
   "execution_count": 27,
   "metadata": {},
   "outputs": [],
   "source": [
    "# INSERT OVERWRITE\n",
    "curs_pg.execute(\"TRUNCATE brz_sales_mx.dim_region\")\n",
    "conn_pg.commit()"
   ]
  },
  {
   "cell_type": "code",
   "execution_count": 28,
   "metadata": {},
   "outputs": [],
   "source": [
    "# SENDING DATA TO POSTGRESQL\n",
    "\n",
    "# Agregando columnas de control\n",
    "pd_region['usr_load'] = config_pg['dev']['usr_developer']\n",
    "pd_region['dt_creation'] = datetime.datetime.now()\n",
    "\n",
    "tp_lst_region = list(zip(*map(pd_region.get, pd_region))) # forma de enviar datos\n",
    "\n",
    "brz_region_qry = \"\"\"INSERT INTO brz_sales_mx.dim_region (territorykey,note,rate,usr_load,ts_creation) VALUES %s\"\"\"\n",
    "\n",
    "execute_values(curs_pg,\n",
    "               brz_region_qry,\n",
    "               tp_lst_region)\n",
    "\n",
    "conn_pg.commit()"
   ]
  },
  {
   "cell_type": "code",
   "execution_count": 29,
   "metadata": {},
   "outputs": [
    {
     "name": "stderr",
     "output_type": "stream",
     "text": [
      "C:\\Users\\aleja\\AppData\\Local\\Temp\\ipykernel_14528\\617839329.py:2: UserWarning: pandas only supports SQLAlchemy connectable (engine/connection) or database string URI or sqlite3 DBAPI2 connection. Other DBAPI2 objects are not tested. Please consider using SQLAlchemy.\n",
      "  display(pd.read_sql_query(\"\"\"SELECT * FROM brz_sales_mx.dim_region\"\"\",con=conn_pg).head())\n"
     ]
    },
    {
     "data": {
      "text/html": [
       "<div>\n",
       "<style scoped>\n",
       "    .dataframe tbody tr th:only-of-type {\n",
       "        vertical-align: middle;\n",
       "    }\n",
       "\n",
       "    .dataframe tbody tr th {\n",
       "        vertical-align: top;\n",
       "    }\n",
       "\n",
       "    .dataframe thead th {\n",
       "        text-align: right;\n",
       "    }\n",
       "</style>\n",
       "<table border=\"1\" class=\"dataframe\">\n",
       "  <thead>\n",
       "    <tr style=\"text-align: right;\">\n",
       "      <th></th>\n",
       "      <th>territorykey</th>\n",
       "      <th>note</th>\n",
       "      <th>rate</th>\n",
       "      <th>usr_load</th>\n",
       "      <th>ts_creation</th>\n",
       "    </tr>\n",
       "  </thead>\n",
       "  <tbody>\n",
       "    <tr>\n",
       "      <th>0</th>\n",
       "      <td>1</td>\n",
       "      <td>Northwest|United States|North America</td>\n",
       "      <td>0.15</td>\n",
       "      <td>hs_mx</td>\n",
       "      <td>2024-01-07 16:54:34.658388</td>\n",
       "    </tr>\n",
       "    <tr>\n",
       "      <th>1</th>\n",
       "      <td>2</td>\n",
       "      <td>Northeast|United States|North America</td>\n",
       "      <td>0.25</td>\n",
       "      <td>hs_mx</td>\n",
       "      <td>2024-01-07 16:54:34.658388</td>\n",
       "    </tr>\n",
       "    <tr>\n",
       "      <th>2</th>\n",
       "      <td>3</td>\n",
       "      <td>Central|United States|North America</td>\n",
       "      <td>0.64</td>\n",
       "      <td>hs_mx</td>\n",
       "      <td>2024-01-07 16:54:34.658388</td>\n",
       "    </tr>\n",
       "    <tr>\n",
       "      <th>3</th>\n",
       "      <td>4</td>\n",
       "      <td>Southwest|Mexico|North America</td>\n",
       "      <td>0.11</td>\n",
       "      <td>hs_mx</td>\n",
       "      <td>2024-01-07 16:54:34.658388</td>\n",
       "    </tr>\n",
       "    <tr>\n",
       "      <th>4</th>\n",
       "      <td>5</td>\n",
       "      <td>South MX|Mexico|North America</td>\n",
       "      <td>0.25</td>\n",
       "      <td>hs_mx</td>\n",
       "      <td>2024-01-07 16:54:34.658388</td>\n",
       "    </tr>\n",
       "  </tbody>\n",
       "</table>\n",
       "</div>"
      ],
      "text/plain": [
       "   territorykey                                   note  rate usr_load  \\\n",
       "0             1  Northwest|United States|North America  0.15    hs_mx   \n",
       "1             2  Northeast|United States|North America  0.25    hs_mx   \n",
       "2             3    Central|United States|North America  0.64    hs_mx   \n",
       "3             4         Southwest|Mexico|North America  0.11    hs_mx   \n",
       "4             5          South MX|Mexico|North America  0.25    hs_mx   \n",
       "\n",
       "                 ts_creation  \n",
       "0 2024-01-07 16:54:34.658388  \n",
       "1 2024-01-07 16:54:34.658388  \n",
       "2 2024-01-07 16:54:34.658388  \n",
       "3 2024-01-07 16:54:34.658388  \n",
       "4 2024-01-07 16:54:34.658388  "
      ]
     },
     "metadata": {},
     "output_type": "display_data"
    }
   ],
   "source": [
    "# VERIFYING\n",
    "display(pd.read_sql_query(\"\"\"SELECT * FROM brz_sales_mx.dim_region\"\"\",con=conn_pg).head())"
   ]
  },
  {
   "cell_type": "code",
   "execution_count": 30,
   "metadata": {},
   "outputs": [
    {
     "name": "stderr",
     "output_type": "stream",
     "text": [
      "C:\\Users\\aleja\\AppData\\Local\\Temp\\ipykernel_14528\\1596598101.py:2: UserWarning: pandas only supports SQLAlchemy connectable (engine/connection) or database string URI or sqlite3 DBAPI2 connection. Other DBAPI2 objects are not tested. Please consider using SQLAlchemy.\n",
      "  display(pd.read_sql_query(\"\"\"SELECT COUNT(*) FROM brz_sales_mx.dim_region\"\"\",con=conn_pg).head())\n"
     ]
    },
    {
     "data": {
      "text/html": [
       "<div>\n",
       "<style scoped>\n",
       "    .dataframe tbody tr th:only-of-type {\n",
       "        vertical-align: middle;\n",
       "    }\n",
       "\n",
       "    .dataframe tbody tr th {\n",
       "        vertical-align: top;\n",
       "    }\n",
       "\n",
       "    .dataframe thead th {\n",
       "        text-align: right;\n",
       "    }\n",
       "</style>\n",
       "<table border=\"1\" class=\"dataframe\">\n",
       "  <thead>\n",
       "    <tr style=\"text-align: right;\">\n",
       "      <th></th>\n",
       "      <th>count</th>\n",
       "    </tr>\n",
       "  </thead>\n",
       "  <tbody>\n",
       "    <tr>\n",
       "      <th>0</th>\n",
       "      <td>13</td>\n",
       "    </tr>\n",
       "  </tbody>\n",
       "</table>\n",
       "</div>"
      ],
      "text/plain": [
       "   count\n",
       "0     13"
      ]
     },
     "metadata": {},
     "output_type": "display_data"
    }
   ],
   "source": [
    "# VERIFYING\n",
    "display(pd.read_sql_query(\"\"\"SELECT COUNT(*) FROM brz_sales_mx.dim_region\"\"\",con=conn_pg).head())"
   ]
  },
  {
   "cell_type": "markdown",
   "metadata": {},
   "source": [
    "### Inserción a la capa SILVER\n",
    "\n",
    "Insertaremos datos a la tabla **slv_sales_mx.dim_region**"
   ]
  },
  {
   "cell_type": "code",
   "execution_count": 31,
   "metadata": {},
   "outputs": [],
   "source": [
    "# INSERT OVERWRITE\n",
    "curs_pg.execute(\"TRUNCATE slv_sales_mx.dim_region\")\n",
    "conn_pg.commit()"
   ]
  },
  {
   "cell_type": "code",
   "execution_count": 32,
   "metadata": {},
   "outputs": [],
   "source": [
    "# TRANSFORM AND LOAD TO SILVER LAYER\n",
    "slv_region_qry = f\"\"\"\n",
    "INSERT INTO slv_sales_mx.dim_region (territory_id,region,country,continent_group,rate,usr_load,ts_creation)\n",
    "SELECT\n",
    "TERRITORYKEY AS TERRITORY_ID,\n",
    "SPLIT_PART(NOTE, '|', 1) AS REGION,\n",
    "SPLIT_PART(NOTE, '|', 2) AS COUNTRY,\n",
    "SPLIT_PART(NOTE, '|', 3) AS CONTINENT_GROUP,\n",
    "RATE,\n",
    "'{config_pg['dev']['usr_developer']}' AS USR_LOAD,\n",
    "CURRENT_TIMESTAMP AS TS_CREATION\n",
    "FROM brz_sales_mx.dim_region\"\"\"\n",
    "\n",
    "curs_pg.execute(slv_region_qry)\n",
    "conn_pg.commit()"
   ]
  },
  {
   "cell_type": "code",
   "execution_count": 33,
   "metadata": {},
   "outputs": [
    {
     "name": "stderr",
     "output_type": "stream",
     "text": [
      "C:\\Users\\aleja\\AppData\\Local\\Temp\\ipykernel_14528\\3909050940.py:2: UserWarning: pandas only supports SQLAlchemy connectable (engine/connection) or database string URI or sqlite3 DBAPI2 connection. Other DBAPI2 objects are not tested. Please consider using SQLAlchemy.\n",
      "  display(pd.read_sql_query(\"\"\"SELECT * FROM slv_sales_mx.dim_region\"\"\",con=conn_pg).head())\n"
     ]
    },
    {
     "data": {
      "text/html": [
       "<div>\n",
       "<style scoped>\n",
       "    .dataframe tbody tr th:only-of-type {\n",
       "        vertical-align: middle;\n",
       "    }\n",
       "\n",
       "    .dataframe tbody tr th {\n",
       "        vertical-align: top;\n",
       "    }\n",
       "\n",
       "    .dataframe thead th {\n",
       "        text-align: right;\n",
       "    }\n",
       "</style>\n",
       "<table border=\"1\" class=\"dataframe\">\n",
       "  <thead>\n",
       "    <tr style=\"text-align: right;\">\n",
       "      <th></th>\n",
       "      <th>territory_id</th>\n",
       "      <th>region</th>\n",
       "      <th>country</th>\n",
       "      <th>continent_group</th>\n",
       "      <th>rate</th>\n",
       "      <th>usr_load</th>\n",
       "      <th>ts_creation</th>\n",
       "    </tr>\n",
       "  </thead>\n",
       "  <tbody>\n",
       "    <tr>\n",
       "      <th>0</th>\n",
       "      <td>1</td>\n",
       "      <td>Northwest</td>\n",
       "      <td>United States</td>\n",
       "      <td>North America</td>\n",
       "      <td>0.15</td>\n",
       "      <td>hs_mx</td>\n",
       "      <td>2024-01-07 16:54:41.465090</td>\n",
       "    </tr>\n",
       "    <tr>\n",
       "      <th>1</th>\n",
       "      <td>2</td>\n",
       "      <td>Northeast</td>\n",
       "      <td>United States</td>\n",
       "      <td>North America</td>\n",
       "      <td>0.25</td>\n",
       "      <td>hs_mx</td>\n",
       "      <td>2024-01-07 16:54:41.465090</td>\n",
       "    </tr>\n",
       "    <tr>\n",
       "      <th>2</th>\n",
       "      <td>3</td>\n",
       "      <td>Central</td>\n",
       "      <td>United States</td>\n",
       "      <td>North America</td>\n",
       "      <td>0.64</td>\n",
       "      <td>hs_mx</td>\n",
       "      <td>2024-01-07 16:54:41.465090</td>\n",
       "    </tr>\n",
       "    <tr>\n",
       "      <th>3</th>\n",
       "      <td>4</td>\n",
       "      <td>Southwest</td>\n",
       "      <td>Mexico</td>\n",
       "      <td>North America</td>\n",
       "      <td>0.11</td>\n",
       "      <td>hs_mx</td>\n",
       "      <td>2024-01-07 16:54:41.465090</td>\n",
       "    </tr>\n",
       "    <tr>\n",
       "      <th>4</th>\n",
       "      <td>5</td>\n",
       "      <td>South MX</td>\n",
       "      <td>Mexico</td>\n",
       "      <td>North America</td>\n",
       "      <td>0.25</td>\n",
       "      <td>hs_mx</td>\n",
       "      <td>2024-01-07 16:54:41.465090</td>\n",
       "    </tr>\n",
       "  </tbody>\n",
       "</table>\n",
       "</div>"
      ],
      "text/plain": [
       "   territory_id     region        country continent_group  rate usr_load  \\\n",
       "0             1  Northwest  United States   North America  0.15    hs_mx   \n",
       "1             2  Northeast  United States   North America  0.25    hs_mx   \n",
       "2             3    Central  United States   North America  0.64    hs_mx   \n",
       "3             4  Southwest         Mexico   North America  0.11    hs_mx   \n",
       "4             5   South MX         Mexico   North America  0.25    hs_mx   \n",
       "\n",
       "                 ts_creation  \n",
       "0 2024-01-07 16:54:41.465090  \n",
       "1 2024-01-07 16:54:41.465090  \n",
       "2 2024-01-07 16:54:41.465090  \n",
       "3 2024-01-07 16:54:41.465090  \n",
       "4 2024-01-07 16:54:41.465090  "
      ]
     },
     "metadata": {},
     "output_type": "display_data"
    }
   ],
   "source": [
    "# VERIFYING\n",
    "display(pd.read_sql_query(\"\"\"SELECT * FROM slv_sales_mx.dim_region\"\"\",con=conn_pg).head())"
   ]
  },
  {
   "cell_type": "code",
   "execution_count": 34,
   "metadata": {},
   "outputs": [
    {
     "name": "stderr",
     "output_type": "stream",
     "text": [
      "C:\\Users\\aleja\\AppData\\Local\\Temp\\ipykernel_14528\\855808023.py:2: UserWarning: pandas only supports SQLAlchemy connectable (engine/connection) or database string URI or sqlite3 DBAPI2 connection. Other DBAPI2 objects are not tested. Please consider using SQLAlchemy.\n",
      "  display(pd.read_sql_query(\"\"\"SELECT COUNT(*) FROM slv_sales_mx.dim_region\"\"\",con=conn_pg).head())\n"
     ]
    },
    {
     "data": {
      "text/html": [
       "<div>\n",
       "<style scoped>\n",
       "    .dataframe tbody tr th:only-of-type {\n",
       "        vertical-align: middle;\n",
       "    }\n",
       "\n",
       "    .dataframe tbody tr th {\n",
       "        vertical-align: top;\n",
       "    }\n",
       "\n",
       "    .dataframe thead th {\n",
       "        text-align: right;\n",
       "    }\n",
       "</style>\n",
       "<table border=\"1\" class=\"dataframe\">\n",
       "  <thead>\n",
       "    <tr style=\"text-align: right;\">\n",
       "      <th></th>\n",
       "      <th>count</th>\n",
       "    </tr>\n",
       "  </thead>\n",
       "  <tbody>\n",
       "    <tr>\n",
       "      <th>0</th>\n",
       "      <td>13</td>\n",
       "    </tr>\n",
       "  </tbody>\n",
       "</table>\n",
       "</div>"
      ],
      "text/plain": [
       "   count\n",
       "0     13"
      ]
     },
     "metadata": {},
     "output_type": "display_data"
    }
   ],
   "source": [
    "# VERIFYING\n",
    "display(pd.read_sql_query(\"\"\"SELECT COUNT(*) FROM slv_sales_mx.dim_region\"\"\",con=conn_pg).head())"
   ]
  },
  {
   "cell_type": "markdown",
   "metadata": {},
   "source": [
    "## Ingesta de la tabla productos"
   ]
  },
  {
   "cell_type": "code",
   "execution_count": 35,
   "metadata": {},
   "outputs": [
    {
     "data": {
      "text/html": [
       "<div>\n",
       "<style scoped>\n",
       "    .dataframe tbody tr th:only-of-type {\n",
       "        vertical-align: middle;\n",
       "    }\n",
       "\n",
       "    .dataframe tbody tr th {\n",
       "        vertical-align: top;\n",
       "    }\n",
       "\n",
       "    .dataframe thead th {\n",
       "        text-align: right;\n",
       "    }\n",
       "</style>\n",
       "<table border=\"1\" class=\"dataframe\">\n",
       "  <thead>\n",
       "    <tr style=\"text-align: right;\">\n",
       "      <th></th>\n",
       "      <th>ProductName</th>\n",
       "      <th>StandarCost</th>\n",
       "      <th>Category</th>\n",
       "      <th>Subcategory</th>\n",
       "      <th>Color</th>\n",
       "      <th>SizeStr</th>\n",
       "      <th>IndexStr</th>\n",
       "      <th>KeyProduct</th>\n",
       "    </tr>\n",
       "  </thead>\n",
       "  <tbody>\n",
       "    <tr>\n",
       "      <th>0</th>\n",
       "      <td>Bikes Mountain</td>\n",
       "      <td>974.028973</td>\n",
       "      <td>Bikes</td>\n",
       "      <td>Mountain</td>\n",
       "      <td>Black</td>\n",
       "      <td>XS</td>\n",
       "      <td>0</td>\n",
       "      <td>BIKMOU00000</td>\n",
       "    </tr>\n",
       "    <tr>\n",
       "      <th>1</th>\n",
       "      <td>Bikes Mountain</td>\n",
       "      <td>2597.699463</td>\n",
       "      <td>Bikes</td>\n",
       "      <td>Mountain</td>\n",
       "      <td>Black</td>\n",
       "      <td>S</td>\n",
       "      <td>1</td>\n",
       "      <td>BIKMOU00001</td>\n",
       "    </tr>\n",
       "    <tr>\n",
       "      <th>2</th>\n",
       "      <td>Bikes Mountain</td>\n",
       "      <td>2260.763557</td>\n",
       "      <td>Bikes</td>\n",
       "      <td>Mountain</td>\n",
       "      <td>Black</td>\n",
       "      <td>M</td>\n",
       "      <td>2</td>\n",
       "      <td>BIKMOU00002</td>\n",
       "    </tr>\n",
       "    <tr>\n",
       "      <th>3</th>\n",
       "      <td>Bikes Mountain</td>\n",
       "      <td>720.622975</td>\n",
       "      <td>Bikes</td>\n",
       "      <td>Mountain</td>\n",
       "      <td>Black</td>\n",
       "      <td>L</td>\n",
       "      <td>3</td>\n",
       "      <td>BIKMOU00003</td>\n",
       "    </tr>\n",
       "    <tr>\n",
       "      <th>4</th>\n",
       "      <td>Bikes Mountain</td>\n",
       "      <td>7799.992997</td>\n",
       "      <td>Bikes</td>\n",
       "      <td>Mountain</td>\n",
       "      <td>Black</td>\n",
       "      <td>XL</td>\n",
       "      <td>4</td>\n",
       "      <td>BIKMOU00004</td>\n",
       "    </tr>\n",
       "  </tbody>\n",
       "</table>\n",
       "</div>"
      ],
      "text/plain": [
       "      ProductName  StandarCost Category Subcategory  Color SizeStr  IndexStr  \\\n",
       "0  Bikes Mountain   974.028973    Bikes    Mountain  Black      XS         0   \n",
       "1  Bikes Mountain  2597.699463    Bikes    Mountain  Black       S         1   \n",
       "2  Bikes Mountain  2260.763557    Bikes    Mountain  Black       M         2   \n",
       "3  Bikes Mountain   720.622975    Bikes    Mountain  Black       L         3   \n",
       "4  Bikes Mountain  7799.992997    Bikes    Mountain  Black      XL         4   \n",
       "\n",
       "    KeyProduct  \n",
       "0  BIKMOU00000  \n",
       "1  BIKMOU00001  \n",
       "2  BIKMOU00002  \n",
       "3  BIKMOU00003  \n",
       "4  BIKMOU00004  "
      ]
     },
     "metadata": {},
     "output_type": "display_data"
    }
   ],
   "source": [
    "display(pd_products.head())"
   ]
  },
  {
   "cell_type": "code",
   "execution_count": 36,
   "metadata": {},
   "outputs": [
    {
     "data": {
      "text/plain": [
       "(801, 8)"
      ]
     },
     "execution_count": 36,
     "metadata": {},
     "output_type": "execute_result"
    }
   ],
   "source": [
    "pd_products.shape"
   ]
  },
  {
   "cell_type": "markdown",
   "metadata": {},
   "source": [
    "### Inserción a la capa BRONCE\n",
    "\n",
    "Insertaremos datos a la tabla **brz_sales_mx.dim_products**"
   ]
  },
  {
   "cell_type": "code",
   "execution_count": 37,
   "metadata": {},
   "outputs": [],
   "source": [
    "# INSERT OVERWRITE\n",
    "curs_pg.execute(\"TRUNCATE brz_sales_mx.dim_products\")\n",
    "conn_pg.commit()"
   ]
  },
  {
   "cell_type": "code",
   "execution_count": 38,
   "metadata": {},
   "outputs": [],
   "source": [
    "# SENDING DATA TO POSTGRESQL\n",
    "\n",
    "# Agregando columnas de control\n",
    "pd_products['usr_load'] = config_pg['dev']['usr_developer']\n",
    "pd_products['dt_creation'] = datetime.datetime.now()\n",
    "\n",
    "tp_lst_products = list(zip(*map(pd_products.get, pd_products))) # forma de enviar datos\n",
    "\n",
    "brz_products_qry = \"\"\"INSERT INTO brz_sales_mx.dim_products (productname,standarcost,category,subcategory,color,sizestr,indexstr,keyproduct,usr_load,ts_creation) VALUES %s\"\"\"\n",
    "\n",
    "execute_values(curs_pg,\n",
    "               brz_products_qry,\n",
    "               tp_lst_products)\n",
    "\n",
    "conn_pg.commit()"
   ]
  },
  {
   "cell_type": "code",
   "execution_count": 39,
   "metadata": {},
   "outputs": [
    {
     "name": "stderr",
     "output_type": "stream",
     "text": [
      "C:\\Users\\aleja\\AppData\\Local\\Temp\\ipykernel_14528\\2003620107.py:2: UserWarning: pandas only supports SQLAlchemy connectable (engine/connection) or database string URI or sqlite3 DBAPI2 connection. Other DBAPI2 objects are not tested. Please consider using SQLAlchemy.\n",
      "  display(pd.read_sql_query(\"\"\"SELECT * FROM brz_sales_mx.dim_products\"\"\",con=conn_pg).head())\n"
     ]
    },
    {
     "data": {
      "text/html": [
       "<div>\n",
       "<style scoped>\n",
       "    .dataframe tbody tr th:only-of-type {\n",
       "        vertical-align: middle;\n",
       "    }\n",
       "\n",
       "    .dataframe tbody tr th {\n",
       "        vertical-align: top;\n",
       "    }\n",
       "\n",
       "    .dataframe thead th {\n",
       "        text-align: right;\n",
       "    }\n",
       "</style>\n",
       "<table border=\"1\" class=\"dataframe\">\n",
       "  <thead>\n",
       "    <tr style=\"text-align: right;\">\n",
       "      <th></th>\n",
       "      <th>productname</th>\n",
       "      <th>standarcost</th>\n",
       "      <th>category</th>\n",
       "      <th>subcategory</th>\n",
       "      <th>color</th>\n",
       "      <th>sizestr</th>\n",
       "      <th>indexstr</th>\n",
       "      <th>keyproduct</th>\n",
       "      <th>usr_load</th>\n",
       "      <th>ts_creation</th>\n",
       "    </tr>\n",
       "  </thead>\n",
       "  <tbody>\n",
       "    <tr>\n",
       "      <th>0</th>\n",
       "      <td>Bikes Mountain</td>\n",
       "      <td>974.028973</td>\n",
       "      <td>Bikes</td>\n",
       "      <td>Mountain</td>\n",
       "      <td>Black</td>\n",
       "      <td>XS</td>\n",
       "      <td>0</td>\n",
       "      <td>BIKMOU00000</td>\n",
       "      <td>hs_mx</td>\n",
       "      <td>2024-01-07 16:54:51.625578</td>\n",
       "    </tr>\n",
       "    <tr>\n",
       "      <th>1</th>\n",
       "      <td>Bikes Mountain</td>\n",
       "      <td>2597.699463</td>\n",
       "      <td>Bikes</td>\n",
       "      <td>Mountain</td>\n",
       "      <td>Black</td>\n",
       "      <td>S</td>\n",
       "      <td>1</td>\n",
       "      <td>BIKMOU00001</td>\n",
       "      <td>hs_mx</td>\n",
       "      <td>2024-01-07 16:54:51.625578</td>\n",
       "    </tr>\n",
       "    <tr>\n",
       "      <th>2</th>\n",
       "      <td>Bikes Mountain</td>\n",
       "      <td>2260.763557</td>\n",
       "      <td>Bikes</td>\n",
       "      <td>Mountain</td>\n",
       "      <td>Black</td>\n",
       "      <td>M</td>\n",
       "      <td>2</td>\n",
       "      <td>BIKMOU00002</td>\n",
       "      <td>hs_mx</td>\n",
       "      <td>2024-01-07 16:54:51.625578</td>\n",
       "    </tr>\n",
       "    <tr>\n",
       "      <th>3</th>\n",
       "      <td>Bikes Mountain</td>\n",
       "      <td>720.622975</td>\n",
       "      <td>Bikes</td>\n",
       "      <td>Mountain</td>\n",
       "      <td>Black</td>\n",
       "      <td>L</td>\n",
       "      <td>3</td>\n",
       "      <td>BIKMOU00003</td>\n",
       "      <td>hs_mx</td>\n",
       "      <td>2024-01-07 16:54:51.625578</td>\n",
       "    </tr>\n",
       "    <tr>\n",
       "      <th>4</th>\n",
       "      <td>Bikes Mountain</td>\n",
       "      <td>7799.992997</td>\n",
       "      <td>Bikes</td>\n",
       "      <td>Mountain</td>\n",
       "      <td>Black</td>\n",
       "      <td>XL</td>\n",
       "      <td>4</td>\n",
       "      <td>BIKMOU00004</td>\n",
       "      <td>hs_mx</td>\n",
       "      <td>2024-01-07 16:54:51.625578</td>\n",
       "    </tr>\n",
       "  </tbody>\n",
       "</table>\n",
       "</div>"
      ],
      "text/plain": [
       "      productname  standarcost category subcategory  color sizestr  indexstr  \\\n",
       "0  Bikes Mountain   974.028973    Bikes    Mountain  Black      XS         0   \n",
       "1  Bikes Mountain  2597.699463    Bikes    Mountain  Black       S         1   \n",
       "2  Bikes Mountain  2260.763557    Bikes    Mountain  Black       M         2   \n",
       "3  Bikes Mountain   720.622975    Bikes    Mountain  Black       L         3   \n",
       "4  Bikes Mountain  7799.992997    Bikes    Mountain  Black      XL         4   \n",
       "\n",
       "    keyproduct usr_load                ts_creation  \n",
       "0  BIKMOU00000    hs_mx 2024-01-07 16:54:51.625578  \n",
       "1  BIKMOU00001    hs_mx 2024-01-07 16:54:51.625578  \n",
       "2  BIKMOU00002    hs_mx 2024-01-07 16:54:51.625578  \n",
       "3  BIKMOU00003    hs_mx 2024-01-07 16:54:51.625578  \n",
       "4  BIKMOU00004    hs_mx 2024-01-07 16:54:51.625578  "
      ]
     },
     "metadata": {},
     "output_type": "display_data"
    }
   ],
   "source": [
    "# VERIFYING\n",
    "display(pd.read_sql_query(\"\"\"SELECT * FROM brz_sales_mx.dim_products\"\"\",con=conn_pg).head())"
   ]
  },
  {
   "cell_type": "code",
   "execution_count": 40,
   "metadata": {},
   "outputs": [
    {
     "name": "stderr",
     "output_type": "stream",
     "text": [
      "C:\\Users\\aleja\\AppData\\Local\\Temp\\ipykernel_14528\\3175222554.py:2: UserWarning: pandas only supports SQLAlchemy connectable (engine/connection) or database string URI or sqlite3 DBAPI2 connection. Other DBAPI2 objects are not tested. Please consider using SQLAlchemy.\n",
      "  display(pd.read_sql_query(\"\"\"SELECT COUNT(*) FROM brz_sales_mx.dim_products\"\"\",con=conn_pg).head())\n"
     ]
    },
    {
     "data": {
      "text/html": [
       "<div>\n",
       "<style scoped>\n",
       "    .dataframe tbody tr th:only-of-type {\n",
       "        vertical-align: middle;\n",
       "    }\n",
       "\n",
       "    .dataframe tbody tr th {\n",
       "        vertical-align: top;\n",
       "    }\n",
       "\n",
       "    .dataframe thead th {\n",
       "        text-align: right;\n",
       "    }\n",
       "</style>\n",
       "<table border=\"1\" class=\"dataframe\">\n",
       "  <thead>\n",
       "    <tr style=\"text-align: right;\">\n",
       "      <th></th>\n",
       "      <th>count</th>\n",
       "    </tr>\n",
       "  </thead>\n",
       "  <tbody>\n",
       "    <tr>\n",
       "      <th>0</th>\n",
       "      <td>801</td>\n",
       "    </tr>\n",
       "  </tbody>\n",
       "</table>\n",
       "</div>"
      ],
      "text/plain": [
       "   count\n",
       "0    801"
      ]
     },
     "metadata": {},
     "output_type": "display_data"
    }
   ],
   "source": [
    "# VERIFYING\n",
    "display(pd.read_sql_query(\"\"\"SELECT COUNT(*) FROM brz_sales_mx.dim_products\"\"\",con=conn_pg).head())"
   ]
  },
  {
   "cell_type": "markdown",
   "metadata": {},
   "source": [
    "### Inserción a la capa SILVER\n",
    "\n",
    "Insertaremos datos a la tabla **slv_sales_mx.dim_products**"
   ]
  },
  {
   "cell_type": "code",
   "execution_count": 41,
   "metadata": {},
   "outputs": [],
   "source": [
    "# INSERT OVERWRITE\n",
    "curs_pg.execute(\"TRUNCATE slv_sales_mx.dim_products\")\n",
    "conn_pg.commit()"
   ]
  },
  {
   "cell_type": "code",
   "execution_count": 42,
   "metadata": {},
   "outputs": [],
   "source": [
    "# TRANSFORM AND LOAD TO SILVER LAYER\n",
    "slv_products_qry = f\"\"\"\n",
    "INSERT INTO slv_sales_mx.dim_products (product_id,product_name,standar_cost,category,subcategory,color_product,size_product,usr_load,ts_creation)\n",
    "SELECT\n",
    "KEYPRODUCT AS PRODUCT_ID,\n",
    "PRODUCTNAME AS PRODUCT_NAME,\n",
    "STANDARCOST AS STANDAR_COST,\n",
    "CATEGORY,\n",
    "SUBCATEGORY,\n",
    "COLOR AS COLOR_PRODUCT,\n",
    "SIZESTR AS SIZE_PRODUCT,\n",
    "'{config_pg['dev']['usr_developer']}' AS USR_LOAD,\n",
    "CURRENT_TIMESTAMP AS TS_CREATION\n",
    "FROM brz_sales_mx.dim_products\"\"\"\n",
    "\n",
    "curs_pg.execute(slv_products_qry)\n",
    "conn_pg.commit()"
   ]
  },
  {
   "cell_type": "code",
   "execution_count": 43,
   "metadata": {},
   "outputs": [
    {
     "name": "stderr",
     "output_type": "stream",
     "text": [
      "C:\\Users\\aleja\\AppData\\Local\\Temp\\ipykernel_14528\\657760801.py:2: UserWarning: pandas only supports SQLAlchemy connectable (engine/connection) or database string URI or sqlite3 DBAPI2 connection. Other DBAPI2 objects are not tested. Please consider using SQLAlchemy.\n",
      "  display(pd.read_sql_query(\"\"\"SELECT * FROM slv_sales_mx.dim_products\"\"\",con=conn_pg).head())\n"
     ]
    },
    {
     "data": {
      "text/html": [
       "<div>\n",
       "<style scoped>\n",
       "    .dataframe tbody tr th:only-of-type {\n",
       "        vertical-align: middle;\n",
       "    }\n",
       "\n",
       "    .dataframe tbody tr th {\n",
       "        vertical-align: top;\n",
       "    }\n",
       "\n",
       "    .dataframe thead th {\n",
       "        text-align: right;\n",
       "    }\n",
       "</style>\n",
       "<table border=\"1\" class=\"dataframe\">\n",
       "  <thead>\n",
       "    <tr style=\"text-align: right;\">\n",
       "      <th></th>\n",
       "      <th>product_id</th>\n",
       "      <th>product_name</th>\n",
       "      <th>standar_cost</th>\n",
       "      <th>category</th>\n",
       "      <th>subcategory</th>\n",
       "      <th>color_product</th>\n",
       "      <th>size_product</th>\n",
       "      <th>usr_load</th>\n",
       "      <th>ts_creation</th>\n",
       "    </tr>\n",
       "  </thead>\n",
       "  <tbody>\n",
       "    <tr>\n",
       "      <th>0</th>\n",
       "      <td>BIKMOU00000</td>\n",
       "      <td>Bikes Mountain</td>\n",
       "      <td>974.03</td>\n",
       "      <td>Bikes</td>\n",
       "      <td>Mountain</td>\n",
       "      <td>Black</td>\n",
       "      <td>XS</td>\n",
       "      <td>hs_mx</td>\n",
       "      <td>2024-01-07 16:54:58.827464</td>\n",
       "    </tr>\n",
       "    <tr>\n",
       "      <th>1</th>\n",
       "      <td>BIKMOU00001</td>\n",
       "      <td>Bikes Mountain</td>\n",
       "      <td>2597.70</td>\n",
       "      <td>Bikes</td>\n",
       "      <td>Mountain</td>\n",
       "      <td>Black</td>\n",
       "      <td>S</td>\n",
       "      <td>hs_mx</td>\n",
       "      <td>2024-01-07 16:54:58.827464</td>\n",
       "    </tr>\n",
       "    <tr>\n",
       "      <th>2</th>\n",
       "      <td>BIKMOU00002</td>\n",
       "      <td>Bikes Mountain</td>\n",
       "      <td>2260.76</td>\n",
       "      <td>Bikes</td>\n",
       "      <td>Mountain</td>\n",
       "      <td>Black</td>\n",
       "      <td>M</td>\n",
       "      <td>hs_mx</td>\n",
       "      <td>2024-01-07 16:54:58.827464</td>\n",
       "    </tr>\n",
       "    <tr>\n",
       "      <th>3</th>\n",
       "      <td>BIKMOU00003</td>\n",
       "      <td>Bikes Mountain</td>\n",
       "      <td>720.62</td>\n",
       "      <td>Bikes</td>\n",
       "      <td>Mountain</td>\n",
       "      <td>Black</td>\n",
       "      <td>L</td>\n",
       "      <td>hs_mx</td>\n",
       "      <td>2024-01-07 16:54:58.827464</td>\n",
       "    </tr>\n",
       "    <tr>\n",
       "      <th>4</th>\n",
       "      <td>BIKMOU00004</td>\n",
       "      <td>Bikes Mountain</td>\n",
       "      <td>7799.99</td>\n",
       "      <td>Bikes</td>\n",
       "      <td>Mountain</td>\n",
       "      <td>Black</td>\n",
       "      <td>XL</td>\n",
       "      <td>hs_mx</td>\n",
       "      <td>2024-01-07 16:54:58.827464</td>\n",
       "    </tr>\n",
       "  </tbody>\n",
       "</table>\n",
       "</div>"
      ],
      "text/plain": [
       "    product_id    product_name  standar_cost category subcategory  \\\n",
       "0  BIKMOU00000  Bikes Mountain        974.03    Bikes    Mountain   \n",
       "1  BIKMOU00001  Bikes Mountain       2597.70    Bikes    Mountain   \n",
       "2  BIKMOU00002  Bikes Mountain       2260.76    Bikes    Mountain   \n",
       "3  BIKMOU00003  Bikes Mountain        720.62    Bikes    Mountain   \n",
       "4  BIKMOU00004  Bikes Mountain       7799.99    Bikes    Mountain   \n",
       "\n",
       "  color_product size_product usr_load                ts_creation  \n",
       "0         Black           XS    hs_mx 2024-01-07 16:54:58.827464  \n",
       "1         Black            S    hs_mx 2024-01-07 16:54:58.827464  \n",
       "2         Black            M    hs_mx 2024-01-07 16:54:58.827464  \n",
       "3         Black            L    hs_mx 2024-01-07 16:54:58.827464  \n",
       "4         Black           XL    hs_mx 2024-01-07 16:54:58.827464  "
      ]
     },
     "metadata": {},
     "output_type": "display_data"
    }
   ],
   "source": [
    "# VERIFYING\n",
    "display(pd.read_sql_query(\"\"\"SELECT * FROM slv_sales_mx.dim_products\"\"\",con=conn_pg).head())"
   ]
  },
  {
   "cell_type": "code",
   "execution_count": 44,
   "metadata": {},
   "outputs": [
    {
     "name": "stderr",
     "output_type": "stream",
     "text": [
      "C:\\Users\\aleja\\AppData\\Local\\Temp\\ipykernel_14528\\14782435.py:2: UserWarning: pandas only supports SQLAlchemy connectable (engine/connection) or database string URI or sqlite3 DBAPI2 connection. Other DBAPI2 objects are not tested. Please consider using SQLAlchemy.\n",
      "  display(pd.read_sql_query(\"\"\"SELECT COUNT(*) FROM slv_sales_mx.dim_products\"\"\",con=conn_pg).head())\n"
     ]
    },
    {
     "data": {
      "text/html": [
       "<div>\n",
       "<style scoped>\n",
       "    .dataframe tbody tr th:only-of-type {\n",
       "        vertical-align: middle;\n",
       "    }\n",
       "\n",
       "    .dataframe tbody tr th {\n",
       "        vertical-align: top;\n",
       "    }\n",
       "\n",
       "    .dataframe thead th {\n",
       "        text-align: right;\n",
       "    }\n",
       "</style>\n",
       "<table border=\"1\" class=\"dataframe\">\n",
       "  <thead>\n",
       "    <tr style=\"text-align: right;\">\n",
       "      <th></th>\n",
       "      <th>count</th>\n",
       "    </tr>\n",
       "  </thead>\n",
       "  <tbody>\n",
       "    <tr>\n",
       "      <th>0</th>\n",
       "      <td>801</td>\n",
       "    </tr>\n",
       "  </tbody>\n",
       "</table>\n",
       "</div>"
      ],
      "text/plain": [
       "   count\n",
       "0    801"
      ]
     },
     "metadata": {},
     "output_type": "display_data"
    }
   ],
   "source": [
    "# VERIFYING\n",
    "display(pd.read_sql_query(\"\"\"SELECT COUNT(*) FROM slv_sales_mx.dim_products\"\"\",con=conn_pg).head())"
   ]
  },
  {
   "cell_type": "markdown",
   "metadata": {},
   "source": [
    "## Ingesta de la tabla calendario"
   ]
  },
  {
   "cell_type": "code",
   "execution_count": 45,
   "metadata": {},
   "outputs": [
    {
     "data": {
      "text/html": [
       "<div>\n",
       "<style scoped>\n",
       "    .dataframe tbody tr th:only-of-type {\n",
       "        vertical-align: middle;\n",
       "    }\n",
       "\n",
       "    .dataframe tbody tr th {\n",
       "        vertical-align: top;\n",
       "    }\n",
       "\n",
       "    .dataframe thead th {\n",
       "        text-align: right;\n",
       "    }\n",
       "</style>\n",
       "<table border=\"1\" class=\"dataframe\">\n",
       "  <thead>\n",
       "    <tr style=\"text-align: right;\">\n",
       "      <th></th>\n",
       "      <th>Date_dt</th>\n",
       "      <th>Year_dt</th>\n",
       "      <th>Month_dt</th>\n",
       "      <th>Day_dt</th>\n",
       "      <th>WeekDay_dt</th>\n",
       "    </tr>\n",
       "  </thead>\n",
       "  <tbody>\n",
       "    <tr>\n",
       "      <th>0</th>\n",
       "      <td>2017-01-01</td>\n",
       "      <td>2017</td>\n",
       "      <td>1</td>\n",
       "      <td>1</td>\n",
       "      <td>6</td>\n",
       "    </tr>\n",
       "    <tr>\n",
       "      <th>1</th>\n",
       "      <td>2017-01-02</td>\n",
       "      <td>2017</td>\n",
       "      <td>1</td>\n",
       "      <td>2</td>\n",
       "      <td>0</td>\n",
       "    </tr>\n",
       "    <tr>\n",
       "      <th>2</th>\n",
       "      <td>2017-01-03</td>\n",
       "      <td>2017</td>\n",
       "      <td>1</td>\n",
       "      <td>3</td>\n",
       "      <td>1</td>\n",
       "    </tr>\n",
       "    <tr>\n",
       "      <th>3</th>\n",
       "      <td>2017-01-04</td>\n",
       "      <td>2017</td>\n",
       "      <td>1</td>\n",
       "      <td>4</td>\n",
       "      <td>2</td>\n",
       "    </tr>\n",
       "    <tr>\n",
       "      <th>4</th>\n",
       "      <td>2017-01-05</td>\n",
       "      <td>2017</td>\n",
       "      <td>1</td>\n",
       "      <td>5</td>\n",
       "      <td>3</td>\n",
       "    </tr>\n",
       "  </tbody>\n",
       "</table>\n",
       "</div>"
      ],
      "text/plain": [
       "      Date_dt  Year_dt  Month_dt  Day_dt  WeekDay_dt\n",
       "0  2017-01-01     2017         1       1           6\n",
       "1  2017-01-02     2017         1       2           0\n",
       "2  2017-01-03     2017         1       3           1\n",
       "3  2017-01-04     2017         1       4           2\n",
       "4  2017-01-05     2017         1       5           3"
      ]
     },
     "metadata": {},
     "output_type": "display_data"
    }
   ],
   "source": [
    "display(pd_dates.head())"
   ]
  },
  {
   "cell_type": "code",
   "execution_count": 46,
   "metadata": {},
   "outputs": [
    {
     "data": {
      "text/plain": [
       "(2922, 5)"
      ]
     },
     "execution_count": 46,
     "metadata": {},
     "output_type": "execute_result"
    }
   ],
   "source": [
    "pd_dates.shape"
   ]
  },
  {
   "cell_type": "markdown",
   "metadata": {},
   "source": [
    "### Inserción a la capa BRONCE\n",
    "\n",
    "Insertaremos datos a la tabla **brz_sales_mx.dim_calendar**"
   ]
  },
  {
   "cell_type": "code",
   "execution_count": 47,
   "metadata": {},
   "outputs": [],
   "source": [
    "# INSERT OVERWRITE\n",
    "curs_pg.execute(\"TRUNCATE brz_sales_mx.dim_calendar\")\n",
    "conn_pg.commit()"
   ]
  },
  {
   "cell_type": "code",
   "execution_count": 48,
   "metadata": {},
   "outputs": [],
   "source": [
    "# SENDING DATA TO POSTGRESQL\n",
    "\n",
    "# Agregando columnas de control\n",
    "pd_dates['usr_load'] = config_pg['dev']['usr_developer']\n",
    "pd_dates['dt_creation'] = datetime.datetime.now()\n",
    "\n",
    "tp_lst_cal = list(zip(*map(pd_dates.get, pd_dates))) # forma de enviar datos\n",
    "\n",
    "brz_cal_qry = \"\"\"INSERT INTO brz_sales_mx.dim_calendar (date_dt,year_dt,month_dt,day_dt,weekday_dt,usr_load,ts_creation) VALUES %s\"\"\"\n",
    "\n",
    "execute_values(curs_pg,\n",
    "               brz_cal_qry,\n",
    "               tp_lst_cal)\n",
    "\n",
    "conn_pg.commit()"
   ]
  },
  {
   "cell_type": "code",
   "execution_count": 49,
   "metadata": {},
   "outputs": [
    {
     "name": "stderr",
     "output_type": "stream",
     "text": [
      "C:\\Users\\aleja\\AppData\\Local\\Temp\\ipykernel_14528\\1458857122.py:2: UserWarning: pandas only supports SQLAlchemy connectable (engine/connection) or database string URI or sqlite3 DBAPI2 connection. Other DBAPI2 objects are not tested. Please consider using SQLAlchemy.\n",
      "  display(pd.read_sql_query(\"\"\"SELECT * FROM brz_sales_mx.dim_calendar\"\"\",con=conn_pg).head())\n"
     ]
    },
    {
     "data": {
      "text/html": [
       "<div>\n",
       "<style scoped>\n",
       "    .dataframe tbody tr th:only-of-type {\n",
       "        vertical-align: middle;\n",
       "    }\n",
       "\n",
       "    .dataframe tbody tr th {\n",
       "        vertical-align: top;\n",
       "    }\n",
       "\n",
       "    .dataframe thead th {\n",
       "        text-align: right;\n",
       "    }\n",
       "</style>\n",
       "<table border=\"1\" class=\"dataframe\">\n",
       "  <thead>\n",
       "    <tr style=\"text-align: right;\">\n",
       "      <th></th>\n",
       "      <th>date_dt</th>\n",
       "      <th>year_dt</th>\n",
       "      <th>month_dt</th>\n",
       "      <th>day_dt</th>\n",
       "      <th>weekday_dt</th>\n",
       "      <th>usr_load</th>\n",
       "      <th>ts_creation</th>\n",
       "    </tr>\n",
       "  </thead>\n",
       "  <tbody>\n",
       "    <tr>\n",
       "      <th>0</th>\n",
       "      <td>2017-01-01</td>\n",
       "      <td>2017</td>\n",
       "      <td>1</td>\n",
       "      <td>1</td>\n",
       "      <td>6</td>\n",
       "      <td>hs_mx</td>\n",
       "      <td>2024-01-07 17:01:42.314832</td>\n",
       "    </tr>\n",
       "    <tr>\n",
       "      <th>1</th>\n",
       "      <td>2017-01-02</td>\n",
       "      <td>2017</td>\n",
       "      <td>1</td>\n",
       "      <td>2</td>\n",
       "      <td>0</td>\n",
       "      <td>hs_mx</td>\n",
       "      <td>2024-01-07 17:01:42.314832</td>\n",
       "    </tr>\n",
       "    <tr>\n",
       "      <th>2</th>\n",
       "      <td>2017-01-03</td>\n",
       "      <td>2017</td>\n",
       "      <td>1</td>\n",
       "      <td>3</td>\n",
       "      <td>1</td>\n",
       "      <td>hs_mx</td>\n",
       "      <td>2024-01-07 17:01:42.314832</td>\n",
       "    </tr>\n",
       "    <tr>\n",
       "      <th>3</th>\n",
       "      <td>2017-01-04</td>\n",
       "      <td>2017</td>\n",
       "      <td>1</td>\n",
       "      <td>4</td>\n",
       "      <td>2</td>\n",
       "      <td>hs_mx</td>\n",
       "      <td>2024-01-07 17:01:42.314832</td>\n",
       "    </tr>\n",
       "    <tr>\n",
       "      <th>4</th>\n",
       "      <td>2017-01-05</td>\n",
       "      <td>2017</td>\n",
       "      <td>1</td>\n",
       "      <td>5</td>\n",
       "      <td>3</td>\n",
       "      <td>hs_mx</td>\n",
       "      <td>2024-01-07 17:01:42.314832</td>\n",
       "    </tr>\n",
       "  </tbody>\n",
       "</table>\n",
       "</div>"
      ],
      "text/plain": [
       "      date_dt  year_dt  month_dt  day_dt  weekday_dt usr_load  \\\n",
       "0  2017-01-01     2017         1       1           6    hs_mx   \n",
       "1  2017-01-02     2017         1       2           0    hs_mx   \n",
       "2  2017-01-03     2017         1       3           1    hs_mx   \n",
       "3  2017-01-04     2017         1       4           2    hs_mx   \n",
       "4  2017-01-05     2017         1       5           3    hs_mx   \n",
       "\n",
       "                 ts_creation  \n",
       "0 2024-01-07 17:01:42.314832  \n",
       "1 2024-01-07 17:01:42.314832  \n",
       "2 2024-01-07 17:01:42.314832  \n",
       "3 2024-01-07 17:01:42.314832  \n",
       "4 2024-01-07 17:01:42.314832  "
      ]
     },
     "metadata": {},
     "output_type": "display_data"
    }
   ],
   "source": [
    "# VERIFYING\n",
    "display(pd.read_sql_query(\"\"\"SELECT * FROM brz_sales_mx.dim_calendar\"\"\",con=conn_pg).head())"
   ]
  },
  {
   "cell_type": "code",
   "execution_count": 50,
   "metadata": {},
   "outputs": [
    {
     "name": "stderr",
     "output_type": "stream",
     "text": [
      "C:\\Users\\aleja\\AppData\\Local\\Temp\\ipykernel_14528\\2002863915.py:2: UserWarning: pandas only supports SQLAlchemy connectable (engine/connection) or database string URI or sqlite3 DBAPI2 connection. Other DBAPI2 objects are not tested. Please consider using SQLAlchemy.\n",
      "  display(pd.read_sql_query(\"\"\"SELECT COUNT(*) FROM brz_sales_mx.dim_calendar\"\"\",con=conn_pg).head())\n"
     ]
    },
    {
     "data": {
      "text/html": [
       "<div>\n",
       "<style scoped>\n",
       "    .dataframe tbody tr th:only-of-type {\n",
       "        vertical-align: middle;\n",
       "    }\n",
       "\n",
       "    .dataframe tbody tr th {\n",
       "        vertical-align: top;\n",
       "    }\n",
       "\n",
       "    .dataframe thead th {\n",
       "        text-align: right;\n",
       "    }\n",
       "</style>\n",
       "<table border=\"1\" class=\"dataframe\">\n",
       "  <thead>\n",
       "    <tr style=\"text-align: right;\">\n",
       "      <th></th>\n",
       "      <th>count</th>\n",
       "    </tr>\n",
       "  </thead>\n",
       "  <tbody>\n",
       "    <tr>\n",
       "      <th>0</th>\n",
       "      <td>2922</td>\n",
       "    </tr>\n",
       "  </tbody>\n",
       "</table>\n",
       "</div>"
      ],
      "text/plain": [
       "   count\n",
       "0   2922"
      ]
     },
     "metadata": {},
     "output_type": "display_data"
    }
   ],
   "source": [
    "# VERIFYING\n",
    "display(pd.read_sql_query(\"\"\"SELECT COUNT(*) FROM brz_sales_mx.dim_calendar\"\"\",con=conn_pg).head())"
   ]
  },
  {
   "cell_type": "markdown",
   "metadata": {},
   "source": [
    "### Inserción a la capa SILVER\n",
    "\n",
    "Insertaremos datos a la tabla **slv_sales_mx.dim_calendar**"
   ]
  },
  {
   "cell_type": "code",
   "execution_count": 51,
   "metadata": {},
   "outputs": [],
   "source": [
    "# INSERT OVERWRITE\n",
    "curs_pg.execute(\"TRUNCATE slv_sales_mx.dim_calendar\")\n",
    "conn_pg.commit()"
   ]
  },
  {
   "cell_type": "code",
   "execution_count": 52,
   "metadata": {},
   "outputs": [],
   "source": [
    "# TRANSFORM AND LOAD TO SILVER LAYER\n",
    "slv_products_qry = f\"\"\"\n",
    "INSERT INTO slv_sales_mx.dim_calendar (date_ymd,yr,mnth,dy,wk_dy,usr_load,ts_creation)\n",
    "SELECT\n",
    "DATE_DT AS DATE_YMD,\n",
    "YEAR_DT AS YR,\n",
    "MONTH_DT AS MNTH,\n",
    "DAY_DT AS DY,\n",
    "WEEKDAY_DT AS WK_DY,\n",
    "'{config_pg['dev']['usr_developer']}' AS USR_LOAD,\n",
    "CURRENT_TIMESTAMP AS TS_CREATION\n",
    "FROM brz_sales_mx.dim_calendar\"\"\"\n",
    "\n",
    "curs_pg.execute(slv_products_qry)\n",
    "conn_pg.commit()"
   ]
  },
  {
   "cell_type": "code",
   "execution_count": 53,
   "metadata": {},
   "outputs": [
    {
     "name": "stderr",
     "output_type": "stream",
     "text": [
      "C:\\Users\\aleja\\AppData\\Local\\Temp\\ipykernel_14528\\561098599.py:2: UserWarning: pandas only supports SQLAlchemy connectable (engine/connection) or database string URI or sqlite3 DBAPI2 connection. Other DBAPI2 objects are not tested. Please consider using SQLAlchemy.\n",
      "  display(pd.read_sql_query(\"\"\"SELECT * FROM slv_sales_mx.dim_calendar\"\"\",con=conn_pg).head())\n"
     ]
    },
    {
     "data": {
      "text/html": [
       "<div>\n",
       "<style scoped>\n",
       "    .dataframe tbody tr th:only-of-type {\n",
       "        vertical-align: middle;\n",
       "    }\n",
       "\n",
       "    .dataframe tbody tr th {\n",
       "        vertical-align: top;\n",
       "    }\n",
       "\n",
       "    .dataframe thead th {\n",
       "        text-align: right;\n",
       "    }\n",
       "</style>\n",
       "<table border=\"1\" class=\"dataframe\">\n",
       "  <thead>\n",
       "    <tr style=\"text-align: right;\">\n",
       "      <th></th>\n",
       "      <th>date_ymd</th>\n",
       "      <th>yr</th>\n",
       "      <th>mnth</th>\n",
       "      <th>dy</th>\n",
       "      <th>wk_dy</th>\n",
       "      <th>usr_load</th>\n",
       "      <th>ts_creation</th>\n",
       "    </tr>\n",
       "  </thead>\n",
       "  <tbody>\n",
       "    <tr>\n",
       "      <th>0</th>\n",
       "      <td>2017-01-01</td>\n",
       "      <td>2017</td>\n",
       "      <td>1</td>\n",
       "      <td>1</td>\n",
       "      <td>6</td>\n",
       "      <td>hs_mx</td>\n",
       "      <td>2024-01-07 17:08:14.068497</td>\n",
       "    </tr>\n",
       "    <tr>\n",
       "      <th>1</th>\n",
       "      <td>2017-01-02</td>\n",
       "      <td>2017</td>\n",
       "      <td>1</td>\n",
       "      <td>2</td>\n",
       "      <td>0</td>\n",
       "      <td>hs_mx</td>\n",
       "      <td>2024-01-07 17:08:14.068497</td>\n",
       "    </tr>\n",
       "    <tr>\n",
       "      <th>2</th>\n",
       "      <td>2017-01-03</td>\n",
       "      <td>2017</td>\n",
       "      <td>1</td>\n",
       "      <td>3</td>\n",
       "      <td>1</td>\n",
       "      <td>hs_mx</td>\n",
       "      <td>2024-01-07 17:08:14.068497</td>\n",
       "    </tr>\n",
       "    <tr>\n",
       "      <th>3</th>\n",
       "      <td>2017-01-04</td>\n",
       "      <td>2017</td>\n",
       "      <td>1</td>\n",
       "      <td>4</td>\n",
       "      <td>2</td>\n",
       "      <td>hs_mx</td>\n",
       "      <td>2024-01-07 17:08:14.068497</td>\n",
       "    </tr>\n",
       "    <tr>\n",
       "      <th>4</th>\n",
       "      <td>2017-01-05</td>\n",
       "      <td>2017</td>\n",
       "      <td>1</td>\n",
       "      <td>5</td>\n",
       "      <td>3</td>\n",
       "      <td>hs_mx</td>\n",
       "      <td>2024-01-07 17:08:14.068497</td>\n",
       "    </tr>\n",
       "  </tbody>\n",
       "</table>\n",
       "</div>"
      ],
      "text/plain": [
       "     date_ymd    yr  mnth  dy  wk_dy usr_load                ts_creation\n",
       "0  2017-01-01  2017     1   1      6    hs_mx 2024-01-07 17:08:14.068497\n",
       "1  2017-01-02  2017     1   2      0    hs_mx 2024-01-07 17:08:14.068497\n",
       "2  2017-01-03  2017     1   3      1    hs_mx 2024-01-07 17:08:14.068497\n",
       "3  2017-01-04  2017     1   4      2    hs_mx 2024-01-07 17:08:14.068497\n",
       "4  2017-01-05  2017     1   5      3    hs_mx 2024-01-07 17:08:14.068497"
      ]
     },
     "metadata": {},
     "output_type": "display_data"
    }
   ],
   "source": [
    "# VERIFYING\n",
    "display(pd.read_sql_query(\"\"\"SELECT * FROM slv_sales_mx.dim_calendar\"\"\",con=conn_pg).head())"
   ]
  },
  {
   "cell_type": "code",
   "execution_count": 54,
   "metadata": {},
   "outputs": [
    {
     "name": "stderr",
     "output_type": "stream",
     "text": [
      "C:\\Users\\aleja\\AppData\\Local\\Temp\\ipykernel_14528\\437622956.py:2: UserWarning: pandas only supports SQLAlchemy connectable (engine/connection) or database string URI or sqlite3 DBAPI2 connection. Other DBAPI2 objects are not tested. Please consider using SQLAlchemy.\n",
      "  display(pd.read_sql_query(\"\"\"SELECT COUNT(*) FROM slv_sales_mx.dim_calendar\"\"\",con=conn_pg).head())\n"
     ]
    },
    {
     "data": {
      "text/html": [
       "<div>\n",
       "<style scoped>\n",
       "    .dataframe tbody tr th:only-of-type {\n",
       "        vertical-align: middle;\n",
       "    }\n",
       "\n",
       "    .dataframe tbody tr th {\n",
       "        vertical-align: top;\n",
       "    }\n",
       "\n",
       "    .dataframe thead th {\n",
       "        text-align: right;\n",
       "    }\n",
       "</style>\n",
       "<table border=\"1\" class=\"dataframe\">\n",
       "  <thead>\n",
       "    <tr style=\"text-align: right;\">\n",
       "      <th></th>\n",
       "      <th>count</th>\n",
       "    </tr>\n",
       "  </thead>\n",
       "  <tbody>\n",
       "    <tr>\n",
       "      <th>0</th>\n",
       "      <td>2922</td>\n",
       "    </tr>\n",
       "  </tbody>\n",
       "</table>\n",
       "</div>"
      ],
      "text/plain": [
       "   count\n",
       "0   2922"
      ]
     },
     "metadata": {},
     "output_type": "display_data"
    }
   ],
   "source": [
    "# VERIFYING\n",
    "display(pd.read_sql_query(\"\"\"SELECT COUNT(*) FROM slv_sales_mx.dim_calendar\"\"\",con=conn_pg).head())"
   ]
  },
  {
   "cell_type": "markdown",
   "metadata": {},
   "source": [
    "## Ingesta de la tabla ventas"
   ]
  },
  {
   "cell_type": "code",
   "execution_count": 55,
   "metadata": {},
   "outputs": [
    {
     "data": {
      "text/html": [
       "<div>\n",
       "<style scoped>\n",
       "    .dataframe tbody tr th:only-of-type {\n",
       "        vertical-align: middle;\n",
       "    }\n",
       "\n",
       "    .dataframe tbody tr th {\n",
       "        vertical-align: top;\n",
       "    }\n",
       "\n",
       "    .dataframe thead th {\n",
       "        text-align: right;\n",
       "    }\n",
       "</style>\n",
       "<table border=\"1\" class=\"dataframe\">\n",
       "  <thead>\n",
       "    <tr style=\"text-align: right;\">\n",
       "      <th></th>\n",
       "      <th>OrderDate</th>\n",
       "      <th>KeyProduct</th>\n",
       "      <th>TerritoryKey</th>\n",
       "      <th>EmployeeKey</th>\n",
       "      <th>Quantity</th>\n",
       "    </tr>\n",
       "  </thead>\n",
       "  <tbody>\n",
       "    <tr>\n",
       "      <th>0</th>\n",
       "      <td>2023-01-20</td>\n",
       "      <td>CLOSHO00129</td>\n",
       "      <td>1</td>\n",
       "      <td>508</td>\n",
       "      <td>5</td>\n",
       "    </tr>\n",
       "    <tr>\n",
       "      <th>1</th>\n",
       "      <td>2020-09-13</td>\n",
       "      <td>COMCHA00355</td>\n",
       "      <td>5</td>\n",
       "      <td>545</td>\n",
       "      <td>12</td>\n",
       "    </tr>\n",
       "    <tr>\n",
       "      <th>2</th>\n",
       "      <td>2021-08-08</td>\n",
       "      <td>BIKMOU00003</td>\n",
       "      <td>11</td>\n",
       "      <td>509</td>\n",
       "      <td>14</td>\n",
       "    </tr>\n",
       "    <tr>\n",
       "      <th>3</th>\n",
       "      <td>2021-11-02</td>\n",
       "      <td>COMPED00419</td>\n",
       "      <td>3</td>\n",
       "      <td>547</td>\n",
       "      <td>7</td>\n",
       "    </tr>\n",
       "    <tr>\n",
       "      <th>4</th>\n",
       "      <td>2020-08-18</td>\n",
       "      <td>BIKROA00070</td>\n",
       "      <td>7</td>\n",
       "      <td>531</td>\n",
       "      <td>14</td>\n",
       "    </tr>\n",
       "  </tbody>\n",
       "</table>\n",
       "</div>"
      ],
      "text/plain": [
       "    OrderDate   KeyProduct  TerritoryKey  EmployeeKey  Quantity\n",
       "0  2023-01-20  CLOSHO00129             1          508         5\n",
       "1  2020-09-13  COMCHA00355             5          545        12\n",
       "2  2021-08-08  BIKMOU00003            11          509        14\n",
       "3  2021-11-02  COMPED00419             3          547         7\n",
       "4  2020-08-18  BIKROA00070             7          531        14"
      ]
     },
     "metadata": {},
     "output_type": "display_data"
    }
   ],
   "source": [
    "display(pd_sales.head())"
   ]
  },
  {
   "cell_type": "code",
   "execution_count": 56,
   "metadata": {},
   "outputs": [
    {
     "data": {
      "text/plain": [
       "(350000, 5)"
      ]
     },
     "execution_count": 56,
     "metadata": {},
     "output_type": "execute_result"
    }
   ],
   "source": [
    "pd_sales.shape"
   ]
  },
  {
   "cell_type": "markdown",
   "metadata": {},
   "source": [
    "### Inserción a la capa BRONCE\n",
    "\n",
    "Insertaremos datos a la tabla **brz_sales_mx.fact_sales**"
   ]
  },
  {
   "cell_type": "code",
   "execution_count": 57,
   "metadata": {},
   "outputs": [],
   "source": [
    "# INSERT OVERWRITE\n",
    "curs_pg.execute(\"TRUNCATE brz_sales_mx.fact_sales\")\n",
    "conn_pg.commit()"
   ]
  },
  {
   "cell_type": "code",
   "execution_count": 58,
   "metadata": {},
   "outputs": [],
   "source": [
    "# SENDING DATA TO POSTGRESQL\n",
    "\n",
    "# Agregando columnas de control\n",
    "pd_sales['usr_load'] = config_pg['dev']['usr_developer']\n",
    "pd_sales['dt_creation'] = datetime.datetime.now()\n",
    "\n",
    "tp_lst_sales = list(zip(*map(pd_sales.get, pd_sales))) # forma de enviar datos\n",
    "\n",
    "brz_sales_qry = \"\"\"INSERT INTO brz_sales_mx.fact_sales (orderdate,keyproduct,territorykey,employeekey,quantity,usr_load,ts_creation) VALUES %s\"\"\"\n",
    "\n",
    "execute_values(curs_pg,\n",
    "               brz_sales_qry,\n",
    "               tp_lst_sales)\n",
    "\n",
    "conn_pg.commit()"
   ]
  },
  {
   "cell_type": "code",
   "execution_count": 59,
   "metadata": {},
   "outputs": [
    {
     "name": "stderr",
     "output_type": "stream",
     "text": [
      "C:\\Users\\aleja\\AppData\\Local\\Temp\\ipykernel_14528\\1316616913.py:2: UserWarning: pandas only supports SQLAlchemy connectable (engine/connection) or database string URI or sqlite3 DBAPI2 connection. Other DBAPI2 objects are not tested. Please consider using SQLAlchemy.\n",
      "  display(pd.read_sql_query(\"\"\"SELECT * FROM brz_sales_mx.fact_sales\"\"\",con=conn_pg).head())\n"
     ]
    },
    {
     "data": {
      "text/html": [
       "<div>\n",
       "<style scoped>\n",
       "    .dataframe tbody tr th:only-of-type {\n",
       "        vertical-align: middle;\n",
       "    }\n",
       "\n",
       "    .dataframe tbody tr th {\n",
       "        vertical-align: top;\n",
       "    }\n",
       "\n",
       "    .dataframe thead th {\n",
       "        text-align: right;\n",
       "    }\n",
       "</style>\n",
       "<table border=\"1\" class=\"dataframe\">\n",
       "  <thead>\n",
       "    <tr style=\"text-align: right;\">\n",
       "      <th></th>\n",
       "      <th>orderdate</th>\n",
       "      <th>keyproduct</th>\n",
       "      <th>territorykey</th>\n",
       "      <th>employeekey</th>\n",
       "      <th>quantity</th>\n",
       "      <th>usr_load</th>\n",
       "      <th>ts_creation</th>\n",
       "    </tr>\n",
       "  </thead>\n",
       "  <tbody>\n",
       "    <tr>\n",
       "      <th>0</th>\n",
       "      <td>2023-01-20</td>\n",
       "      <td>CLOSHO00129</td>\n",
       "      <td>1</td>\n",
       "      <td>508</td>\n",
       "      <td>5</td>\n",
       "      <td>hs_mx</td>\n",
       "      <td>2024-01-07 17:14:39.234961</td>\n",
       "    </tr>\n",
       "    <tr>\n",
       "      <th>1</th>\n",
       "      <td>2020-09-13</td>\n",
       "      <td>COMCHA00355</td>\n",
       "      <td>5</td>\n",
       "      <td>545</td>\n",
       "      <td>12</td>\n",
       "      <td>hs_mx</td>\n",
       "      <td>2024-01-07 17:14:39.234961</td>\n",
       "    </tr>\n",
       "    <tr>\n",
       "      <th>2</th>\n",
       "      <td>2021-08-08</td>\n",
       "      <td>BIKMOU00003</td>\n",
       "      <td>11</td>\n",
       "      <td>509</td>\n",
       "      <td>14</td>\n",
       "      <td>hs_mx</td>\n",
       "      <td>2024-01-07 17:14:39.234961</td>\n",
       "    </tr>\n",
       "    <tr>\n",
       "      <th>3</th>\n",
       "      <td>2021-11-02</td>\n",
       "      <td>COMPED00419</td>\n",
       "      <td>3</td>\n",
       "      <td>547</td>\n",
       "      <td>7</td>\n",
       "      <td>hs_mx</td>\n",
       "      <td>2024-01-07 17:14:39.234961</td>\n",
       "    </tr>\n",
       "    <tr>\n",
       "      <th>4</th>\n",
       "      <td>2020-08-18</td>\n",
       "      <td>BIKROA00070</td>\n",
       "      <td>7</td>\n",
       "      <td>531</td>\n",
       "      <td>14</td>\n",
       "      <td>hs_mx</td>\n",
       "      <td>2024-01-07 17:14:39.234961</td>\n",
       "    </tr>\n",
       "  </tbody>\n",
       "</table>\n",
       "</div>"
      ],
      "text/plain": [
       "    orderdate   keyproduct  territorykey  employeekey  quantity usr_load  \\\n",
       "0  2023-01-20  CLOSHO00129             1          508         5    hs_mx   \n",
       "1  2020-09-13  COMCHA00355             5          545        12    hs_mx   \n",
       "2  2021-08-08  BIKMOU00003            11          509        14    hs_mx   \n",
       "3  2021-11-02  COMPED00419             3          547         7    hs_mx   \n",
       "4  2020-08-18  BIKROA00070             7          531        14    hs_mx   \n",
       "\n",
       "                 ts_creation  \n",
       "0 2024-01-07 17:14:39.234961  \n",
       "1 2024-01-07 17:14:39.234961  \n",
       "2 2024-01-07 17:14:39.234961  \n",
       "3 2024-01-07 17:14:39.234961  \n",
       "4 2024-01-07 17:14:39.234961  "
      ]
     },
     "metadata": {},
     "output_type": "display_data"
    }
   ],
   "source": [
    "# VERIFYING\n",
    "display(pd.read_sql_query(\"\"\"SELECT * FROM brz_sales_mx.fact_sales\"\"\",con=conn_pg).head())"
   ]
  },
  {
   "cell_type": "code",
   "execution_count": 60,
   "metadata": {},
   "outputs": [
    {
     "name": "stderr",
     "output_type": "stream",
     "text": [
      "C:\\Users\\aleja\\AppData\\Local\\Temp\\ipykernel_14528\\3665173318.py:2: UserWarning: pandas only supports SQLAlchemy connectable (engine/connection) or database string URI or sqlite3 DBAPI2 connection. Other DBAPI2 objects are not tested. Please consider using SQLAlchemy.\n",
      "  display(pd.read_sql_query(\"\"\"SELECT COUNT(*) FROM brz_sales_mx.fact_sales\"\"\",con=conn_pg).head())\n"
     ]
    },
    {
     "data": {
      "text/html": [
       "<div>\n",
       "<style scoped>\n",
       "    .dataframe tbody tr th:only-of-type {\n",
       "        vertical-align: middle;\n",
       "    }\n",
       "\n",
       "    .dataframe tbody tr th {\n",
       "        vertical-align: top;\n",
       "    }\n",
       "\n",
       "    .dataframe thead th {\n",
       "        text-align: right;\n",
       "    }\n",
       "</style>\n",
       "<table border=\"1\" class=\"dataframe\">\n",
       "  <thead>\n",
       "    <tr style=\"text-align: right;\">\n",
       "      <th></th>\n",
       "      <th>count</th>\n",
       "    </tr>\n",
       "  </thead>\n",
       "  <tbody>\n",
       "    <tr>\n",
       "      <th>0</th>\n",
       "      <td>350000</td>\n",
       "    </tr>\n",
       "  </tbody>\n",
       "</table>\n",
       "</div>"
      ],
      "text/plain": [
       "    count\n",
       "0  350000"
      ]
     },
     "metadata": {},
     "output_type": "display_data"
    }
   ],
   "source": [
    "# VERIFYING\n",
    "display(pd.read_sql_query(\"\"\"SELECT COUNT(*) FROM brz_sales_mx.fact_sales\"\"\",con=conn_pg).head())"
   ]
  },
  {
   "cell_type": "markdown",
   "metadata": {},
   "source": [
    "### Inserción a la capa SILVER\n",
    "\n",
    "Insertaremos datos a la tabla **slv_sales_mx.fact_sales**"
   ]
  },
  {
   "cell_type": "code",
   "execution_count": 61,
   "metadata": {},
   "outputs": [],
   "source": [
    "# INSERT OVERWRITE\n",
    "curs_pg.execute(\"TRUNCATE slv_sales_mx.fact_sales\")\n",
    "conn_pg.commit()"
   ]
  },
  {
   "cell_type": "code",
   "execution_count": 62,
   "metadata": {},
   "outputs": [],
   "source": [
    "# TRANSFORM AND LOAD TO SILVER LAYER\n",
    "slv_sales_qry = f\"\"\"\n",
    "INSERT INTO slv_sales_mx.fact_sales (order_date,product_id,territory_id,employee_id,quantity,usr_load,ts_creation)\n",
    "SELECT\n",
    "ORDERDATE AS ORDER_DATE,\n",
    "KEYPRODUCT AS PRODUCT_ID,\n",
    "TERRITORYKEY AS TERRITORY_ID,\n",
    "EMPLOYEEKEY AS EMPLOYEE_ID,\n",
    "QUANTITY AS QUANTITY,\n",
    "'{config_pg['dev']['usr_developer']}' AS USR_LOAD,\n",
    "CURRENT_TIMESTAMP AS TS_CREATION\n",
    "FROM brz_sales_mx.fact_sales\"\"\"\n",
    "\n",
    "curs_pg.execute(slv_sales_qry)\n",
    "conn_pg.commit()"
   ]
  },
  {
   "cell_type": "code",
   "execution_count": 63,
   "metadata": {},
   "outputs": [
    {
     "name": "stderr",
     "output_type": "stream",
     "text": [
      "C:\\Users\\aleja\\AppData\\Local\\Temp\\ipykernel_14528\\488979418.py:2: UserWarning: pandas only supports SQLAlchemy connectable (engine/connection) or database string URI or sqlite3 DBAPI2 connection. Other DBAPI2 objects are not tested. Please consider using SQLAlchemy.\n",
      "  display(pd.read_sql_query(\"\"\"SELECT * FROM slv_sales_mx.fact_sales\"\"\",con=conn_pg).head())\n"
     ]
    },
    {
     "data": {
      "text/html": [
       "<div>\n",
       "<style scoped>\n",
       "    .dataframe tbody tr th:only-of-type {\n",
       "        vertical-align: middle;\n",
       "    }\n",
       "\n",
       "    .dataframe tbody tr th {\n",
       "        vertical-align: top;\n",
       "    }\n",
       "\n",
       "    .dataframe thead th {\n",
       "        text-align: right;\n",
       "    }\n",
       "</style>\n",
       "<table border=\"1\" class=\"dataframe\">\n",
       "  <thead>\n",
       "    <tr style=\"text-align: right;\">\n",
       "      <th></th>\n",
       "      <th>order_date</th>\n",
       "      <th>product_id</th>\n",
       "      <th>territory_id</th>\n",
       "      <th>employee_id</th>\n",
       "      <th>quantity</th>\n",
       "      <th>usr_load</th>\n",
       "      <th>ts_creation</th>\n",
       "    </tr>\n",
       "  </thead>\n",
       "  <tbody>\n",
       "    <tr>\n",
       "      <th>0</th>\n",
       "      <td>2023-01-20</td>\n",
       "      <td>CLOSHO00129</td>\n",
       "      <td>1</td>\n",
       "      <td>508</td>\n",
       "      <td>5</td>\n",
       "      <td>hs_mx</td>\n",
       "      <td>2024-01-07 17:20:06.130650</td>\n",
       "    </tr>\n",
       "    <tr>\n",
       "      <th>1</th>\n",
       "      <td>2020-09-13</td>\n",
       "      <td>COMCHA00355</td>\n",
       "      <td>5</td>\n",
       "      <td>545</td>\n",
       "      <td>12</td>\n",
       "      <td>hs_mx</td>\n",
       "      <td>2024-01-07 17:20:06.130650</td>\n",
       "    </tr>\n",
       "    <tr>\n",
       "      <th>2</th>\n",
       "      <td>2021-08-08</td>\n",
       "      <td>BIKMOU00003</td>\n",
       "      <td>11</td>\n",
       "      <td>509</td>\n",
       "      <td>14</td>\n",
       "      <td>hs_mx</td>\n",
       "      <td>2024-01-07 17:20:06.130650</td>\n",
       "    </tr>\n",
       "    <tr>\n",
       "      <th>3</th>\n",
       "      <td>2021-11-02</td>\n",
       "      <td>COMPED00419</td>\n",
       "      <td>3</td>\n",
       "      <td>547</td>\n",
       "      <td>7</td>\n",
       "      <td>hs_mx</td>\n",
       "      <td>2024-01-07 17:20:06.130650</td>\n",
       "    </tr>\n",
       "    <tr>\n",
       "      <th>4</th>\n",
       "      <td>2020-08-18</td>\n",
       "      <td>BIKROA00070</td>\n",
       "      <td>7</td>\n",
       "      <td>531</td>\n",
       "      <td>14</td>\n",
       "      <td>hs_mx</td>\n",
       "      <td>2024-01-07 17:20:06.130650</td>\n",
       "    </tr>\n",
       "  </tbody>\n",
       "</table>\n",
       "</div>"
      ],
      "text/plain": [
       "   order_date   product_id  territory_id  employee_id  quantity usr_load  \\\n",
       "0  2023-01-20  CLOSHO00129             1          508         5    hs_mx   \n",
       "1  2020-09-13  COMCHA00355             5          545        12    hs_mx   \n",
       "2  2021-08-08  BIKMOU00003            11          509        14    hs_mx   \n",
       "3  2021-11-02  COMPED00419             3          547         7    hs_mx   \n",
       "4  2020-08-18  BIKROA00070             7          531        14    hs_mx   \n",
       "\n",
       "                 ts_creation  \n",
       "0 2024-01-07 17:20:06.130650  \n",
       "1 2024-01-07 17:20:06.130650  \n",
       "2 2024-01-07 17:20:06.130650  \n",
       "3 2024-01-07 17:20:06.130650  \n",
       "4 2024-01-07 17:20:06.130650  "
      ]
     },
     "metadata": {},
     "output_type": "display_data"
    }
   ],
   "source": [
    "# VERIFYING\n",
    "display(pd.read_sql_query(\"\"\"SELECT * FROM slv_sales_mx.fact_sales\"\"\",con=conn_pg).head())"
   ]
  },
  {
   "cell_type": "code",
   "execution_count": 64,
   "metadata": {},
   "outputs": [
    {
     "name": "stderr",
     "output_type": "stream",
     "text": [
      "C:\\Users\\aleja\\AppData\\Local\\Temp\\ipykernel_14528\\1543923431.py:2: UserWarning: pandas only supports SQLAlchemy connectable (engine/connection) or database string URI or sqlite3 DBAPI2 connection. Other DBAPI2 objects are not tested. Please consider using SQLAlchemy.\n",
      "  display(pd.read_sql_query(\"\"\"SELECT COUNT(*) FROM slv_sales_mx.fact_sales\"\"\",con=conn_pg).head())\n"
     ]
    },
    {
     "data": {
      "text/html": [
       "<div>\n",
       "<style scoped>\n",
       "    .dataframe tbody tr th:only-of-type {\n",
       "        vertical-align: middle;\n",
       "    }\n",
       "\n",
       "    .dataframe tbody tr th {\n",
       "        vertical-align: top;\n",
       "    }\n",
       "\n",
       "    .dataframe thead th {\n",
       "        text-align: right;\n",
       "    }\n",
       "</style>\n",
       "<table border=\"1\" class=\"dataframe\">\n",
       "  <thead>\n",
       "    <tr style=\"text-align: right;\">\n",
       "      <th></th>\n",
       "      <th>count</th>\n",
       "    </tr>\n",
       "  </thead>\n",
       "  <tbody>\n",
       "    <tr>\n",
       "      <th>0</th>\n",
       "      <td>350000</td>\n",
       "    </tr>\n",
       "  </tbody>\n",
       "</table>\n",
       "</div>"
      ],
      "text/plain": [
       "    count\n",
       "0  350000"
      ]
     },
     "metadata": {},
     "output_type": "display_data"
    }
   ],
   "source": [
    "# VERIFYING\n",
    "display(pd.read_sql_query(\"\"\"SELECT COUNT(*) FROM slv_sales_mx.fact_sales\"\"\",con=conn_pg).head())"
   ]
  },
  {
   "cell_type": "code",
   "execution_count": 65,
   "metadata": {},
   "outputs": [],
   "source": [
    "conn_pg.close()"
   ]
  },
  {
   "cell_type": "code",
   "execution_count": 66,
   "metadata": {},
   "outputs": [],
   "source": [
    "curs_pg.close()"
   ]
  }
 ],
 "metadata": {
  "kernelspec": {
   "display_name": "Python 3",
   "language": "python",
   "name": "python3"
  },
  "language_info": {
   "codemirror_mode": {
    "name": "ipython",
    "version": 3
   },
   "file_extension": ".py",
   "mimetype": "text/x-python",
   "name": "python",
   "nbconvert_exporter": "python",
   "pygments_lexer": "ipython3",
   "version": "3.11.4"
  }
 },
 "nbformat": 4,
 "nbformat_minor": 2
}
