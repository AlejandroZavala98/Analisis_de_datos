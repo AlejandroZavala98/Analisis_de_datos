{
 "cells": [
  {
   "cell_type": "markdown",
   "id": "d6934634",
   "metadata": {},
   "source": [
    "# Creando una base de datos con Python"
   ]
  },
  {
   "cell_type": "code",
   "execution_count": 1,
   "id": "fb53bb19",
   "metadata": {},
   "outputs": [],
   "source": [
    "import sqlite3\n",
    "import pandas as pd"
   ]
  },
  {
   "cell_type": "markdown",
   "id": "471371be",
   "metadata": {},
   "source": [
    "Antes de iniciar se debe dar un previo contexto de lo que se tiene:\n",
    "\n",
    "1. Se ha creado la base de datos db_ventas.db con ayuda de **DB Browser (SQLite)**\n",
    "2. La base de datos db_ventas se creo con la ayuda del diagrama anexado, por cuestiones de prácticas se tomo el diagrama anexado (Foto siguiente)\n",
    "3. Se crearon 2 tablas por medio de **DB Browser (SQLite)** siendo las tablas **'CLIENTES'** Y **'FACTURAS'** \n",
    "\n",
    "Nota: el código para crear las 2 tablas se anexa en **.\\Resources\\Ventas**\n",
    "\n",
    "<img src=\"./Resources_DB/Ventas/Modelando_Ventas.jpg\">\n",
    "\n",
    "El siguiente código muestra las tablas existentes en la base de datos"
   ]
  },
  {
   "cell_type": "code",
   "execution_count": 2,
   "id": "2c482b2c",
   "metadata": {},
   "outputs": [
    {
     "name": "stdout",
     "output_type": "stream",
     "text": [
      "('CLIENTES',)\n",
      "('FACTURAS',)\n"
     ]
    }
   ],
   "source": [
    "path_db = './Resources_DB/Ventas/DataBase_Ventas.db'\n",
    "\n",
    "con = sqlite3.connect(path_db)\n",
    "cur = con.cursor()\n",
    "\n",
    "for renglon in cur.execute('''SELECT name\n",
    "                              FROM sqlite_master \n",
    "                              WHERE type = \"table\"'''):\n",
    "    print(renglon)\n",
    "    \n",
    "#Cerramos la conexion\n",
    "con.close()"
   ]
  },
  {
   "cell_type": "code",
   "execution_count": 3,
   "id": "942d916a",
   "metadata": {},
   "outputs": [
    {
     "data": {
      "text/html": [
       "<div>\n",
       "<style scoped>\n",
       "    .dataframe tbody tr th:only-of-type {\n",
       "        vertical-align: middle;\n",
       "    }\n",
       "\n",
       "    .dataframe tbody tr th {\n",
       "        vertical-align: top;\n",
       "    }\n",
       "\n",
       "    .dataframe thead th {\n",
       "        text-align: right;\n",
       "    }\n",
       "</style>\n",
       "<table border=\"1\" class=\"dataframe\">\n",
       "  <thead>\n",
       "    <tr style=\"text-align: right;\">\n",
       "      <th></th>\n",
       "      <th>cid</th>\n",
       "      <th>name</th>\n",
       "      <th>type</th>\n",
       "      <th>notnull</th>\n",
       "      <th>dflt_value</th>\n",
       "      <th>pk</th>\n",
       "    </tr>\n",
       "  </thead>\n",
       "  <tbody>\n",
       "    <tr>\n",
       "      <th>0</th>\n",
       "      <td>0</td>\n",
       "      <td>ID_CLIENTE</td>\n",
       "      <td>TEXT</td>\n",
       "      <td>1</td>\n",
       "      <td>None</td>\n",
       "      <td>1</td>\n",
       "    </tr>\n",
       "    <tr>\n",
       "      <th>1</th>\n",
       "      <td>1</td>\n",
       "      <td>NOMBRE</td>\n",
       "      <td>TEXT</td>\n",
       "      <td>1</td>\n",
       "      <td>None</td>\n",
       "      <td>0</td>\n",
       "    </tr>\n",
       "    <tr>\n",
       "      <th>2</th>\n",
       "      <td>2</td>\n",
       "      <td>DIRECCION</td>\n",
       "      <td>TEXT</td>\n",
       "      <td>0</td>\n",
       "      <td>None</td>\n",
       "      <td>0</td>\n",
       "    </tr>\n",
       "    <tr>\n",
       "      <th>3</th>\n",
       "      <td>3</td>\n",
       "      <td>TELEFONO</td>\n",
       "      <td>INTEGER</td>\n",
       "      <td>0</td>\n",
       "      <td>None</td>\n",
       "      <td>0</td>\n",
       "    </tr>\n",
       "  </tbody>\n",
       "</table>\n",
       "</div>"
      ],
      "text/plain": [
       "   cid        name     type  notnull dflt_value  pk\n",
       "0    0  ID_CLIENTE     TEXT        1       None   1\n",
       "1    1      NOMBRE     TEXT        1       None   0\n",
       "2    2   DIRECCION     TEXT        0       None   0\n",
       "3    3    TELEFONO  INTEGER        0       None   0"
      ]
     },
     "metadata": {},
     "output_type": "display_data"
    }
   ],
   "source": [
    "# Similar a describe in SQL\n",
    "\n",
    "con = sqlite3.connect(path_db)\n",
    "\n",
    "df_describe = pd.read_sql_query(\"\"\"PRAGMA table_info(CLIENTES);\"\"\", con)\n",
    "\n",
    "display(df_describe)\n",
    "\n",
    "con.close()"
   ]
  },
  {
   "cell_type": "code",
   "execution_count": 4,
   "id": "534a2019",
   "metadata": {},
   "outputs": [
    {
     "data": {
      "text/html": [
       "<div>\n",
       "<style scoped>\n",
       "    .dataframe tbody tr th:only-of-type {\n",
       "        vertical-align: middle;\n",
       "    }\n",
       "\n",
       "    .dataframe tbody tr th {\n",
       "        vertical-align: top;\n",
       "    }\n",
       "\n",
       "    .dataframe thead th {\n",
       "        text-align: right;\n",
       "    }\n",
       "</style>\n",
       "<table border=\"1\" class=\"dataframe\">\n",
       "  <thead>\n",
       "    <tr style=\"text-align: right;\">\n",
       "      <th></th>\n",
       "      <th>cid</th>\n",
       "      <th>name</th>\n",
       "      <th>type</th>\n",
       "      <th>notnull</th>\n",
       "      <th>dflt_value</th>\n",
       "      <th>pk</th>\n",
       "    </tr>\n",
       "  </thead>\n",
       "  <tbody>\n",
       "    <tr>\n",
       "      <th>0</th>\n",
       "      <td>0</td>\n",
       "      <td>ID_FACTURA</td>\n",
       "      <td>TEXT</td>\n",
       "      <td>1</td>\n",
       "      <td>None</td>\n",
       "      <td>0</td>\n",
       "    </tr>\n",
       "    <tr>\n",
       "      <th>1</th>\n",
       "      <td>1</td>\n",
       "      <td>FECHA</td>\n",
       "      <td>INTEGER</td>\n",
       "      <td>0</td>\n",
       "      <td>None</td>\n",
       "      <td>0</td>\n",
       "    </tr>\n",
       "    <tr>\n",
       "      <th>2</th>\n",
       "      <td>2</td>\n",
       "      <td>ID_CLIENTE</td>\n",
       "      <td>INTEGER</td>\n",
       "      <td>1</td>\n",
       "      <td>None</td>\n",
       "      <td>0</td>\n",
       "    </tr>\n",
       "  </tbody>\n",
       "</table>\n",
       "</div>"
      ],
      "text/plain": [
       "   cid        name     type  notnull dflt_value  pk\n",
       "0    0  ID_FACTURA     TEXT        1       None   0\n",
       "1    1       FECHA  INTEGER        0       None   0\n",
       "2    2  ID_CLIENTE  INTEGER        1       None   0"
      ]
     },
     "metadata": {},
     "output_type": "display_data"
    }
   ],
   "source": [
    "# Similar a describe in SQL\n",
    "\n",
    "con = sqlite3.connect(path_db)\n",
    "\n",
    "df_describe = pd.read_sql_query(\"\"\"PRAGMA table_info(FACTURAS);\"\"\", con)\n",
    "\n",
    "display(df_describe)\n",
    "\n",
    "con.close()"
   ]
  },
  {
   "cell_type": "markdown",
   "id": "d0ac18ff",
   "metadata": {},
   "source": [
    "Definimos una funcion que nos ayude a establecer una conexion a la base de datos"
   ]
  },
  {
   "cell_type": "code",
   "execution_count": 5,
   "id": "86711cde",
   "metadata": {},
   "outputs": [],
   "source": [
    "def sql_conexion(path):\n",
    "    try:\n",
    "        conexion_path = sqlite3.connect(path)\n",
    "        cursor_obj = conexion_path.cursor()\n",
    "        return conexion_path,cursor_obj\n",
    "    except Exception as e:\n",
    "        print(e)"
   ]
  },
  {
   "cell_type": "code",
   "execution_count": 6,
   "id": "62786daf",
   "metadata": {},
   "outputs": [],
   "source": [
    "con,cur = sql_conexion(path_db)"
   ]
  },
  {
   "cell_type": "markdown",
   "id": "d8176f48",
   "metadata": {},
   "source": [
    "## Creando tabla CATEGORIAS"
   ]
  },
  {
   "cell_type": "code",
   "execution_count": 7,
   "id": "d2976f67",
   "metadata": {},
   "outputs": [],
   "source": [
    "con.execute(\"\"\"CREATE TABLE CATEGORIAS(\n",
    "               \"ID_CATEGORIA\" TEXT NOT NULL UNIQUE,\n",
    "               \"DESCRIPCION\" TEXT NOT NULL UNIQUE,\n",
    "               PRIMARY KEY(\"ID_CATEGORIA\"));\"\"\")\n",
    "con.commit()"
   ]
  },
  {
   "cell_type": "code",
   "execution_count": 8,
   "id": "a5111c86",
   "metadata": {},
   "outputs": [
    {
     "data": {
      "text/html": [
       "<div>\n",
       "<style scoped>\n",
       "    .dataframe tbody tr th:only-of-type {\n",
       "        vertical-align: middle;\n",
       "    }\n",
       "\n",
       "    .dataframe tbody tr th {\n",
       "        vertical-align: top;\n",
       "    }\n",
       "\n",
       "    .dataframe thead th {\n",
       "        text-align: right;\n",
       "    }\n",
       "</style>\n",
       "<table border=\"1\" class=\"dataframe\">\n",
       "  <thead>\n",
       "    <tr style=\"text-align: right;\">\n",
       "      <th></th>\n",
       "      <th>name</th>\n",
       "    </tr>\n",
       "  </thead>\n",
       "  <tbody>\n",
       "    <tr>\n",
       "      <th>0</th>\n",
       "      <td>CLIENTES</td>\n",
       "    </tr>\n",
       "    <tr>\n",
       "      <th>1</th>\n",
       "      <td>FACTURAS</td>\n",
       "    </tr>\n",
       "    <tr>\n",
       "      <th>2</th>\n",
       "      <td>CATEGORIAS</td>\n",
       "    </tr>\n",
       "  </tbody>\n",
       "</table>\n",
       "</div>"
      ],
      "text/plain": [
       "         name\n",
       "0    CLIENTES\n",
       "1    FACTURAS\n",
       "2  CATEGORIAS"
      ]
     },
     "metadata": {},
     "output_type": "display_data"
    }
   ],
   "source": [
    "df_tables = pd.read_sql_query('''SELECT name\n",
    "                              FROM sqlite_master \n",
    "                              WHERE type = \"table\"''', con)\n",
    "\n",
    "display(df_tables)"
   ]
  },
  {
   "cell_type": "markdown",
   "id": "e384571e",
   "metadata": {},
   "source": [
    "## Creando tabla PROVEEDORES"
   ]
  },
  {
   "cell_type": "code",
   "execution_count": 9,
   "id": "f1d02f5a",
   "metadata": {},
   "outputs": [],
   "source": [
    "con.execute(\"\"\"CREATE TABLE PROVEEDORES(\n",
    "               \"ID_PROVEEDOR\" TEXT NOT NULL UNIQUE,\n",
    "               \"NOMBRE\" TEXT NOT NULL,\n",
    "               \"DIRECCION\" TEXT,\n",
    "               \"TELEFONO\" NUMERIC,\n",
    "               PRIMARY KEY(\"ID_PROVEEDOR\"));\"\"\")\n",
    "con.commit()"
   ]
  },
  {
   "cell_type": "code",
   "execution_count": 10,
   "id": "559e7916",
   "metadata": {},
   "outputs": [
    {
     "data": {
      "text/html": [
       "<div>\n",
       "<style scoped>\n",
       "    .dataframe tbody tr th:only-of-type {\n",
       "        vertical-align: middle;\n",
       "    }\n",
       "\n",
       "    .dataframe tbody tr th {\n",
       "        vertical-align: top;\n",
       "    }\n",
       "\n",
       "    .dataframe thead th {\n",
       "        text-align: right;\n",
       "    }\n",
       "</style>\n",
       "<table border=\"1\" class=\"dataframe\">\n",
       "  <thead>\n",
       "    <tr style=\"text-align: right;\">\n",
       "      <th></th>\n",
       "      <th>name</th>\n",
       "    </tr>\n",
       "  </thead>\n",
       "  <tbody>\n",
       "    <tr>\n",
       "      <th>0</th>\n",
       "      <td>CLIENTES</td>\n",
       "    </tr>\n",
       "    <tr>\n",
       "      <th>1</th>\n",
       "      <td>FACTURAS</td>\n",
       "    </tr>\n",
       "    <tr>\n",
       "      <th>2</th>\n",
       "      <td>CATEGORIAS</td>\n",
       "    </tr>\n",
       "    <tr>\n",
       "      <th>3</th>\n",
       "      <td>PROVEEDORES</td>\n",
       "    </tr>\n",
       "  </tbody>\n",
       "</table>\n",
       "</div>"
      ],
      "text/plain": [
       "          name\n",
       "0     CLIENTES\n",
       "1     FACTURAS\n",
       "2   CATEGORIAS\n",
       "3  PROVEEDORES"
      ]
     },
     "metadata": {},
     "output_type": "display_data"
    }
   ],
   "source": [
    "df_tables = pd.read_sql_query('''SELECT name\n",
    "                              FROM sqlite_master \n",
    "                              WHERE type = \"table\"''', con)\n",
    "\n",
    "display(df_tables)"
   ]
  },
  {
   "cell_type": "markdown",
   "id": "07ddf628",
   "metadata": {},
   "source": [
    "## Creando tabla PRODUCTOS"
   ]
  },
  {
   "cell_type": "code",
   "execution_count": 11,
   "id": "be1afe6c",
   "metadata": {},
   "outputs": [],
   "source": [
    "con.execute(\"\"\"CREATE TABLE PRODUCTOS(\n",
    "               \"ID_PRODUCTO\" TEXT NOT NULL UNIQUE,\n",
    "               \"DESCRIPCION\" TEXT,\n",
    "               \"PRECIO\" REAL NOT NULL,\n",
    "               \"ID_CATEGORIA\" TEXT NOT NULL UNIQUE,\n",
    "               \"ID_PROVEEDOR\" TEXT NOT NULL UNIQUE,\n",
    "               PRIMARY KEY(\"ID_PRODUCTO\"),\n",
    "               FOREIGN KEY(\"ID_CATEGORIA\") REFERENCES \"CATEGORIAS\"(\"ID_CATEGORIA\")\n",
    "               FOREIGN KEY(\"ID_PROVEEDOR\") REFERENCES \"PROVEEDORES\"(\"ID_PROVEEDOR\")\n",
    "               );\"\"\")\n",
    "con.commit()"
   ]
  },
  {
   "cell_type": "code",
   "execution_count": 12,
   "id": "81e3629b",
   "metadata": {},
   "outputs": [
    {
     "data": {
      "text/html": [
       "<div>\n",
       "<style scoped>\n",
       "    .dataframe tbody tr th:only-of-type {\n",
       "        vertical-align: middle;\n",
       "    }\n",
       "\n",
       "    .dataframe tbody tr th {\n",
       "        vertical-align: top;\n",
       "    }\n",
       "\n",
       "    .dataframe thead th {\n",
       "        text-align: right;\n",
       "    }\n",
       "</style>\n",
       "<table border=\"1\" class=\"dataframe\">\n",
       "  <thead>\n",
       "    <tr style=\"text-align: right;\">\n",
       "      <th></th>\n",
       "      <th>name</th>\n",
       "    </tr>\n",
       "  </thead>\n",
       "  <tbody>\n",
       "    <tr>\n",
       "      <th>0</th>\n",
       "      <td>CLIENTES</td>\n",
       "    </tr>\n",
       "    <tr>\n",
       "      <th>1</th>\n",
       "      <td>FACTURAS</td>\n",
       "    </tr>\n",
       "    <tr>\n",
       "      <th>2</th>\n",
       "      <td>CATEGORIAS</td>\n",
       "    </tr>\n",
       "    <tr>\n",
       "      <th>3</th>\n",
       "      <td>PROVEEDORES</td>\n",
       "    </tr>\n",
       "    <tr>\n",
       "      <th>4</th>\n",
       "      <td>PRODUCTOS</td>\n",
       "    </tr>\n",
       "  </tbody>\n",
       "</table>\n",
       "</div>"
      ],
      "text/plain": [
       "          name\n",
       "0     CLIENTES\n",
       "1     FACTURAS\n",
       "2   CATEGORIAS\n",
       "3  PROVEEDORES\n",
       "4    PRODUCTOS"
      ]
     },
     "metadata": {},
     "output_type": "display_data"
    }
   ],
   "source": [
    "df_tables = pd.read_sql_query('''SELECT name\n",
    "                              FROM sqlite_master \n",
    "                              WHERE type = \"table\"''', con)\n",
    "\n",
    "display(df_tables)"
   ]
  },
  {
   "cell_type": "markdown",
   "id": "0d46b298",
   "metadata": {},
   "source": [
    "## Creando tabla VENTAS"
   ]
  },
  {
   "cell_type": "code",
   "execution_count": 13,
   "id": "14121db9",
   "metadata": {},
   "outputs": [],
   "source": [
    "con.execute(\"\"\"CREATE TABLE VENTAS(\n",
    "               \"ID_VENTA\" TEXT NOT NULL UNIQUE,\n",
    "               \"ID_FACTURA\" TEXT NOT NULL UNIQUE,\n",
    "               \"ID_PRODUCTO\" REAL NOT NULL UNIQUE,\n",
    "               \"CANTIDAD\" INT NOT NULL UNIQUE,\n",
    "               PRIMARY KEY(\"ID_VENTA\"),\n",
    "               FOREIGN KEY(\"ID_FACTURA\") REFERENCES \"FACTURAS\"(\"ID_FACTURA\")\n",
    "               FOREIGN KEY(\"ID_PRODUCTO\") REFERENCES \"PRODUCTOS\"(\"ID_PRODUCTO\")\n",
    "               );\"\"\")\n",
    "con.commit()"
   ]
  },
  {
   "cell_type": "code",
   "execution_count": 14,
   "id": "931861c7",
   "metadata": {},
   "outputs": [
    {
     "data": {
      "text/html": [
       "<div>\n",
       "<style scoped>\n",
       "    .dataframe tbody tr th:only-of-type {\n",
       "        vertical-align: middle;\n",
       "    }\n",
       "\n",
       "    .dataframe tbody tr th {\n",
       "        vertical-align: top;\n",
       "    }\n",
       "\n",
       "    .dataframe thead th {\n",
       "        text-align: right;\n",
       "    }\n",
       "</style>\n",
       "<table border=\"1\" class=\"dataframe\">\n",
       "  <thead>\n",
       "    <tr style=\"text-align: right;\">\n",
       "      <th></th>\n",
       "      <th>name</th>\n",
       "    </tr>\n",
       "  </thead>\n",
       "  <tbody>\n",
       "    <tr>\n",
       "      <th>0</th>\n",
       "      <td>CLIENTES</td>\n",
       "    </tr>\n",
       "    <tr>\n",
       "      <th>1</th>\n",
       "      <td>FACTURAS</td>\n",
       "    </tr>\n",
       "    <tr>\n",
       "      <th>2</th>\n",
       "      <td>CATEGORIAS</td>\n",
       "    </tr>\n",
       "    <tr>\n",
       "      <th>3</th>\n",
       "      <td>PROVEEDORES</td>\n",
       "    </tr>\n",
       "    <tr>\n",
       "      <th>4</th>\n",
       "      <td>PRODUCTOS</td>\n",
       "    </tr>\n",
       "    <tr>\n",
       "      <th>5</th>\n",
       "      <td>VENTAS</td>\n",
       "    </tr>\n",
       "  </tbody>\n",
       "</table>\n",
       "</div>"
      ],
      "text/plain": [
       "          name\n",
       "0     CLIENTES\n",
       "1     FACTURAS\n",
       "2   CATEGORIAS\n",
       "3  PROVEEDORES\n",
       "4    PRODUCTOS\n",
       "5       VENTAS"
      ]
     },
     "metadata": {},
     "output_type": "display_data"
    }
   ],
   "source": [
    "df_tables = pd.read_sql_query('''SELECT name\n",
    "                              FROM sqlite_master \n",
    "                              WHERE type = \"table\"''', con)\n",
    "\n",
    "display(df_tables)"
   ]
  },
  {
   "cell_type": "code",
   "execution_count": 15,
   "id": "c9966860",
   "metadata": {},
   "outputs": [],
   "source": [
    "con.close()"
   ]
  }
 ],
 "metadata": {
  "kernelspec": {
   "display_name": "Python 3 (ipykernel)",
   "language": "python",
   "name": "python3"
  },
  "language_info": {
   "codemirror_mode": {
    "name": "ipython",
    "version": 3
   },
   "file_extension": ".py",
   "mimetype": "text/x-python",
   "name": "python",
   "nbconvert_exporter": "python",
   "pygments_lexer": "ipython3",
   "version": "3.11.4"
  }
 },
 "nbformat": 4,
 "nbformat_minor": 5
}
